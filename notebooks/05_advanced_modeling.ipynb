{
 "cells": [
  {
   "cell_type": "markdown",
   "metadata": {},
   "source": [
    "# Phase 4.2: Advanced Model Development\n",
    "\n",
    "This notebook implements advanced machine learning models (XGBoost, LightGBM) with hyperparameter optimization and comprehensive evaluation.\n",
    "\n",
    "## Objectives\n",
    "1. Load baseline model results for comparison\n",
    "2. Train XGBoost and LightGBM models\n",
    "3. Perform hyperparameter optimization using Optuna\n",
    "4. Compare all models with comprehensive metrics\n",
    "5. Implement SHAP analysis for interpretability\n",
    "6. Select best performing model for production"
   ]
  },
  {
   "cell_type": "code",
   "execution_count": 1,
   "metadata": {},
   "outputs": [
    {
     "name": "stdout",
     "output_type": "stream",
     "text": [
      "Phase 4.2: Advanced Model Development\n",
      "========================================\n",
      "Analysis date: 2025-08-16 00:21:59\n"
     ]
    }
   ],
   "source": [
    "import sys\n",
    "import warnings\n",
    "from datetime import datetime\n",
    "\n",
    "import matplotlib.pyplot as plt\n",
    "import numpy as np\n",
    "import pandas as pd\n",
    "import seaborn as sns\n",
    "from sklearn.model_selection import train_test_split\n",
    "from sklearn.preprocessing import StandardScaler\n",
    "\n",
    "warnings.filterwarnings(\"ignore\")\n",
    "\n",
    "# Add src to path for imports\n",
    "sys.path.append(\"../src\")\n",
    "\n",
    "from models.ensemble_models import (\n",
    "    EnsembleModelOptimizer,\n",
    "    LightGBMChurnModel,\n",
    "    ModelComparison,\n",
    "    XGBoostChurnModel,\n",
    "    analyze_model_with_shap,\n",
    ")\n",
    "\n",
    "# Set plotting style\n",
    "plt.style.use(\"default\")\n",
    "sns.set_palette(\"husl\")\n",
    "plt.rcParams[\"figure.figsize\"] = (12, 8)\n",
    "\n",
    "print(\"Phase 4.2: Advanced Model Development\")\n",
    "print(\"=\" * 40)\n",
    "print(f\"Analysis date: {datetime.now().strftime('%Y-%m-%d %H:%M:%S')}\")"
   ]
  },
  {
   "cell_type": "markdown",
   "metadata": {},
   "source": [
    "## 1. Load Data and Prepare for Advanced Modeling"
   ]
  },
  {
   "cell_type": "code",
   "execution_count": 2,
   "metadata": {},
   "outputs": [
    {
     "name": "stdout",
     "output_type": "stream",
     "text": [
      "Loading processed features...\n",
      "Loaded dataset with 226 users and 55 columns\n",
      "  Churn rate: 47.3%\n",
      "  Features available: 53\n",
      "\n",
      "Feature matrix shape: (226, 53)\n",
      "Target distribution: {False: np.int64(119), True: np.int64(107)}\n"
     ]
    }
   ],
   "source": [
    "# Load the processed feature data from Phase 3\n",
    "print(\"Loading processed features...\")\n",
    "try:\n",
    "    dataset = pd.read_csv(\"../data/processed/features_selected.csv\")\n",
    "    print(f\"Loaded dataset with {len(dataset)} users and {len(dataset.columns)} columns\")\n",
    "\n",
    "    # Display basic info\n",
    "    print(f\"  Churn rate: {dataset['is_churned'].mean():.1%}\")\n",
    "    print(f\"  Features available: {len(dataset.columns) - 2}\")  # Subtract userId and is_churned\n",
    "\n",
    "except Exception as e:\n",
    "    print(f\"Error loading data: {e}\")\n",
    "    raise\n",
    "\n",
    "# Prepare features and target\n",
    "feature_cols = [col for col in dataset.columns if col not in [\"userId\", \"is_churned\"]]\n",
    "X = dataset[feature_cols].copy()\n",
    "y = dataset[\"is_churned\"].copy()\n",
    "\n",
    "# Handle any missing values\n",
    "numeric_cols = X.select_dtypes(include=[np.number]).columns\n",
    "X[numeric_cols] = X[numeric_cols].fillna(X[numeric_cols].median())\n",
    "\n",
    "print(f\"\\nFeature matrix shape: {X.shape}\")\n",
    "print(f\"Target distribution: {dict(y.value_counts())}\")"
   ]
  },
  {
   "cell_type": "code",
   "execution_count": 3,
   "metadata": {},
   "outputs": [
    {
     "name": "stdout",
     "output_type": "stream",
     "text": [
      "Data splits:\n",
      "  Training: 135 samples (59.7%)\n",
      "  Validation: 45 samples (19.9%)\n",
      "  Test: 46 samples (20.4%)\n",
      "\n",
      "Churn rates by split:\n",
      "  Training: 47.4%\n",
      "  Validation: 46.7%\n",
      "  Test: 47.8%\n"
     ]
    }
   ],
   "source": [
    "# Create train/val/test splits (same as baseline for fair comparison)\n",
    "X_train, X_test, y_train, y_test = train_test_split(\n",
    "    X, y, test_size=0.2, random_state=42, stratify=y\n",
    ")\n",
    "\n",
    "X_train, X_val, y_train, y_val = train_test_split(\n",
    "    X_train, y_train, test_size=0.25, random_state=42, stratify=y_train\n",
    ")\n",
    "\n",
    "print(\"Data splits:\")\n",
    "print(f\"  Training: {len(X_train)} samples ({len(X_train)/len(X):.1%})\")\n",
    "print(f\"  Validation: {len(X_val)} samples ({len(X_val)/len(X):.1%})\")\n",
    "print(f\"  Test: {len(X_test)} samples ({len(X_test)/len(X):.1%})\")\n",
    "\n",
    "print(\"\\nChurn rates by split:\")\n",
    "print(f\"  Training: {y_train.mean():.1%}\")\n",
    "print(f\"  Validation: {y_val.mean():.1%}\")\n",
    "print(f\"  Test: {y_test.mean():.1%}\")"
   ]
  },
  {
   "cell_type": "markdown",
   "metadata": {},
   "source": [
    "## 2. Baseline Model Results (for Comparison)"
   ]
  },
  {
   "cell_type": "code",
   "execution_count": 5,
   "metadata": {},
   "outputs": [
    {
     "name": "stdout",
     "output_type": "stream",
     "text": [
      "Training baseline logistic regression model...\n",
      "Baseline model trained\n",
      "  Test AUC-ROC: 0.9981\n",
      "  Test F1: 0.9343\n",
      "  Training time: 0.00s\n"
     ]
    }
   ],
   "source": [
    "# Train baseline model for comparison\n",
    "print(\"Training baseline logistic regression model...\")\n",
    "\n",
    "# Since our dataset doesn't have temporal data suitable for the baseline model's\n",
    "# temporal splitting, we'll create a simple logistic regression baseline directly\n",
    "import time\n",
    "\n",
    "from sklearn.linear_model import LogisticRegression\n",
    "from sklearn.metrics import classification_report, roc_auc_score\n",
    "\n",
    "# Scale features for logistic regression\n",
    "scaler = StandardScaler()\n",
    "X_train_scaled = scaler.fit_transform(X_train)\n",
    "X_val_scaled = scaler.transform(X_val)\n",
    "X_test_scaled = scaler.transform(X_test)\n",
    "\n",
    "# Train simple logistic regression\n",
    "start_time = time.time()\n",
    "baseline_lr = LogisticRegression(class_weight=\"balanced\", random_state=42, max_iter=1000)\n",
    "baseline_lr.fit(X_train_scaled, y_train)\n",
    "training_time = time.time() - start_time\n",
    "\n",
    "# Evaluate on test set\n",
    "y_test_pred_proba = baseline_lr.predict_proba(X_test_scaled)[:, 1]\n",
    "y_test_pred = baseline_lr.predict(X_test_scaled)\n",
    "\n",
    "test_auc = roc_auc_score(y_test, y_test_pred_proba)\n",
    "test_report = classification_report(y_test, y_test_pred, output_dict=True)\n",
    "\n",
    "# Create baseline_results in the expected format\n",
    "baseline_results = {\n",
    "    \"test_metrics\": {\n",
    "        \"auc_roc\": test_auc,\n",
    "        \"f1_score\": test_report[\"weighted avg\"][\"f1-score\"],\n",
    "        \"precision\": test_report[\"weighted avg\"][\"precision\"],\n",
    "        \"recall\": test_report[\"weighted avg\"][\"recall\"]\n",
    "    },\n",
    "    \"training_history\": {\n",
    "        \"training_time_seconds\": training_time\n",
    "    }\n",
    "}\n",
    "\n",
    "print(\"Baseline model trained\")\n",
    "print(f\"  Test AUC-ROC: {baseline_results['test_metrics']['auc_roc']:.4f}\")\n",
    "print(f\"  Test F1: {baseline_results['test_metrics']['f1_score']:.4f}\")\n",
    "print(f\"  Training time: {baseline_results['training_history']['training_time_seconds']:.2f}s\")"
   ]
  },
  {
   "cell_type": "markdown",
   "metadata": {},
   "source": [
    "## 3. XGBoost Model Training"
   ]
  },
  {
   "cell_type": "code",
   "execution_count": 6,
   "metadata": {},
   "outputs": [
    {
     "name": "stderr",
     "output_type": "stream",
     "text": [
      "INFO:models.ensemble_models:Initialized XGBoost with parameters: {'objective': 'binary:logistic', 'eval_metric': 'auc', 'max_depth': 6, 'learning_rate': 0.1, 'n_estimators': 100, 'subsample': 0.8, 'colsample_bytree': 0.8, 'random_state': 42, 'early_stopping_rounds': 10, 'scale_pos_weight': 1}\n",
      "INFO:models.ensemble_models:Adjusted scale_pos_weight to 1.109\n",
      "INFO:models.ensemble_models:Training XGBoost on 135 samples...\n"
     ]
    },
    {
     "name": "stdout",
     "output_type": "stream",
     "text": [
      "Training XGBoost model...\n"
     ]
    },
    {
     "name": "stderr",
     "output_type": "stream",
     "text": [
      "INFO:models.ensemble_models:Training completed in 0.22 seconds\n",
      "INFO:models.ensemble_models:XGBoost evaluation completed:\n",
      "INFO:models.ensemble_models:  Test AUC-ROC: 0.9962\n",
      "INFO:models.ensemble_models:  Test F1: 0.9778\n"
     ]
    },
    {
     "name": "stdout",
     "output_type": "stream",
     "text": [
      "XGBoost model trained\n",
      "  Test AUC-ROC: 0.9962\n",
      "  Test F1: 0.9778\n",
      "  Training time: 0.22s\n"
     ]
    },
    {
     "name": "stderr",
     "output_type": "stream",
     "text": [
      "INFO:models.ensemble_models:Training completed in 0.19 seconds\n"
     ]
    },
    {
     "name": "stderr",
     "output_type": "stream",
     "text": [
      "INFO:models.ensemble_models:XGBoost evaluation completed:\n"
     ]
    },
    {
     "name": "stderr",
     "output_type": "stream",
     "text": [
      "INFO:models.ensemble_models:  Test AUC-ROC: 0.9962\n"
     ]
    },
    {
     "name": "stderr",
     "output_type": "stream",
     "text": [
      "INFO:models.ensemble_models:  Test F1: 0.9778\n"
     ]
    },
    {
     "name": "stdout",
     "output_type": "stream",
     "text": [
      "✓ XGBoost model trained\n",
      "  Test AUC-ROC: 0.9962\n",
      "  Test F1: 0.9778\n",
      "  Training time: 0.19s\n"
     ]
    }
   ],
   "source": [
    "# Train XGBoost with default parameters first\n",
    "print(\"Training XGBoost model...\")\n",
    "\n",
    "xgb_model = XGBoostChurnModel()\n",
    "xgb_results = xgb_model.train_and_evaluate(X_train, y_train, X_test, y_test, X_val, y_val)\n",
    "\n",
    "print(\"XGBoost model trained\")\n",
    "print(f\"  Test AUC-ROC: {xgb_results['test_metrics']['auc_roc']:.4f}\")\n",
    "print(f\"  Test F1: {xgb_results['test_metrics']['f1_score']:.4f}\")\n",
    "print(f\"  Training time: {xgb_results['training_history']['training_time_seconds']:.2f}s\")"
   ]
  },
  {
   "cell_type": "code",
   "execution_count": 7,
   "metadata": {},
   "outputs": [
    {
     "name": "stdout",
     "output_type": "stream",
     "text": [
      "\n",
      "Top 15 XGBoost Features by Importance:\n",
      "--------------------------------------------------\n",
      "45. explicit_churn_events               0.4652\n",
      " 7. active_days_last_14d                0.2112\n",
      "48. downgrade_submit_events             0.1672\n",
      "12. days_since_last_activity            0.1442\n",
      "11. avg_events_per_day_last_30d         0.0122\n",
      " 5. active_days_last_7d                 0.0000\n",
      " 4. events_last_7d                      0.0000\n",
      " 3. avg_events_per_day                  0.0000\n",
      " 6. session_frequency_last_7d           0.0000\n",
      " 9. active_days_last_30d                0.0000\n",
      " 8. avg_events_per_day_last_14d         0.0000\n",
      "10. songs_last_30d                      0.0000\n",
      "13. total_engagement_actions            0.0000\n",
      "14. thumbs_up_ratio                     0.0000\n",
      "15. thumbs_down_ratio                   0.0000\n"
     ]
    },
    {
     "data": {
      "image/png": "[encoded data removed]",
      "text/plain": [
       "<Figure size 1200x800 with 1 Axes>"
      ]
     },
     "metadata": {},
     "output_type": "display_data"
    }
   ],
   "source": [
    "# Display XGBoost feature importance\n",
    "print(\"\\nTop 15 XGBoost Features by Importance:\")\n",
    "print(\"-\" * 50)\n",
    "xgb_importance = xgb_results[\"feature_importance\"].head(15)\n",
    "for i, row in xgb_importance.iterrows():\n",
    "    print(f\"{i+1:2d}. {row['feature']:<35} {row['importance']:.4f}\")\n",
    "\n",
    "# Plot feature importance\n",
    "plt.figure(figsize=(12, 8))\n",
    "top_features = xgb_importance.head(20)\n",
    "plt.barh(range(len(top_features)), top_features[\"importance\"])\n",
    "plt.yticks(range(len(top_features)), top_features[\"feature\"])\n",
    "plt.xlabel(\"Feature Importance\")\n",
    "plt.title(\"XGBoost Top 20 Feature Importance\")\n",
    "plt.gca().invert_yaxis()\n",
    "plt.tight_layout()\n",
    "plt.show()"
   ]
  },
  {
   "cell_type": "markdown",
   "metadata": {},
   "source": [
    "## 4. LightGBM Model Training"
   ]
  },
  {
   "cell_type": "code",
   "execution_count": 8,
   "metadata": {},
   "outputs": [
    {
     "name": "stderr",
     "output_type": "stream",
     "text": [
      "INFO:models.ensemble_models:Initialized LightGBM with parameters: {'objective': 'binary', 'metric': 'auc', 'boosting_type': 'gbdt', 'num_leaves': 31, 'learning_rate': 0.1, 'n_estimators': 100, 'subsample': 0.8, 'colsample_bytree': 0.8, 'random_state': 42, 'early_stopping_rounds': 10, 'verbose': -1}\n",
      "INFO:models.ensemble_models:Training LightGBM on 135 samples...\n"
     ]
    },
    {
     "name": "stdout",
     "output_type": "stream",
     "text": [
      "Training LightGBM model...\n"
     ]
    },
    {
     "name": "stderr",
     "output_type": "stream",
     "text": [
      "INFO:models.ensemble_models:Training completed in 0.29 seconds\n",
      "INFO:models.ensemble_models:LightGBM evaluation completed:\n",
      "INFO:models.ensemble_models:  Test AUC-ROC: 0.9924\n",
      "INFO:models.ensemble_models:  Test F1: 0.9000\n"
     ]
    },
    {
     "name": "stdout",
     "output_type": "stream",
     "text": [
      "LightGBM model trained\n",
      "  Test AUC-ROC: 0.9924\n",
      "  Test F1: 0.9000\n",
      "  Training time: 0.29s\n"
     ]
    },
    {
     "name": "stderr",
     "output_type": "stream",
     "text": [
      "INFO:models.ensemble_models:LightGBM evaluation completed:\n"
     ]
    },
    {
     "name": "stderr",
     "output_type": "stream",
     "text": [
      "INFO:models.ensemble_models:  Test AUC-ROC: 0.9924\n"
     ]
    },
    {
     "name": "stderr",
     "output_type": "stream",
     "text": [
      "INFO:models.ensemble_models:  Test F1: 0.9000\n"
     ]
    },
    {
     "name": "stdout",
     "output_type": "stream",
     "text": [
      "✓ LightGBM model trained\n",
      "  Test AUC-ROC: 0.9924\n",
      "  Test F1: 0.9000\n",
      "  Training time: 0.07s\n"
     ]
    }
   ],
   "source": [
    "# Train LightGBM with default parameters\n",
    "print(\"Training LightGBM model...\")\n",
    "\n",
    "lgb_model = LightGBMChurnModel()\n",
    "lgb_results = lgb_model.train_and_evaluate(X_train, y_train, X_test, y_test, X_val, y_val)\n",
    "\n",
    "print(\"LightGBM model trained\")\n",
    "print(f\"  Test AUC-ROC: {lgb_results['test_metrics']['auc_roc']:.4f}\")\n",
    "print(f\"  Test F1: {lgb_results['test_metrics']['f1_score']:.4f}\")\n",
    "print(f\"  Training time: {lgb_results['training_history']['training_time_seconds']:.2f}s\")"
   ]
  },
  {
   "cell_type": "code",
   "execution_count": 9,
   "metadata": {},
   "outputs": [
    {
     "name": "stdout",
     "output_type": "stream",
     "text": [
      "\n",
      "Top 15 LightGBM Features by Importance:\n",
      "--------------------------------------------------\n",
      " 8. avg_events_per_day_last_14d         2.0000\n",
      "45. explicit_churn_events               2.0000\n",
      " 2. activity_span_days                  1.0000\n",
      " 1. total_events                        1.0000\n",
      " 4. events_last_7d                      0.0000\n",
      " 5. active_days_last_7d                 0.0000\n",
      " 6. session_frequency_last_7d           0.0000\n",
      " 7. active_days_last_14d                0.0000\n",
      " 9. active_days_last_30d                0.0000\n",
      "10. songs_last_30d                      0.0000\n",
      "11. avg_events_per_day_last_30d         0.0000\n",
      "12. days_since_last_activity            0.0000\n",
      "13. total_engagement_actions            0.0000\n",
      "14. thumbs_up_ratio                     0.0000\n",
      "15. thumbs_down_ratio                   0.0000\n"
     ]
    },
    {
     "data": {
      "image/png": "[encoded data removed]",
      "text/plain": [
       "<Figure size 1600x800 with 2 Axes>"
      ]
     },
     "metadata": {},
     "output_type": "display_data"
    }
   ],
   "source": [
    "# Display LightGBM feature importance\n",
    "print(\"\\nTop 15 LightGBM Features by Importance:\")\n",
    "print(\"-\" * 50)\n",
    "lgb_importance = lgb_results[\"feature_importance\"].head(15)\n",
    "for i, row in lgb_importance.iterrows():\n",
    "    print(f\"{i+1:2d}. {row['feature']:<35} {row['importance']:.4f}\")\n",
    "\n",
    "# Plot feature importance comparison\n",
    "fig, (ax1, ax2) = plt.subplots(1, 2, figsize=(16, 8))\n",
    "\n",
    "# XGBoost importance\n",
    "top_xgb = xgb_results[\"feature_importance\"].head(15)\n",
    "ax1.barh(range(len(top_xgb)), top_xgb[\"importance\"], color=\"skyblue\")\n",
    "ax1.set_yticks(range(len(top_xgb)))\n",
    "ax1.set_yticklabels(top_xgb[\"feature\"])\n",
    "ax1.set_xlabel(\"Feature Importance\")\n",
    "ax1.set_title(\"XGBoost Feature Importance\")\n",
    "ax1.invert_yaxis()\n",
    "\n",
    "# LightGBM importance\n",
    "top_lgb = lgb_results[\"feature_importance\"].head(15)\n",
    "ax2.barh(range(len(top_lgb)), top_lgb[\"importance\"], color=\"lightcoral\")\n",
    "ax2.set_yticks(range(len(top_lgb)))\n",
    "ax2.set_yticklabels(top_lgb[\"feature\"])\n",
    "ax2.set_xlabel(\"Feature Importance\")\n",
    "ax2.set_title(\"LightGBM Feature Importance\")\n",
    "ax2.invert_yaxis()\n",
    "\n",
    "plt.tight_layout()\n",
    "plt.show()"
   ]
  },
  {
   "cell_type": "markdown",
   "metadata": {},
   "source": [
    "## 5. Hyperparameter Optimization"
   ]
  },
  {
   "cell_type": "code",
   "execution_count": 10,
   "metadata": {},
   "outputs": [
    {
     "name": "stderr",
     "output_type": "stream",
     "text": [
      "INFO:models.ensemble_models:Starting hyperparameter optimization for xgboost...\n",
      "INFO:models.ensemble_models:Running 50 trials\n",
      "[I 2025-08-16 00:22:32,702] A new study created in memory with name: no-name-1ac10700-e8ea-44bd-9966-9ba956eebce3\n",
      "INFO:models.ensemble_models:Initialized XGBoost with parameters: {'objective': 'binary:logistic', 'eval_metric': 'auc', 'max_depth': 4, 'learning_rate': 0.0230418698262463, 'n_estimators': 146, 'subsample': 0.7978431340556982, 'colsample_bytree': 0.6421601109768413, 'random_state': 42, 'early_stopping_rounds': 10, 'scale_pos_weight': 1, 'reg_alpha': 5.309449937609724, 'reg_lambda': 2.3730503755738064}\n",
      "INFO:models.ensemble_models:Adjusted scale_pos_weight to 1.109\n",
      "INFO:models.ensemble_models:Training XGBoost on 135 samples...\n",
      "INFO:models.ensemble_models:Training completed in 0.09 seconds\n",
      "[I 2025-08-16 00:22:32,802] Trial 0 finished with value: 1.0 and parameters: {'max_depth': 4, 'learning_rate': 0.0230418698262463, 'n_estimators': 146, 'subsample': 0.7978431340556982, 'colsample_bytree': 0.6421601109768413, 'reg_alpha': 5.309449937609724, 'reg_lambda': 2.3730503755738064}. Best is trial 0 with value: 1.0.\n",
      "INFO:models.ensemble_models:Initialized XGBoost with parameters: {'objective': 'binary:logistic', 'eval_metric': 'auc', 'max_depth': 10, 'learning_rate': 0.04750540252789851, 'n_estimators': 131, 'subsample': 0.6304157661657359, 'colsample_bytree': 0.7893996114282935, 'random_state': 42, 'early_stopping_rounds': 10, 'scale_pos_weight': 1, 'reg_alpha': 0.47275306171888243, 'reg_lambda': 8.858544855157177}\n",
      "INFO:models.ensemble_models:Adjusted scale_pos_weight to 1.109\n",
      "INFO:models.ensemble_models:Training XGBoost on 135 samples...\n",
      "INFO:models.ensemble_models:Training completed in 0.01 seconds\n",
      "[I 2025-08-16 00:22:32,819] Trial 1 finished with value: 1.0 and parameters: {'max_depth': 10, 'learning_rate': 0.04750540252789851, 'n_estimators': 131, 'subsample': 0.6304157661657359, 'colsample_bytree': 0.7893996114282935, 'reg_alpha': 0.47275306171888243, 'reg_lambda': 8.858544855157177}. Best is trial 0 with value: 1.0.\n",
      "INFO:models.ensemble_models:Initialized XGBoost with parameters: {'objective': 'binary:logistic', 'eval_metric': 'auc', 'max_depth': 10, 'learning_rate': 0.030623802750902086, 'n_estimators': 291, 'subsample': 0.630496037688116, 'colsample_bytree': 0.6982181295648437, 'random_state': 42, 'early_stopping_rounds': 10, 'scale_pos_weight': 1, 'reg_alpha': 1.5813240896748926, 'reg_lambda': 1.7392060094998152}\n",
      "INFO:models.ensemble_models:Adjusted scale_pos_weight to 1.109\n",
      "INFO:models.ensemble_models:Training XGBoost on 135 samples...\n",
      "INFO:models.ensemble_models:Training completed in 0.01 seconds\n",
      "[I 2025-08-16 00:22:32,836] Trial 2 finished with value: 1.0 and parameters: {'max_depth': 10, 'learning_rate': 0.030623802750902086, 'n_estimators': 291, 'subsample': 0.630496037688116, 'colsample_bytree': 0.6982181295648437, 'reg_alpha': 1.5813240896748926, 'reg_lambda': 1.7392060094998152}. Best is trial 0 with value: 1.0.\n",
      "INFO:models.ensemble_models:Initialized XGBoost with parameters: {'objective': 'binary:logistic', 'eval_metric': 'auc', 'max_depth': 4, 'learning_rate': 0.15497767182736222, 'n_estimators': 129, 'subsample': 0.6194869716274046, 'colsample_bytree': 0.7446434209394958, 'random_state': 42, 'early_stopping_rounds': 10, 'scale_pos_weight': 1, 'reg_alpha': 7.833158492503429, 'reg_lambda': 4.129569232403237}\n",
      "INFO:models.ensemble_models:Adjusted scale_pos_weight to 1.109\n",
      "INFO:models.ensemble_models:Training XGBoost on 135 samples...\n",
      "INFO:models.ensemble_models:Training completed in 0.01 seconds\n",
      "[I 2025-08-16 00:22:32,853] Trial 3 finished with value: 1.0 and parameters: {'max_depth': 4, 'learning_rate': 0.15497767182736222, 'n_estimators': 129, 'subsample': 0.6194869716274046, 'colsample_bytree': 0.7446434209394958, 'reg_alpha': 7.833158492503429, 'reg_lambda': 4.129569232403237}. Best is trial 0 with value: 1.0.\n",
      "INFO:models.ensemble_models:Initialized XGBoost with parameters: {'objective': 'binary:logistic', 'eval_metric': 'auc', 'max_depth': 7, 'learning_rate': 0.029199418753492693, 'n_estimators': 240, 'subsample': 0.8285223777237681, 'colsample_bytree': 0.974813987446431, 'random_state': 42, 'early_stopping_rounds': 10, 'scale_pos_weight': 1, 'reg_alpha': 9.67467894786621, 'reg_lambda': 5.170545105144976}\n",
      "INFO:models.ensemble_models:Adjusted scale_pos_weight to 1.109\n",
      "INFO:models.ensemble_models:Training XGBoost on 135 samples...\n",
      "INFO:models.ensemble_models:Training completed in 0.01 seconds\n",
      "[I 2025-08-16 00:22:32,865] Trial 4 finished with value: 1.0 and parameters: {'max_depth': 7, 'learning_rate': 0.029199418753492693, 'n_estimators': 240, 'subsample': 0.8285223777237681, 'colsample_bytree': 0.974813987446431, 'reg_alpha': 9.67467894786621, 'reg_lambda': 5.170545105144976}. Best is trial 0 with value: 1.0.\n",
      "INFO:models.ensemble_models:Initialized XGBoost with parameters: {'objective': 'binary:logistic', 'eval_metric': 'auc', 'max_depth': 5, 'learning_rate': 0.09668202600495897, 'n_estimators': 266, 'subsample': 0.6751004405271998, 'colsample_bytree': 0.8244595974092801, 'random_state': 42, 'early_stopping_rounds': 10, 'scale_pos_weight': 1, 'reg_alpha': 2.261335209380709, 'reg_lambda': 5.473131537462508}\n",
      "INFO:models.ensemble_models:Adjusted scale_pos_weight to 1.109\n",
      "INFO:models.ensemble_models:Training XGBoost on 135 samples...\n",
      "INFO:models.ensemble_models:Training completed in 0.01 seconds\n",
      "[I 2025-08-16 00:22:32,877] Trial 5 finished with value: 1.0 and parameters: {'max_depth': 5, 'learning_rate': 0.09668202600495897, 'n_estimators': 266, 'subsample': 0.6751004405271998, 'colsample_bytree': 0.8244595974092801, 'reg_alpha': 2.261335209380709, 'reg_lambda': 5.473131537462508}. Best is trial 0 with value: 1.0.\n",
      "INFO:models.ensemble_models:Initialized XGBoost with parameters: {'objective': 'binary:logistic', 'eval_metric': 'auc', 'max_depth': 10, 'learning_rate': 0.023218564527938128, 'n_estimators': 89, 'subsample': 0.787046388710184, 'colsample_bytree': 0.6617298397422345, 'random_state': 42, 'early_stopping_rounds': 10, 'scale_pos_weight': 1, 'reg_alpha': 7.172357312825669, 'reg_lambda': 2.0117022429312694}\n",
      "INFO:models.ensemble_models:Adjusted scale_pos_weight to 1.109\n",
      "INFO:models.ensemble_models:Training XGBoost on 135 samples...\n",
      "INFO:models.ensemble_models:Training completed in 0.02 seconds\n",
      "[I 2025-08-16 00:22:32,901] Trial 6 finished with value: 1.0 and parameters: {'max_depth': 10, 'learning_rate': 0.023218564527938128, 'n_estimators': 89, 'subsample': 0.787046388710184, 'colsample_bytree': 0.6617298397422345, 'reg_alpha': 7.172357312825669, 'reg_lambda': 2.0117022429312694}. Best is trial 0 with value: 1.0.\n",
      "INFO:models.ensemble_models:Initialized XGBoost with parameters: {'objective': 'binary:logistic', 'eval_metric': 'auc', 'max_depth': 7, 'learning_rate': 0.04267328705335356, 'n_estimators': 263, 'subsample': 0.9310114782301198, 'colsample_bytree': 0.9334909511751149, 'random_state': 42, 'early_stopping_rounds': 10, 'scale_pos_weight': 1, 'reg_alpha': 6.369470178253137, 'reg_lambda': 9.974871484266908}\n"
     ]
    },
    {
     "name": "stdout",
     "output_type": "stream",
     "text": [
      "Running hyperparameter optimization for XGBoost...\n",
      "(This may take several minutes)\n"
     ]
    },
    {
     "name": "stderr",
     "output_type": "stream",
     "text": [
      "INFO:models.ensemble_models:Adjusted scale_pos_weight to 1.109\n",
      "INFO:models.ensemble_models:Training XGBoost on 135 samples...\n",
      "INFO:models.ensemble_models:Training completed in 0.01 seconds\n",
      "[I 2025-08-16 00:22:32,915] Trial 7 finished with value: 1.0 and parameters: {'max_depth': 7, 'learning_rate': 0.04267328705335356, 'n_estimators': 263, 'subsample': 0.9310114782301198, 'colsample_bytree': 0.9334909511751149, 'reg_alpha': 6.369470178253137, 'reg_lambda': 9.974871484266908}. Best is trial 0 with value: 1.0.\n",
      "INFO:models.ensemble_models:Initialized XGBoost with parameters: {'objective': 'binary:logistic', 'eval_metric': 'auc', 'max_depth': 9, 'learning_rate': 0.08732069562938978, 'n_estimators': 289, 'subsample': 0.9564098305098689, 'colsample_bytree': 0.661489115973843, 'random_state': 42, 'early_stopping_rounds': 10, 'scale_pos_weight': 1, 'reg_alpha': 1.827018728335904, 'reg_lambda': 3.522580215207322}\n",
      "INFO:models.ensemble_models:Adjusted scale_pos_weight to 1.109\n",
      "INFO:models.ensemble_models:Training XGBoost on 135 samples...\n",
      "INFO:models.ensemble_models:Training completed in 0.02 seconds\n",
      "[I 2025-08-16 00:22:32,936] Trial 8 finished with value: 1.0 and parameters: {'max_depth': 9, 'learning_rate': 0.08732069562938978, 'n_estimators': 289, 'subsample': 0.9564098305098689, 'colsample_bytree': 0.661489115973843, 'reg_alpha': 1.827018728335904, 'reg_lambda': 3.522580215207322}. Best is trial 0 with value: 1.0.\n",
      "INFO:models.ensemble_models:Initialized XGBoost with parameters: {'objective': 'binary:logistic', 'eval_metric': 'auc', 'max_depth': 10, 'learning_rate': 0.03286985551864398, 'n_estimators': 82, 'subsample': 0.9643714127874119, 'colsample_bytree': 0.6472936347301342, 'random_state': 42, 'early_stopping_rounds': 10, 'scale_pos_weight': 1, 'reg_alpha': 7.3579633101322806, 'reg_lambda': 0.9959694196159918}\n",
      "INFO:models.ensemble_models:Adjusted scale_pos_weight to 1.109\n",
      "INFO:models.ensemble_models:Training XGBoost on 135 samples...\n",
      "INFO:models.ensemble_models:Training completed in 0.01 seconds\n",
      "[I 2025-08-16 00:22:32,952] Trial 9 finished with value: 1.0 and parameters: {'max_depth': 10, 'learning_rate': 0.03286985551864398, 'n_estimators': 82, 'subsample': 0.9643714127874119, 'colsample_bytree': 0.6472936347301342, 'reg_alpha': 7.3579633101322806, 'reg_lambda': 0.9959694196159918}. Best is trial 0 with value: 1.0.\n",
      "INFO:models.ensemble_models:Initialized XGBoost with parameters: {'objective': 'binary:logistic', 'eval_metric': 'auc', 'max_depth': 3, 'learning_rate': 0.01035854190311585, 'n_estimators': 201, 'subsample': 0.7702277750956175, 'colsample_bytree': 0.8730519018158541, 'random_state': 42, 'early_stopping_rounds': 10, 'scale_pos_weight': 1, 'reg_alpha': 4.44436101383456, 'reg_lambda': 7.756971683321954}\n",
      "INFO:models.ensemble_models:Adjusted scale_pos_weight to 1.109\n",
      "INFO:models.ensemble_models:Training XGBoost on 135 samples...\n",
      "INFO:models.ensemble_models:Training completed in 0.01 seconds\n",
      "[I 2025-08-16 00:22:32,976] Trial 10 finished with value: 1.0 and parameters: {'max_depth': 3, 'learning_rate': 0.01035854190311585, 'n_estimators': 201, 'subsample': 0.7702277750956175, 'colsample_bytree': 0.8730519018158541, 'reg_alpha': 4.44436101383456, 'reg_lambda': 7.756971683321954}. Best is trial 0 with value: 1.0.\n",
      "INFO:models.ensemble_models:Initialized XGBoost with parameters: {'objective': 'binary:logistic', 'eval_metric': 'auc', 'max_depth': 5, 'learning_rate': 0.01250242291668905, 'n_estimators': 154, 'subsample': 0.7175653307557709, 'colsample_bytree': 0.603242248973659, 'random_state': 42, 'early_stopping_rounds': 10, 'scale_pos_weight': 1, 'reg_alpha': 0.1150898531207552, 'reg_lambda': 8.733231122110757}\n",
      "INFO:models.ensemble_models:Adjusted scale_pos_weight to 1.109\n",
      "INFO:models.ensemble_models:Training XGBoost on 135 samples...\n",
      "INFO:models.ensemble_models:Training completed in 0.01 seconds\n",
      "[I 2025-08-16 00:22:32,999] Trial 11 finished with value: 1.0 and parameters: {'max_depth': 5, 'learning_rate': 0.01250242291668905, 'n_estimators': 154, 'subsample': 0.7175653307557709, 'colsample_bytree': 0.603242248973659, 'reg_alpha': 0.1150898531207552, 'reg_lambda': 8.733231122110757}. Best is trial 0 with value: 1.0.\n",
      "INFO:models.ensemble_models:Initialized XGBoost with parameters: {'objective': 'binary:logistic', 'eval_metric': 'auc', 'max_depth': 8, 'learning_rate': 0.2922495167348988, 'n_estimators': 121, 'subsample': 0.8691617767266352, 'colsample_bytree': 0.7550419460929084, 'random_state': 42, 'early_stopping_rounds': 10, 'scale_pos_weight': 1, 'reg_alpha': 4.6256051270464305, 'reg_lambda': 6.587941747926962}\n",
      "INFO:models.ensemble_models:Adjusted scale_pos_weight to 1.109\n",
      "INFO:models.ensemble_models:Training XGBoost on 135 samples...\n",
      "INFO:models.ensemble_models:Training completed in 0.01 seconds\n",
      "[I 2025-08-16 00:22:33,019] Trial 12 finished with value: 1.0 and parameters: {'max_depth': 8, 'learning_rate': 0.2922495167348988, 'n_estimators': 121, 'subsample': 0.8691617767266352, 'colsample_bytree': 0.7550419460929084, 'reg_alpha': 4.6256051270464305, 'reg_lambda': 6.587941747926962}. Best is trial 0 with value: 1.0.\n",
      "INFO:models.ensemble_models:Initialized XGBoost with parameters: {'objective': 'binary:logistic', 'eval_metric': 'auc', 'max_depth': 5, 'learning_rate': 0.017876565996440694, 'n_estimators': 187, 'subsample': 0.7310096047274272, 'colsample_bytree': 0.8252407318898728, 'random_state': 42, 'early_stopping_rounds': 10, 'scale_pos_weight': 1, 'reg_alpha': 3.5047144492837448, 'reg_lambda': 2.862850202635196}\n",
      "INFO:models.ensemble_models:Adjusted scale_pos_weight to 1.109\n",
      "INFO:models.ensemble_models:Training XGBoost on 135 samples...\n",
      "INFO:models.ensemble_models:Training completed in 0.02 seconds\n",
      "[I 2025-08-16 00:22:33,048] Trial 13 finished with value: 1.0 and parameters: {'max_depth': 5, 'learning_rate': 0.017876565996440694, 'n_estimators': 187, 'subsample': 0.7310096047274272, 'colsample_bytree': 0.8252407318898728, 'reg_alpha': 3.5047144492837448, 'reg_lambda': 2.862850202635196}. Best is trial 0 with value: 1.0.\n",
      "INFO:models.ensemble_models:Initialized XGBoost with parameters: {'objective': 'binary:logistic', 'eval_metric': 'auc', 'max_depth': 3, 'learning_rate': 0.058637128429369835, 'n_estimators': 62, 'subsample': 0.8695070347891867, 'colsample_bytree': 0.7441979777047883, 'random_state': 42, 'early_stopping_rounds': 10, 'scale_pos_weight': 1, 'reg_alpha': 5.6993069647675085, 'reg_lambda': 0.2180894192877414}\n",
      "INFO:models.ensemble_models:Adjusted scale_pos_weight to 1.109\n",
      "INFO:models.ensemble_models:Training XGBoost on 135 samples...\n",
      "INFO:models.ensemble_models:Training completed in 0.01 seconds\n",
      "[I 2025-08-16 00:22:33,070] Trial 14 finished with value: 1.0 and parameters: {'max_depth': 3, 'learning_rate': 0.058637128429369835, 'n_estimators': 62, 'subsample': 0.8695070347891867, 'colsample_bytree': 0.7441979777047883, 'reg_alpha': 5.6993069647675085, 'reg_lambda': 0.2180894192877414}. Best is trial 0 with value: 1.0.\n",
      "INFO:models.ensemble_models:Initialized XGBoost with parameters: {'objective': 'binary:logistic', 'eval_metric': 'auc', 'max_depth': 6, 'learning_rate': 0.055871136394022504, 'n_estimators': 154, 'subsample': 0.6744886138370016, 'colsample_bytree': 0.9068324600360371, 'random_state': 42, 'early_stopping_rounds': 10, 'scale_pos_weight': 1, 'reg_alpha': 3.288153525958247, 'reg_lambda': 6.62084428861586}\n",
      "INFO:models.ensemble_models:Adjusted scale_pos_weight to 1.109\n",
      "INFO:models.ensemble_models:Training XGBoost on 135 samples...\n",
      "INFO:models.ensemble_models:Training completed in 0.01 seconds\n",
      "[I 2025-08-16 00:22:33,093] Trial 15 finished with value: 1.0 and parameters: {'max_depth': 6, 'learning_rate': 0.055871136394022504, 'n_estimators': 154, 'subsample': 0.6744886138370016, 'colsample_bytree': 0.9068324600360371, 'reg_alpha': 3.288153525958247, 'reg_lambda': 6.62084428861586}. Best is trial 0 with value: 1.0.\n",
      "INFO:models.ensemble_models:Initialized XGBoost with parameters: {'objective': 'binary:logistic', 'eval_metric': 'auc', 'max_depth': 8, 'learning_rate': 0.01739300894191731, 'n_estimators': 207, 'subsample': 0.8367257546934365, 'colsample_bytree': 0.6022638845192319, 'random_state': 42, 'early_stopping_rounds': 10, 'scale_pos_weight': 1, 'reg_alpha': 0.17796226228206907, 'reg_lambda': 9.681469045671319}\n",
      "INFO:models.ensemble_models:Adjusted scale_pos_weight to 1.109\n",
      "INFO:models.ensemble_models:Training XGBoost on 135 samples...\n",
      "INFO:models.ensemble_models:Training completed in 0.01 seconds\n",
      "[I 2025-08-16 00:22:33,115] Trial 16 finished with value: 1.0 and parameters: {'max_depth': 8, 'learning_rate': 0.01739300894191731, 'n_estimators': 207, 'subsample': 0.8367257546934365, 'colsample_bytree': 0.6022638845192319, 'reg_alpha': 0.17796226228206907, 'reg_lambda': 9.681469045671319}. Best is trial 0 with value: 1.0.\n",
      "INFO:models.ensemble_models:Initialized XGBoost with parameters: {'objective': 'binary:logistic', 'eval_metric': 'auc', 'max_depth': 6, 'learning_rate': 0.0863220674375857, 'n_estimators': 124, 'subsample': 0.6022588564635889, 'colsample_bytree': 0.7896418612205349, 'random_state': 42, 'early_stopping_rounds': 10, 'scale_pos_weight': 1, 'reg_alpha': 9.388049982616531, 'reg_lambda': 7.219797634713397}\n",
      "INFO:models.ensemble_models:Adjusted scale_pos_weight to 1.109\n",
      "INFO:models.ensemble_models:Training XGBoost on 135 samples...\n",
      "INFO:models.ensemble_models:Training completed in 0.01 seconds\n",
      "[I 2025-08-16 00:22:33,137] Trial 17 finished with value: 1.0 and parameters: {'max_depth': 6, 'learning_rate': 0.0863220674375857, 'n_estimators': 124, 'subsample': 0.6022588564635889, 'colsample_bytree': 0.7896418612205349, 'reg_alpha': 9.388049982616531, 'reg_lambda': 7.219797634713397}. Best is trial 0 with value: 1.0.\n",
      "INFO:models.ensemble_models:Initialized XGBoost with parameters: {'objective': 'binary:logistic', 'eval_metric': 'auc', 'max_depth': 4, 'learning_rate': 0.044479285674325554, 'n_estimators': 163, 'subsample': 0.7407328717576823, 'colsample_bytree': 0.6968534943823076, 'random_state': 42, 'early_stopping_rounds': 10, 'scale_pos_weight': 1, 'reg_alpha': 3.624233221589157, 'reg_lambda': 4.253790182163689}\n",
      "INFO:models.ensemble_models:Adjusted scale_pos_weight to 1.109\n",
      "INFO:models.ensemble_models:Training XGBoost on 135 samples...\n",
      "INFO:models.ensemble_models:Training completed in 0.01 seconds\n",
      "[I 2025-08-16 00:22:33,157] Trial 18 finished with value: 1.0 and parameters: {'max_depth': 4, 'learning_rate': 0.044479285674325554, 'n_estimators': 163, 'subsample': 0.7407328717576823, 'colsample_bytree': 0.6968534943823076, 'reg_alpha': 3.624233221589157, 'reg_lambda': 4.253790182163689}. Best is trial 0 with value: 1.0.\n",
      "INFO:models.ensemble_models:Initialized XGBoost with parameters: {'objective': 'binary:logistic', 'eval_metric': 'auc', 'max_depth': 8, 'learning_rate': 0.018155472855612666, 'n_estimators': 111, 'subsample': 0.6706891078042231, 'colsample_bytree': 0.8656788778140325, 'random_state': 42, 'early_stopping_rounds': 10, 'scale_pos_weight': 1, 'reg_alpha': 5.518397565174171, 'reg_lambda': 8.454951792039578}\n",
      "INFO:models.ensemble_models:Adjusted scale_pos_weight to 1.109\n",
      "INFO:models.ensemble_models:Training XGBoost on 135 samples...\n",
      "INFO:models.ensemble_models:Training completed in 0.01 seconds\n",
      "[I 2025-08-16 00:22:33,184] Trial 19 finished with value: 1.0 and parameters: {'max_depth': 8, 'learning_rate': 0.018155472855612666, 'n_estimators': 111, 'subsample': 0.6706891078042231, 'colsample_bytree': 0.8656788778140325, 'reg_alpha': 5.518397565174171, 'reg_lambda': 8.454951792039578}. Best is trial 0 with value: 1.0.\n",
      "INFO:models.ensemble_models:Initialized XGBoost with parameters: {'objective': 'binary:logistic', 'eval_metric': 'auc', 'max_depth': 9, 'learning_rate': 0.13889355058715855, 'n_estimators': 51, 'subsample': 0.9083376871138273, 'colsample_bytree': 0.7916378382871644, 'random_state': 42, 'early_stopping_rounds': 10, 'scale_pos_weight': 1, 'reg_alpha': 8.63118393008201, 'reg_lambda': 2.6970998588327655}\n",
      "INFO:models.ensemble_models:Adjusted scale_pos_weight to 1.109\n",
      "INFO:models.ensemble_models:Training XGBoost on 135 samples...\n",
      "INFO:models.ensemble_models:Training completed in 0.01 seconds\n",
      "[I 2025-08-16 00:22:33,205] Trial 20 finished with value: 1.0 and parameters: {'max_depth': 9, 'learning_rate': 0.13889355058715855, 'n_estimators': 51, 'subsample': 0.9083376871138273, 'colsample_bytree': 0.7916378382871644, 'reg_alpha': 8.63118393008201, 'reg_lambda': 2.6970998588327655}. Best is trial 0 with value: 1.0.\n",
      "INFO:models.ensemble_models:Initialized XGBoost with parameters: {'objective': 'binary:logistic', 'eval_metric': 'auc', 'max_depth': 10, 'learning_rate': 0.02897347603069892, 'n_estimators': 222, 'subsample': 0.6346387055946942, 'colsample_bytree': 0.7190631988423047, 'random_state': 42, 'early_stopping_rounds': 10, 'scale_pos_weight': 1, 'reg_alpha': 1.376222500858958, 'reg_lambda': 1.2499286851548703}\n",
      "INFO:models.ensemble_models:Adjusted scale_pos_weight to 1.109\n",
      "INFO:models.ensemble_models:Training XGBoost on 135 samples...\n",
      "INFO:models.ensemble_models:Training completed in 0.01 seconds\n",
      "[I 2025-08-16 00:22:33,230] Trial 21 finished with value: 1.0 and parameters: {'max_depth': 10, 'learning_rate': 0.02897347603069892, 'n_estimators': 222, 'subsample': 0.6346387055946942, 'colsample_bytree': 0.7190631988423047, 'reg_alpha': 1.376222500858958, 'reg_lambda': 1.2499286851548703}. Best is trial 0 with value: 1.0.\n",
      "INFO:models.ensemble_models:Initialized XGBoost with parameters: {'objective': 'binary:logistic', 'eval_metric': 'auc', 'max_depth': 9, 'learning_rate': 0.03530582914015599, 'n_estimators': 142, 'subsample': 0.6566991208327673, 'colsample_bytree': 0.6983120612423008, 'random_state': 42, 'early_stopping_rounds': 10, 'scale_pos_weight': 1, 'reg_alpha': 1.0570871180846069, 'reg_lambda': 1.4899127554505647}\n",
      "INFO:models.ensemble_models:Adjusted scale_pos_weight to 1.109\n",
      "INFO:models.ensemble_models:Training XGBoost on 135 samples...\n",
      "INFO:models.ensemble_models:Training completed in 0.02 seconds\n",
      "[I 2025-08-16 00:22:33,265] Trial 22 finished with value: 1.0 and parameters: {'max_depth': 9, 'learning_rate': 0.03530582914015599, 'n_estimators': 142, 'subsample': 0.6566991208327673, 'colsample_bytree': 0.6983120612423008, 'reg_alpha': 1.0570871180846069, 'reg_lambda': 1.4899127554505647}. Best is trial 0 with value: 1.0.\n",
      "INFO:models.ensemble_models:Initialized XGBoost with parameters: {'objective': 'binary:logistic', 'eval_metric': 'auc', 'max_depth': 9, 'learning_rate': 0.02326038611073754, 'n_estimators': 178, 'subsample': 0.7126759375589152, 'colsample_bytree': 0.6377770860780497, 'random_state': 42, 'early_stopping_rounds': 10, 'scale_pos_weight': 1, 'reg_alpha': 2.6337104896874886, 'reg_lambda': 0.0804559643885372}\n",
      "INFO:models.ensemble_models:Adjusted scale_pos_weight to 1.109\n",
      "INFO:models.ensemble_models:Training XGBoost on 135 samples...\n",
      "INFO:models.ensemble_models:Training completed in 0.01 seconds\n",
      "[I 2025-08-16 00:22:33,287] Trial 23 finished with value: 1.0 and parameters: {'max_depth': 9, 'learning_rate': 0.02326038611073754, 'n_estimators': 178, 'subsample': 0.7126759375589152, 'colsample_bytree': 0.6377770860780497, 'reg_alpha': 2.6337104896874886, 'reg_lambda': 0.0804559643885372}. Best is trial 0 with value: 1.0.\n",
      "INFO:models.ensemble_models:Initialized XGBoost with parameters: {'objective': 'binary:logistic', 'eval_metric': 'auc', 'max_depth': 10, 'learning_rate': 0.04428949617849642, 'n_estimators': 99, 'subsample': 0.9962163883593387, 'colsample_bytree': 0.6950687057508251, 'random_state': 42, 'early_stopping_rounds': 10, 'scale_pos_weight': 1, 'reg_alpha': 0.9481622957958871, 'reg_lambda': 2.3858610202943042}\n",
      "INFO:models.ensemble_models:Adjusted scale_pos_weight to 1.109\n",
      "INFO:models.ensemble_models:Training XGBoost on 135 samples...\n",
      "INFO:models.ensemble_models:Training completed in 0.01 seconds\n",
      "[I 2025-08-16 00:22:33,311] Trial 24 finished with value: 1.0 and parameters: {'max_depth': 10, 'learning_rate': 0.04428949617849642, 'n_estimators': 99, 'subsample': 0.9962163883593387, 'colsample_bytree': 0.6950687057508251, 'reg_alpha': 0.9481622957958871, 'reg_lambda': 2.3858610202943042}. Best is trial 0 with value: 1.0.\n",
      "INFO:models.ensemble_models:Initialized XGBoost with parameters: {'objective': 'binary:logistic', 'eval_metric': 'auc', 'max_depth': 4, 'learning_rate': 0.06775631706924994, 'n_estimators': 140, 'subsample': 0.7601246711888343, 'colsample_bytree': 0.7647341818701799, 'random_state': 42, 'early_stopping_rounds': 10, 'scale_pos_weight': 1, 'reg_alpha': 2.7497179820110436, 'reg_lambda': 3.5615005201393686}\n",
      "INFO:models.ensemble_models:Adjusted scale_pos_weight to 1.109\n",
      "INFO:models.ensemble_models:Training XGBoost on 135 samples...\n",
      "INFO:models.ensemble_models:Training completed in 0.01 seconds\n",
      "[I 2025-08-16 00:22:33,332] Trial 25 finished with value: 1.0 and parameters: {'max_depth': 4, 'learning_rate': 0.06775631706924994, 'n_estimators': 140, 'subsample': 0.7601246711888343, 'colsample_bytree': 0.7647341818701799, 'reg_alpha': 2.7497179820110436, 'reg_lambda': 3.5615005201393686}. Best is trial 0 with value: 1.0.\n",
      "INFO:models.ensemble_models:Initialized XGBoost with parameters: {'objective': 'binary:logistic', 'eval_metric': 'auc', 'max_depth': 8, 'learning_rate': 0.024773233355227985, 'n_estimators': 170, 'subsample': 0.7035395616367016, 'colsample_bytree': 0.7252643108023322, 'random_state': 42, 'early_stopping_rounds': 10, 'scale_pos_weight': 1, 'reg_alpha': 0.809482397328305, 'reg_lambda': 6.268674733320317}\n",
      "INFO:models.ensemble_models:Adjusted scale_pos_weight to 1.109\n",
      "INFO:models.ensemble_models:Training XGBoost on 135 samples...\n",
      "INFO:models.ensemble_models:Training completed in 0.01 seconds\n",
      "[I 2025-08-16 00:22:33,356] Trial 26 finished with value: 1.0 and parameters: {'max_depth': 8, 'learning_rate': 0.024773233355227985, 'n_estimators': 170, 'subsample': 0.7035395616367016, 'colsample_bytree': 0.7252643108023322, 'reg_alpha': 0.809482397328305, 'reg_lambda': 6.268674733320317}. Best is trial 0 with value: 1.0.\n",
      "INFO:models.ensemble_models:Initialized XGBoost with parameters: {'objective': 'binary:logistic', 'eval_metric': 'auc', 'max_depth': 7, 'learning_rate': 0.013751777437914515, 'n_estimators': 299, 'subsample': 0.6450695382775958, 'colsample_bytree': 0.6286889930925068, 'random_state': 42, 'early_stopping_rounds': 10, 'scale_pos_weight': 1, 'reg_alpha': 4.044464545280893, 'reg_lambda': 4.484527855781932}\n",
      "INFO:models.ensemble_models:Adjusted scale_pos_weight to 1.109\n",
      "INFO:models.ensemble_models:Training XGBoost on 135 samples...\n",
      "INFO:models.ensemble_models:Training completed in 0.01 seconds\n",
      "[I 2025-08-16 00:22:33,383] Trial 27 finished with value: 1.0 and parameters: {'max_depth': 7, 'learning_rate': 0.013751777437914515, 'n_estimators': 299, 'subsample': 0.6450695382775958, 'colsample_bytree': 0.6286889930925068, 'reg_alpha': 4.044464545280893, 'reg_lambda': 4.484527855781932}. Best is trial 0 with value: 1.0.\n",
      "INFO:models.ensemble_models:Initialized XGBoost with parameters: {'objective': 'binary:logistic', 'eval_metric': 'auc', 'max_depth': 9, 'learning_rate': 0.03999867317534173, 'n_estimators': 232, 'subsample': 0.6002904443952789, 'colsample_bytree': 0.6863134007294182, 'random_state': 42, 'early_stopping_rounds': 10, 'scale_pos_weight': 1, 'reg_alpha': 1.8802210800920176, 'reg_lambda': 3.397061311594157}\n",
      "INFO:models.ensemble_models:Adjusted scale_pos_weight to 1.109\n",
      "INFO:models.ensemble_models:Training XGBoost on 135 samples...\n",
      "INFO:models.ensemble_models:Training completed in 0.01 seconds\n",
      "[I 2025-08-16 00:22:33,404] Trial 28 finished with value: 1.0 and parameters: {'max_depth': 9, 'learning_rate': 0.03999867317534173, 'n_estimators': 232, 'subsample': 0.6002904443952789, 'colsample_bytree': 0.6863134007294182, 'reg_alpha': 1.8802210800920176, 'reg_lambda': 3.397061311594157}. Best is trial 0 with value: 1.0.\n",
      "INFO:models.ensemble_models:Initialized XGBoost with parameters: {'objective': 'binary:logistic', 'eval_metric': 'auc', 'max_depth': 4, 'learning_rate': 0.1456041449073416, 'n_estimators': 133, 'subsample': 0.8134469021542942, 'colsample_bytree': 0.8361149471497559, 'random_state': 42, 'early_stopping_rounds': 10, 'scale_pos_weight': 1, 'reg_alpha': 5.3457442066445795, 'reg_lambda': 1.8580880189078435}\n",
      "INFO:models.ensemble_models:Adjusted scale_pos_weight to 1.109\n",
      "INFO:models.ensemble_models:Training XGBoost on 135 samples...\n",
      "INFO:models.ensemble_models:Training completed in 0.01 seconds\n",
      "[I 2025-08-16 00:22:33,426] Trial 29 finished with value: 1.0 and parameters: {'max_depth': 4, 'learning_rate': 0.1456041449073416, 'n_estimators': 133, 'subsample': 0.8134469021542942, 'colsample_bytree': 0.8361149471497559, 'reg_alpha': 5.3457442066445795, 'reg_lambda': 1.8580880189078435}. Best is trial 0 with value: 1.0.\n",
      "INFO:models.ensemble_models:Initialized XGBoost with parameters: {'objective': 'binary:logistic', 'eval_metric': 'auc', 'max_depth': 6, 'learning_rate': 0.2228652504640868, 'n_estimators': 108, 'subsample': 0.627407614487932, 'colsample_bytree': 0.732916637561565, 'random_state': 42, 'early_stopping_rounds': 10, 'scale_pos_weight': 1, 'reg_alpha': 6.434832981948167, 'reg_lambda': 0.7710045034595161}\n",
      "INFO:models.ensemble_models:Adjusted scale_pos_weight to 1.109\n",
      "INFO:models.ensemble_models:Training XGBoost on 135 samples...\n",
      "INFO:models.ensemble_models:Training completed in 0.01 seconds\n",
      "[I 2025-08-16 00:22:33,451] Trial 30 finished with value: 1.0 and parameters: {'max_depth': 6, 'learning_rate': 0.2228652504640868, 'n_estimators': 108, 'subsample': 0.627407614487932, 'colsample_bytree': 0.732916637561565, 'reg_alpha': 6.434832981948167, 'reg_lambda': 0.7710045034595161}. Best is trial 0 with value: 1.0.\n",
      "INFO:models.ensemble_models:Initialized XGBoost with parameters: {'objective': 'binary:logistic', 'eval_metric': 'auc', 'max_depth': 3, 'learning_rate': 0.028334555812432497, 'n_estimators': 189, 'subsample': 0.6215291350014213, 'colsample_bytree': 0.7720052123476187, 'random_state': 42, 'early_stopping_rounds': 10, 'scale_pos_weight': 1, 'reg_alpha': 8.378957344742656, 'reg_lambda': 5.4159195885469575}\n",
      "INFO:models.ensemble_models:Adjusted scale_pos_weight to 1.109\n",
      "INFO:models.ensemble_models:Training XGBoost on 135 samples...\n",
      "INFO:models.ensemble_models:Training completed in 0.01 seconds\n",
      "[I 2025-08-16 00:22:33,473] Trial 31 finished with value: 1.0 and parameters: {'max_depth': 3, 'learning_rate': 0.028334555812432497, 'n_estimators': 189, 'subsample': 0.6215291350014213, 'colsample_bytree': 0.7720052123476187, 'reg_alpha': 8.378957344742656, 'reg_lambda': 5.4159195885469575}. Best is trial 0 with value: 1.0.\n",
      "INFO:models.ensemble_models:Initialized XGBoost with parameters: {'objective': 'binary:logistic', 'eval_metric': 'auc', 'max_depth': 4, 'learning_rate': 0.14283144919525417, 'n_estimators': 76, 'subsample': 0.6992492693897203, 'colsample_bytree': 0.6724400541816365, 'random_state': 42, 'early_stopping_rounds': 10, 'scale_pos_weight': 1, 'reg_alpha': 9.947123936276348, 'reg_lambda': 4.485225359925909}\n",
      "INFO:models.ensemble_models:Adjusted scale_pos_weight to 1.109\n",
      "INFO:models.ensemble_models:Training XGBoost on 135 samples...\n",
      "INFO:models.ensemble_models:Training completed in 0.01 seconds\n",
      "[I 2025-08-16 00:22:33,497] Trial 32 finished with value: 1.0 and parameters: {'max_depth': 4, 'learning_rate': 0.14283144919525417, 'n_estimators': 76, 'subsample': 0.6992492693897203, 'colsample_bytree': 0.6724400541816365, 'reg_alpha': 9.947123936276348, 'reg_lambda': 4.485225359925909}. Best is trial 0 with value: 1.0.\n",
      "INFO:models.ensemble_models:Initialized XGBoost with parameters: {'objective': 'binary:logistic', 'eval_metric': 'auc', 'max_depth': 5, 'learning_rate': 0.07092978124799566, 'n_estimators': 261, 'subsample': 0.6840240554740975, 'colsample_bytree': 0.9843570858443143, 'random_state': 42, 'early_stopping_rounds': 10, 'scale_pos_weight': 1, 'reg_alpha': 7.131794799344145, 'reg_lambda': 5.859699363996933}\n",
      "INFO:models.ensemble_models:Adjusted scale_pos_weight to 1.109\n",
      "INFO:models.ensemble_models:Training XGBoost on 135 samples...\n",
      "INFO:models.ensemble_models:Training completed in 0.01 seconds\n",
      "[I 2025-08-16 00:22:33,519] Trial 33 finished with value: 1.0 and parameters: {'max_depth': 5, 'learning_rate': 0.07092978124799566, 'n_estimators': 261, 'subsample': 0.6840240554740975, 'colsample_bytree': 0.9843570858443143, 'reg_alpha': 7.131794799344145, 'reg_lambda': 5.859699363996933}. Best is trial 0 with value: 1.0.\n",
      "INFO:models.ensemble_models:Initialized XGBoost with parameters: {'objective': 'binary:logistic', 'eval_metric': 'auc', 'max_depth': 10, 'learning_rate': 0.1047246126173569, 'n_estimators': 144, 'subsample': 0.6571419970464347, 'colsample_bytree': 0.8079069314646554, 'random_state': 42, 'early_stopping_rounds': 10, 'scale_pos_weight': 1, 'reg_alpha': 8.142028494917174, 'reg_lambda': 5.021421785342143}\n",
      "INFO:models.ensemble_models:Adjusted scale_pos_weight to 1.109\n",
      "INFO:models.ensemble_models:Training XGBoost on 135 samples...\n",
      "INFO:models.ensemble_models:Training completed in 0.01 seconds\n",
      "[I 2025-08-16 00:22:33,540] Trial 34 finished with value: 1.0 and parameters: {'max_depth': 10, 'learning_rate': 0.1047246126173569, 'n_estimators': 144, 'subsample': 0.6571419970464347, 'colsample_bytree': 0.8079069314646554, 'reg_alpha': 8.142028494917174, 'reg_lambda': 5.021421785342143}. Best is trial 0 with value: 1.0.\n",
      "INFO:models.ensemble_models:Initialized XGBoost with parameters: {'objective': 'binary:logistic', 'eval_metric': 'auc', 'max_depth': 4, 'learning_rate': 0.04826436812771543, 'n_estimators': 95, 'subsample': 0.6230717714664447, 'colsample_bytree': 0.7216420528779885, 'random_state': 42, 'early_stopping_rounds': 10, 'scale_pos_weight': 1, 'reg_alpha': 6.20792471148104, 'reg_lambda': 2.0384864860406346}\n",
      "INFO:models.ensemble_models:Adjusted scale_pos_weight to 1.109\n",
      "INFO:models.ensemble_models:Training XGBoost on 135 samples...\n",
      "INFO:models.ensemble_models:Training completed in 0.01 seconds\n",
      "[I 2025-08-16 00:22:33,564] Trial 35 finished with value: 1.0 and parameters: {'max_depth': 4, 'learning_rate': 0.04826436812771543, 'n_estimators': 95, 'subsample': 0.6230717714664447, 'colsample_bytree': 0.7216420528779885, 'reg_alpha': 6.20792471148104, 'reg_lambda': 2.0384864860406346}. Best is trial 0 with value: 1.0.\n",
      "INFO:models.ensemble_models:Initialized XGBoost with parameters: {'objective': 'binary:logistic', 'eval_metric': 'auc', 'max_depth': 3, 'learning_rate': 0.021221810312183263, 'n_estimators': 125, 'subsample': 0.6495923112219113, 'colsample_bytree': 0.6575831201702759, 'random_state': 42, 'early_stopping_rounds': 10, 'scale_pos_weight': 1, 'reg_alpha': 2.039623814280196, 'reg_lambda': 3.9067973990012144}\n",
      "INFO:models.ensemble_models:Adjusted scale_pos_weight to 1.109\n",
      "INFO:models.ensemble_models:Training XGBoost on 135 samples...\n",
      "INFO:models.ensemble_models:Training completed in 0.01 seconds\n",
      "[I 2025-08-16 00:22:33,594] Trial 36 finished with value: 1.0 and parameters: {'max_depth': 3, 'learning_rate': 0.021221810312183263, 'n_estimators': 125, 'subsample': 0.6495923112219113, 'colsample_bytree': 0.6575831201702759, 'reg_alpha': 2.039623814280196, 'reg_lambda': 3.9067973990012144}. Best is trial 0 with value: 1.0.\n",
      "INFO:models.ensemble_models:Initialized XGBoost with parameters: {'objective': 'binary:logistic', 'eval_metric': 'auc', 'max_depth': 7, 'learning_rate': 0.21554609067654246, 'n_estimators': 280, 'subsample': 0.7994235458072048, 'colsample_bytree': 0.6270912503108657, 'random_state': 42, 'early_stopping_rounds': 10, 'scale_pos_weight': 1, 'reg_alpha': 0.531953928680613, 'reg_lambda': 3.0997134011262197}\n",
      "INFO:models.ensemble_models:Adjusted scale_pos_weight to 1.109\n",
      "INFO:models.ensemble_models:Training XGBoost on 135 samples...\n",
      "INFO:models.ensemble_models:Training completed in 0.01 seconds\n",
      "[I 2025-08-16 00:22:33,616] Trial 37 finished with value: 1.0 and parameters: {'max_depth': 7, 'learning_rate': 0.21554609067654246, 'n_estimators': 280, 'subsample': 0.7994235458072048, 'colsample_bytree': 0.6270912503108657, 'reg_alpha': 0.531953928680613, 'reg_lambda': 3.0997134011262197}. Best is trial 0 with value: 1.0.\n",
      "INFO:models.ensemble_models:Initialized XGBoost with parameters: {'objective': 'binary:logistic', 'eval_metric': 'auc', 'max_depth': 5, 'learning_rate': 0.03167604776465783, 'n_estimators': 244, 'subsample': 0.6854559885527648, 'colsample_bytree': 0.8506513202156548, 'random_state': 42, 'early_stopping_rounds': 10, 'scale_pos_weight': 1, 'reg_alpha': 7.661312953651125, 'reg_lambda': 2.214487240114181}\n",
      "INFO:models.ensemble_models:Adjusted scale_pos_weight to 1.109\n",
      "INFO:models.ensemble_models:Training XGBoost on 135 samples...\n",
      "INFO:models.ensemble_models:Training completed in 0.01 seconds\n",
      "[I 2025-08-16 00:22:33,639] Trial 38 finished with value: 1.0 and parameters: {'max_depth': 5, 'learning_rate': 0.03167604776465783, 'n_estimators': 244, 'subsample': 0.6854559885527648, 'colsample_bytree': 0.8506513202156548, 'reg_alpha': 7.661312953651125, 'reg_lambda': 2.214487240114181}. Best is trial 0 with value: 1.0.\n",
      "INFO:models.ensemble_models:Initialized XGBoost with parameters: {'objective': 'binary:logistic', 'eval_metric': 'auc', 'max_depth': 10, 'learning_rate': 0.03776957572155743, 'n_estimators': 110, 'subsample': 0.847997166941462, 'colsample_bytree': 0.6800954371969223, 'random_state': 42, 'early_stopping_rounds': 10, 'scale_pos_weight': 1, 'reg_alpha': 2.8008051577884823, 'reg_lambda': 0.8288399885851625}\n",
      "INFO:models.ensemble_models:Adjusted scale_pos_weight to 1.109\n",
      "INFO:models.ensemble_models:Training XGBoost on 135 samples...\n",
      "INFO:models.ensemble_models:Training completed in 0.01 seconds\n",
      "[I 2025-08-16 00:22:33,662] Trial 39 finished with value: 1.0 and parameters: {'max_depth': 10, 'learning_rate': 0.03776957572155743, 'n_estimators': 110, 'subsample': 0.847997166941462, 'colsample_bytree': 0.6800954371969223, 'reg_alpha': 2.8008051577884823, 'reg_lambda': 0.8288399885851625}. Best is trial 0 with value: 1.0.\n",
      "INFO:models.ensemble_models:Initialized XGBoost with parameters: {'objective': 'binary:logistic', 'eval_metric': 'auc', 'max_depth': 6, 'learning_rate': 0.1189254792154632, 'n_estimators': 156, 'subsample': 0.7717639336759667, 'colsample_bytree': 0.9532077518203205, 'random_state': 42, 'early_stopping_rounds': 10, 'scale_pos_weight': 1, 'reg_alpha': 9.22124219405541, 'reg_lambda': 2.6502919566712126}\n",
      "INFO:models.ensemble_models:Adjusted scale_pos_weight to 1.109\n",
      "INFO:models.ensemble_models:Training XGBoost on 135 samples...\n",
      "INFO:models.ensemble_models:Training completed in 0.01 seconds\n",
      "[I 2025-08-16 00:22:33,689] Trial 40 finished with value: 1.0 and parameters: {'max_depth': 6, 'learning_rate': 0.1189254792154632, 'n_estimators': 156, 'subsample': 0.7717639336759667, 'colsample_bytree': 0.9532077518203205, 'reg_alpha': 9.22124219405541, 'reg_lambda': 2.6502919566712126}. Best is trial 0 with value: 1.0.\n",
      "INFO:models.ensemble_models:Initialized XGBoost with parameters: {'objective': 'binary:logistic', 'eval_metric': 'auc', 'max_depth': 5, 'learning_rate': 0.02642125819578479, 'n_estimators': 276, 'subsample': 0.9280464757680567, 'colsample_bytree': 0.8954409435832655, 'random_state': 42, 'early_stopping_rounds': 10, 'scale_pos_weight': 1, 'reg_alpha': 6.990204297244863, 'reg_lambda': 9.103259021026753}\n",
      "INFO:models.ensemble_models:Adjusted scale_pos_weight to 1.109\n",
      "INFO:models.ensemble_models:Training XGBoost on 135 samples...\n",
      "INFO:models.ensemble_models:Training completed in 0.01 seconds\n",
      "[I 2025-08-16 00:22:33,714] Trial 41 finished with value: 1.0 and parameters: {'max_depth': 5, 'learning_rate': 0.02642125819578479, 'n_estimators': 276, 'subsample': 0.9280464757680567, 'colsample_bytree': 0.8954409435832655, 'reg_alpha': 6.990204297244863, 'reg_lambda': 9.103259021026753}. Best is trial 0 with value: 1.0.\n",
      "INFO:models.ensemble_models:Initialized XGBoost with parameters: {'objective': 'binary:logistic', 'eval_metric': 'auc', 'max_depth': 7, 'learning_rate': 0.020803529427038767, 'n_estimators': 255, 'subsample': 0.893388297448221, 'colsample_bytree': 0.8142535433859367, 'random_state': 42, 'early_stopping_rounds': 10, 'scale_pos_weight': 1, 'reg_alpha': 9.911705685179665, 'reg_lambda': 7.42163903187386}\n",
      "INFO:models.ensemble_models:Adjusted scale_pos_weight to 1.109\n",
      "INFO:models.ensemble_models:Training XGBoost on 135 samples...\n",
      "INFO:models.ensemble_models:Training completed in 0.01 seconds\n",
      "[I 2025-08-16 00:22:33,739] Trial 42 finished with value: 1.0 and parameters: {'max_depth': 7, 'learning_rate': 0.020803529427038767, 'n_estimators': 255, 'subsample': 0.893388297448221, 'colsample_bytree': 0.8142535433859367, 'reg_alpha': 9.911705685179665, 'reg_lambda': 7.42163903187386}. Best is trial 0 with value: 1.0.\n",
      "INFO:models.ensemble_models:Initialized XGBoost with parameters: {'objective': 'binary:logistic', 'eval_metric': 'auc', 'max_depth': 9, 'learning_rate': 0.013886452109946022, 'n_estimators': 213, 'subsample': 0.8223520344749069, 'colsample_bytree': 0.7808209839663813, 'random_state': 42, 'early_stopping_rounds': 10, 'scale_pos_weight': 1, 'reg_alpha': 8.949047288688273, 'reg_lambda': 1.605903995771084}\n",
      "INFO:models.ensemble_models:Adjusted scale_pos_weight to 1.109\n",
      "INFO:models.ensemble_models:Training XGBoost on 135 samples...\n",
      "INFO:models.ensemble_models:Training completed in 0.01 seconds\n",
      "[I 2025-08-16 00:22:33,762] Trial 43 finished with value: 1.0 and parameters: {'max_depth': 9, 'learning_rate': 0.013886452109946022, 'n_estimators': 213, 'subsample': 0.8223520344749069, 'colsample_bytree': 0.7808209839663813, 'reg_alpha': 8.949047288688273, 'reg_lambda': 1.605903995771084}. Best is trial 0 with value: 1.0.\n",
      "INFO:models.ensemble_models:Initialized XGBoost with parameters: {'objective': 'binary:logistic', 'eval_metric': 'auc', 'max_depth': 10, 'learning_rate': 0.05318978622123919, 'n_estimators': 239, 'subsample': 0.8699446659656481, 'colsample_bytree': 0.7536979268295534, 'random_state': 42, 'early_stopping_rounds': 10, 'scale_pos_weight': 1, 'reg_alpha': 7.684056785737311, 'reg_lambda': 3.9837137492400467}\n",
      "INFO:models.ensemble_models:Adjusted scale_pos_weight to 1.109\n",
      "INFO:models.ensemble_models:Training XGBoost on 135 samples...\n",
      "INFO:models.ensemble_models:Training completed in 0.01 seconds\n",
      "[I 2025-08-16 00:22:33,788] Trial 44 finished with value: 1.0 and parameters: {'max_depth': 10, 'learning_rate': 0.05318978622123919, 'n_estimators': 239, 'subsample': 0.8699446659656481, 'colsample_bytree': 0.7536979268295534, 'reg_alpha': 7.684056785737311, 'reg_lambda': 3.9837137492400467}. Best is trial 0 with value: 1.0.\n",
      "INFO:models.ensemble_models:Initialized XGBoost with parameters: {'objective': 'binary:logistic', 'eval_metric': 'auc', 'max_depth': 3, 'learning_rate': 0.03172226506087652, 'n_estimators': 299, 'subsample': 0.7438232623281212, 'colsample_bytree': 0.7447254397758533, 'random_state': 42, 'early_stopping_rounds': 10, 'scale_pos_weight': 1, 'reg_alpha': 4.641427280417251, 'reg_lambda': 8.13521023916017}\n",
      "INFO:models.ensemble_models:Adjusted scale_pos_weight to 1.109\n",
      "INFO:models.ensemble_models:Training XGBoost on 135 samples...\n",
      "INFO:models.ensemble_models:Training completed in 0.01 seconds\n",
      "[I 2025-08-16 00:22:33,812] Trial 45 finished with value: 1.0 and parameters: {'max_depth': 3, 'learning_rate': 0.03172226506087652, 'n_estimators': 299, 'subsample': 0.7438232623281212, 'colsample_bytree': 0.7447254397758533, 'reg_alpha': 4.641427280417251, 'reg_lambda': 8.13521023916017}. Best is trial 0 with value: 1.0.\n",
      "INFO:models.ensemble_models:Initialized XGBoost with parameters: {'objective': 'binary:logistic', 'eval_metric': 'auc', 'max_depth': 4, 'learning_rate': 0.016554438364565875, 'n_estimators': 279, 'subsample': 0.6104316412942754, 'colsample_bytree': 0.9296421602637982, 'random_state': 42, 'early_stopping_rounds': 10, 'scale_pos_weight': 1, 'reg_alpha': 1.5002004573489915, 'reg_lambda': 5.3090864306028696}\n",
      "INFO:models.ensemble_models:Adjusted scale_pos_weight to 1.109\n",
      "INFO:models.ensemble_models:Training XGBoost on 135 samples...\n",
      "INFO:models.ensemble_models:Training completed in 0.01 seconds\n",
      "[I 2025-08-16 00:22:33,840] Trial 46 finished with value: 1.0 and parameters: {'max_depth': 4, 'learning_rate': 0.016554438364565875, 'n_estimators': 279, 'subsample': 0.6104316412942754, 'colsample_bytree': 0.9296421602637982, 'reg_alpha': 1.5002004573489915, 'reg_lambda': 5.3090864306028696}. Best is trial 0 with value: 1.0.\n",
      "INFO:models.ensemble_models:Initialized XGBoost with parameters: {'objective': 'binary:logistic', 'eval_metric': 'auc', 'max_depth': 8, 'learning_rate': 0.07740362682975588, 'n_estimators': 175, 'subsample': 0.7809756644279789, 'colsample_bytree': 0.7114307202328409, 'random_state': 42, 'early_stopping_rounds': 10, 'scale_pos_weight': 1, 'reg_alpha': 6.264938534690704, 'reg_lambda': 9.595369563107102}\n",
      "INFO:models.ensemble_models:Adjusted scale_pos_weight to 1.109\n",
      "INFO:models.ensemble_models:Training XGBoost on 135 samples...\n",
      "INFO:models.ensemble_models:Training completed in 0.02 seconds\n",
      "[I 2025-08-16 00:22:33,875] Trial 47 finished with value: 1.0 and parameters: {'max_depth': 8, 'learning_rate': 0.07740362682975588, 'n_estimators': 175, 'subsample': 0.7809756644279789, 'colsample_bytree': 0.7114307202328409, 'reg_alpha': 6.264938534690704, 'reg_lambda': 9.595369563107102}. Best is trial 0 with value: 1.0.\n",
      "INFO:models.ensemble_models:Initialized XGBoost with parameters: {'objective': 'binary:logistic', 'eval_metric': 'auc', 'max_depth': 5, 'learning_rate': 0.05156989658626999, 'n_estimators': 152, 'subsample': 0.836434788837647, 'colsample_bytree': 0.6614261974819258, 'random_state': 42, 'early_stopping_rounds': 10, 'scale_pos_weight': 1, 'reg_alpha': 0.15157761702727113, 'reg_lambda': 5.801731096338592}\n",
      "INFO:models.ensemble_models:Adjusted scale_pos_weight to 1.109\n",
      "INFO:models.ensemble_models:Training XGBoost on 135 samples...\n",
      "INFO:models.ensemble_models:Training completed in 0.02 seconds\n",
      "[I 2025-08-16 00:22:33,912] Trial 48 finished with value: 1.0 and parameters: {'max_depth': 5, 'learning_rate': 0.05156989658626999, 'n_estimators': 152, 'subsample': 0.836434788837647, 'colsample_bytree': 0.6614261974819258, 'reg_alpha': 0.15157761702727113, 'reg_lambda': 5.801731096338592}. Best is trial 0 with value: 1.0.\n",
      "INFO:models.ensemble_models:Initialized XGBoost with parameters: {'objective': 'binary:logistic', 'eval_metric': 'auc', 'max_depth': 7, 'learning_rate': 0.02004047203133409, 'n_estimators': 130, 'subsample': 0.7955446312063733, 'colsample_bytree': 0.8318193673669444, 'random_state': 42, 'early_stopping_rounds': 10, 'scale_pos_weight': 1, 'reg_alpha': 7.830239849834429, 'reg_lambda': 6.762986327773222}\n",
      "INFO:models.ensemble_models:Adjusted scale_pos_weight to 1.109\n",
      "INFO:models.ensemble_models:Training XGBoost on 135 samples...\n",
      "INFO:models.ensemble_models:Training completed in 0.01 seconds\n",
      "[I 2025-08-16 00:22:33,935] Trial 49 finished with value: 1.0 and parameters: {'max_depth': 7, 'learning_rate': 0.02004047203133409, 'n_estimators': 130, 'subsample': 0.7955446312063733, 'colsample_bytree': 0.8318193673669444, 'reg_alpha': 7.830239849834429, 'reg_lambda': 6.762986327773222}. Best is trial 0 with value: 1.0.\n",
      "INFO:models.ensemble_models:Optimization completed in 1.23 seconds\n",
      "INFO:models.ensemble_models:Best AUC-ROC: 1.0000\n",
      "INFO:models.ensemble_models:Best parameters: {'max_depth': 4, 'learning_rate': 0.0230418698262463, 'n_estimators': 146, 'subsample': 0.7978431340556982, 'colsample_bytree': 0.6421601109768413, 'reg_alpha': 5.309449937609724, 'reg_lambda': 2.3730503755738064}\n"
     ]
    },
    {
     "name": "stdout",
     "output_type": "stream",
     "text": [
      "\n",
      "XGBoost optimization completed\n",
      "  Best validation AUC-ROC: 1.0000\n",
      "  Optimization time: 1.2s\n",
      "  Best parameters: {'max_depth': 4, 'learning_rate': 0.0230418698262463, 'n_estimators': 146, 'subsample': 0.7978431340556982, 'colsample_bytree': 0.6421601109768413, 'reg_alpha': 5.309449937609724, 'reg_lambda': 2.3730503755738064}\n"
     ]
    },
    {
     "name": "stderr",
     "output_type": "stream",
     "text": [
      "INFO:models.ensemble_models:Adjusted scale_pos_weight to 1.109\n"
     ]
    },
    {
     "name": "stderr",
     "output_type": "stream",
     "text": [
      "INFO:models.ensemble_models:Training XGBoost on 135 samples...\n"
     ]
    },
    {
     "name": "stderr",
     "output_type": "stream",
     "text": [
      "INFO:models.ensemble_models:Training completed in 0.01 seconds\n"
     ]
    },
    {
     "name": "stderr",
     "output_type": "stream",
     "text": [
      "[I 2025-08-16 00:00:04,173] Trial 0 finished with value: 1.0 and parameters: {'max_depth': 3, 'learning_rate': 0.18852560802833043, 'n_estimators': 198, 'subsample': 0.9750123197464067, 'colsample_bytree': 0.767260136206862, 'reg_alpha': 1.8233625516401186, 'reg_lambda': 9.679104215043857}. Best is trial 0 with value: 1.0.\n"
     ]
    },
    {
     "name": "stderr",
     "output_type": "stream",
     "text": [
      "INFO:models.ensemble_models:Initialized XGBoost with parameters: {'objective': 'binary:logistic', 'eval_metric': 'auc', 'max_depth': 6, 'learning_rate': 0.2556158574445123, 'n_estimators': 284, 'subsample': 0.77273178887527, 'colsample_bytree': 0.6590357381062608, 'random_state': 42, 'early_stopping_rounds': 10, 'scale_pos_weight': 1, 'reg_alpha': 0.09603244507039754, 'reg_lambda': 7.358049080278443}\n"
     ]
    },
    {
     "name": "stderr",
     "output_type": "stream",
     "text": [
      "INFO:models.ensemble_models:Adjusted scale_pos_weight to 1.109\n"
     ]
    },
    {
     "name": "stderr",
     "output_type": "stream",
     "text": [
      "INFO:models.ensemble_models:Training XGBoost on 135 samples...\n"
     ]
    },
    {
     "name": "stderr",
     "output_type": "stream",
     "text": [
      "INFO:models.ensemble_models:Training completed in 0.01 seconds\n"
     ]
    },
    {
     "name": "stderr",
     "output_type": "stream",
     "text": [
      "[I 2025-08-16 00:00:04,186] Trial 1 finished with value: 1.0 and parameters: {'max_depth': 6, 'learning_rate': 0.2556158574445123, 'n_estimators': 284, 'subsample': 0.77273178887527, 'colsample_bytree': 0.6590357381062608, 'reg_alpha': 0.09603244507039754, 'reg_lambda': 7.358049080278443}. Best is trial 0 with value: 1.0.\n"
     ]
    },
    {
     "name": "stderr",
     "output_type": "stream",
     "text": [
      "INFO:models.ensemble_models:Initialized XGBoost with parameters: {'objective': 'binary:logistic', 'eval_metric': 'auc', 'max_depth': 6, 'learning_rate': 0.054384367938041266, 'n_estimators': 274, 'subsample': 0.9058679774844725, 'colsample_bytree': 0.919140643711748, 'random_state': 42, 'early_stopping_rounds': 10, 'scale_pos_weight': 1, 'reg_alpha': 2.6624827533893134, 'reg_lambda': 3.447184853573396}\n"
     ]
    },
    {
     "name": "stderr",
     "output_type": "stream",
     "text": [
      "INFO:models.ensemble_models:Adjusted scale_pos_weight to 1.109\n"
     ]
    },
    {
     "name": "stderr",
     "output_type": "stream",
     "text": [
      "INFO:models.ensemble_models:Training XGBoost on 135 samples...\n"
     ]
    },
    {
     "name": "stderr",
     "output_type": "stream",
     "text": [
      "INFO:models.ensemble_models:Training completed in 0.01 seconds\n"
     ]
    },
    {
     "name": "stderr",
     "output_type": "stream",
     "text": [
      "[I 2025-08-16 00:00:04,197] Trial 2 finished with value: 1.0 and parameters: {'max_depth': 6, 'learning_rate': 0.054384367938041266, 'n_estimators': 274, 'subsample': 0.9058679774844725, 'colsample_bytree': 0.919140643711748, 'reg_alpha': 2.6624827533893134, 'reg_lambda': 3.447184853573396}. Best is trial 0 with value: 1.0.\n"
     ]
    },
    {
     "name": "stderr",
     "output_type": "stream",
     "text": [
      "INFO:models.ensemble_models:Initialized XGBoost with parameters: {'objective': 'binary:logistic', 'eval_metric': 'auc', 'max_depth': 4, 'learning_rate': 0.03599509565746839, 'n_estimators': 157, 'subsample': 0.8261266936954414, 'colsample_bytree': 0.9041852075088102, 'random_state': 42, 'early_stopping_rounds': 10, 'scale_pos_weight': 1, 'reg_alpha': 1.6516647893972969, 'reg_lambda': 4.35881738405623}\n"
     ]
    },
    {
     "name": "stderr",
     "output_type": "stream",
     "text": [
      "INFO:models.ensemble_models:Adjusted scale_pos_weight to 1.109\n"
     ]
    },
    {
     "name": "stderr",
     "output_type": "stream",
     "text": [
      "INFO:models.ensemble_models:Training XGBoost on 135 samples...\n"
     ]
    },
    {
     "name": "stderr",
     "output_type": "stream",
     "text": [
      "INFO:models.ensemble_models:Training completed in 0.01 seconds\n"
     ]
    },
    {
     "name": "stderr",
     "output_type": "stream",
     "text": [
      "[I 2025-08-16 00:00:04,209] Trial 3 finished with value: 1.0 and parameters: {'max_depth': 4, 'learning_rate': 0.03599509565746839, 'n_estimators': 157, 'subsample': 0.8261266936954414, 'colsample_bytree': 0.9041852075088102, 'reg_alpha': 1.6516647893972969, 'reg_lambda': 4.35881738405623}. Best is trial 0 with value: 1.0.\n"
     ]
    },
    {
     "name": "stderr",
     "output_type": "stream",
     "text": [
      "INFO:models.ensemble_models:Initialized XGBoost with parameters: {'objective': 'binary:logistic', 'eval_metric': 'auc', 'max_depth': 7, 'learning_rate': 0.01917148362710192, 'n_estimators': 80, 'subsample': 0.8935808573720347, 'colsample_bytree': 0.9577512607214784, 'random_state': 42, 'early_stopping_rounds': 10, 'scale_pos_weight': 1, 'reg_alpha': 7.90722369654985, 'reg_lambda': 8.688050892713862}\n"
     ]
    },
    {
     "name": "stderr",
     "output_type": "stream",
     "text": [
      "INFO:models.ensemble_models:Adjusted scale_pos_weight to 1.109\n"
     ]
    },
    {
     "name": "stderr",
     "output_type": "stream",
     "text": [
      "INFO:models.ensemble_models:Training XGBoost on 135 samples...\n"
     ]
    },
    {
     "name": "stderr",
     "output_type": "stream",
     "text": [
      "INFO:models.ensemble_models:Training completed in 0.01 seconds\n"
     ]
    },
    {
     "name": "stderr",
     "output_type": "stream",
     "text": [
      "[I 2025-08-16 00:00:04,220] Trial 4 finished with value: 1.0 and parameters: {'max_depth': 7, 'learning_rate': 0.01917148362710192, 'n_estimators': 80, 'subsample': 0.8935808573720347, 'colsample_bytree': 0.9577512607214784, 'reg_alpha': 7.90722369654985, 'reg_lambda': 8.688050892713862}. Best is trial 0 with value: 1.0.\n"
     ]
    },
    {
     "name": "stderr",
     "output_type": "stream",
     "text": [
      "INFO:models.ensemble_models:Initialized XGBoost with parameters: {'objective': 'binary:logistic', 'eval_metric': 'auc', 'max_depth': 10, 'learning_rate': 0.08712505568797588, 'n_estimators': 216, 'subsample': 0.7264577107994721, 'colsample_bytree': 0.9345483031596222, 'random_state': 42, 'early_stopping_rounds': 10, 'scale_pos_weight': 1, 'reg_alpha': 3.567354702745905, 'reg_lambda': 4.197980188938148}\n"
     ]
    },
    {
     "name": "stderr",
     "output_type": "stream",
     "text": [
      "INFO:models.ensemble_models:Adjusted scale_pos_weight to 1.109\n"
     ]
    },
    {
     "name": "stderr",
     "output_type": "stream",
     "text": [
      "INFO:models.ensemble_models:Training XGBoost on 135 samples...\n"
     ]
    },
    {
     "name": "stderr",
     "output_type": "stream",
     "text": [
      "INFO:models.ensemble_models:Training completed in 0.01 seconds\n"
     ]
    },
    {
     "name": "stderr",
     "output_type": "stream",
     "text": [
      "[I 2025-08-16 00:00:04,232] Trial 5 finished with value: 1.0 and parameters: {'max_depth': 10, 'learning_rate': 0.08712505568797588, 'n_estimators': 216, 'subsample': 0.7264577107994721, 'colsample_bytree': 0.9345483031596222, 'reg_alpha': 3.567354702745905, 'reg_lambda': 4.197980188938148}. Best is trial 0 with value: 1.0.\n"
     ]
    },
    {
     "name": "stderr",
     "output_type": "stream",
     "text": [
      "INFO:models.ensemble_models:Initialized XGBoost with parameters: {'objective': 'binary:logistic', 'eval_metric': 'auc', 'max_depth': 10, 'learning_rate': 0.07436577269215013, 'n_estimators': 187, 'subsample': 0.7103370067892282, 'colsample_bytree': 0.710033944983388, 'random_state': 42, 'early_stopping_rounds': 10, 'scale_pos_weight': 1, 'reg_alpha': 9.038256918955854, 'reg_lambda': 8.500120298251444}\n"
     ]
    },
    {
     "name": "stderr",
     "output_type": "stream",
     "text": [
      "INFO:models.ensemble_models:Adjusted scale_pos_weight to 1.109\n"
     ]
    },
    {
     "name": "stderr",
     "output_type": "stream",
     "text": [
      "INFO:models.ensemble_models:Training XGBoost on 135 samples...\n"
     ]
    },
    {
     "name": "stdout",
     "output_type": "stream",
     "text": [
      "Running hyperparameter optimization for XGBoost...\n",
      "(This may take several minutes)\n"
     ]
    },
    {
     "name": "stderr",
     "output_type": "stream",
     "text": [
      "INFO:models.ensemble_models:Training completed in 0.01 seconds\n"
     ]
    },
    {
     "name": "stderr",
     "output_type": "stream",
     "text": [
      "[I 2025-08-16 00:00:04,243] Trial 6 finished with value: 1.0 and parameters: {'max_depth': 10, 'learning_rate': 0.07436577269215013, 'n_estimators': 187, 'subsample': 0.7103370067892282, 'colsample_bytree': 0.710033944983388, 'reg_alpha': 9.038256918955854, 'reg_lambda': 8.500120298251444}. Best is trial 0 with value: 1.0.\n"
     ]
    },
    {
     "name": "stderr",
     "output_type": "stream",
     "text": [
      "INFO:models.ensemble_models:Initialized XGBoost with parameters: {'objective': 'binary:logistic', 'eval_metric': 'auc', 'max_depth': 9, 'learning_rate': 0.046189372986857, 'n_estimators': 69, 'subsample': 0.9283485673358508, 'colsample_bytree': 0.9121577468017155, 'random_state': 42, 'early_stopping_rounds': 10, 'scale_pos_weight': 1, 'reg_alpha': 4.022498650295106, 'reg_lambda': 1.637723503533356}\n"
     ]
    },
    {
     "name": "stderr",
     "output_type": "stream",
     "text": [
      "INFO:models.ensemble_models:Adjusted scale_pos_weight to 1.109\n"
     ]
    },
    {
     "name": "stderr",
     "output_type": "stream",
     "text": [
      "INFO:models.ensemble_models:Training XGBoost on 135 samples...\n"
     ]
    },
    {
     "name": "stderr",
     "output_type": "stream",
     "text": [
      "INFO:models.ensemble_models:Training completed in 0.01 seconds\n"
     ]
    },
    {
     "name": "stderr",
     "output_type": "stream",
     "text": [
      "[I 2025-08-16 00:00:04,255] Trial 7 finished with value: 1.0 and parameters: {'max_depth': 9, 'learning_rate': 0.046189372986857, 'n_estimators': 69, 'subsample': 0.9283485673358508, 'colsample_bytree': 0.9121577468017155, 'reg_alpha': 4.022498650295106, 'reg_lambda': 1.637723503533356}. Best is trial 0 with value: 1.0.\n"
     ]
    },
    {
     "name": "stderr",
     "output_type": "stream",
     "text": [
      "INFO:models.ensemble_models:Initialized XGBoost with parameters: {'objective': 'binary:logistic', 'eval_metric': 'auc', 'max_depth': 8, 'learning_rate': 0.17390703294557866, 'n_estimators': 73, 'subsample': 0.9135498928652541, 'colsample_bytree': 0.7741878608035098, 'random_state': 42, 'early_stopping_rounds': 10, 'scale_pos_weight': 1, 'reg_alpha': 7.873472996665863, 'reg_lambda': 8.390812293333767}\n"
     ]
    },
    {
     "name": "stderr",
     "output_type": "stream",
     "text": [
      "INFO:models.ensemble_models:Adjusted scale_pos_weight to 1.109\n"
     ]
    },
    {
     "name": "stderr",
     "output_type": "stream",
     "text": [
      "INFO:models.ensemble_models:Training XGBoost on 135 samples...\n"
     ]
    },
    {
     "name": "stderr",
     "output_type": "stream",
     "text": [
      "INFO:models.ensemble_models:Training completed in 0.02 seconds\n"
     ]
    },
    {
     "name": "stderr",
     "output_type": "stream",
     "text": [
      "[I 2025-08-16 00:00:04,275] Trial 8 finished with value: 1.0 and parameters: {'max_depth': 8, 'learning_rate': 0.17390703294557866, 'n_estimators': 73, 'subsample': 0.9135498928652541, 'colsample_bytree': 0.7741878608035098, 'reg_alpha': 7.873472996665863, 'reg_lambda': 8.390812293333767}. Best is trial 0 with value: 1.0.\n"
     ]
    },
    {
     "name": "stderr",
     "output_type": "stream",
     "text": [
      "INFO:models.ensemble_models:Initialized XGBoost with parameters: {'objective': 'binary:logistic', 'eval_metric': 'auc', 'max_depth': 5, 'learning_rate': 0.1404490315944758, 'n_estimators': 199, 'subsample': 0.9642261975667068, 'colsample_bytree': 0.7385761418531112, 'random_state': 42, 'early_stopping_rounds': 10, 'scale_pos_weight': 1, 'reg_alpha': 7.993511822081178, 'reg_lambda': 8.027471421927547}\n"
     ]
    },
    {
     "name": "stderr",
     "output_type": "stream",
     "text": [
      "INFO:models.ensemble_models:Adjusted scale_pos_weight to 1.109\n"
     ]
    },
    {
     "name": "stderr",
     "output_type": "stream",
     "text": [
      "INFO:models.ensemble_models:Training XGBoost on 135 samples...\n"
     ]
    },
    {
     "name": "stderr",
     "output_type": "stream",
     "text": [
      "INFO:models.ensemble_models:Training completed in 0.01 seconds\n"
     ]
    },
    {
     "name": "stderr",
     "output_type": "stream",
     "text": [
      "[I 2025-08-16 00:00:04,287] Trial 9 finished with value: 1.0 and parameters: {'max_depth': 5, 'learning_rate': 0.1404490315944758, 'n_estimators': 199, 'subsample': 0.9642261975667068, 'colsample_bytree': 0.7385761418531112, 'reg_alpha': 7.993511822081178, 'reg_lambda': 8.027471421927547}. Best is trial 0 with value: 1.0.\n"
     ]
    },
    {
     "name": "stderr",
     "output_type": "stream",
     "text": [
      "INFO:models.ensemble_models:Initialized XGBoost with parameters: {'objective': 'binary:logistic', 'eval_metric': 'auc', 'max_depth': 3, 'learning_rate': 0.010343027390368615, 'n_estimators': 138, 'subsample': 0.6032314082261904, 'colsample_bytree': 0.8290642422988389, 'random_state': 42, 'early_stopping_rounds': 10, 'scale_pos_weight': 1, 'reg_alpha': 5.708113018575286, 'reg_lambda': 6.313493119412071}\n"
     ]
    },
    {
     "name": "stderr",
     "output_type": "stream",
     "text": [
      "INFO:models.ensemble_models:Adjusted scale_pos_weight to 1.109\n"
     ]
    },
    {
     "name": "stderr",
     "output_type": "stream",
     "text": [
      "INFO:models.ensemble_models:Training XGBoost on 135 samples...\n"
     ]
    },
    {
     "name": "stderr",
     "output_type": "stream",
     "text": [
      "INFO:models.ensemble_models:Training completed in 0.01 seconds\n"
     ]
    },
    {
     "name": "stderr",
     "output_type": "stream",
     "text": [
      "[I 2025-08-16 00:00:04,310] Trial 10 finished with value: 1.0 and parameters: {'max_depth': 3, 'learning_rate': 0.010343027390368615, 'n_estimators': 138, 'subsample': 0.6032314082261904, 'colsample_bytree': 0.8290642422988389, 'reg_alpha': 5.708113018575286, 'reg_lambda': 6.313493119412071}. Best is trial 0 with value: 1.0.\n"
     ]
    },
    {
     "name": "stderr",
     "output_type": "stream",
     "text": [
      "INFO:models.ensemble_models:Initialized XGBoost with parameters: {'objective': 'binary:logistic', 'eval_metric': 'auc', 'max_depth': 3, 'learning_rate': 0.26045627445759784, 'n_estimators': 289, 'subsample': 0.7993183024510949, 'colsample_bytree': 0.6387502104791937, 'random_state': 42, 'early_stopping_rounds': 10, 'scale_pos_weight': 1, 'reg_alpha': 0.008625674411956233, 'reg_lambda': 9.84798747999202}\n"
     ]
    },
    {
     "name": "stderr",
     "output_type": "stream",
     "text": [
      "INFO:models.ensemble_models:Adjusted scale_pos_weight to 1.109\n"
     ]
    },
    {
     "name": "stderr",
     "output_type": "stream",
     "text": [
      "INFO:models.ensemble_models:Training XGBoost on 135 samples...\n"
     ]
    },
    {
     "name": "stderr",
     "output_type": "stream",
     "text": [
      "INFO:models.ensemble_models:Training completed in 0.01 seconds\n"
     ]
    },
    {
     "name": "stderr",
     "output_type": "stream",
     "text": [
      "[I 2025-08-16 00:00:04,330] Trial 11 finished with value: 1.0 and parameters: {'max_depth': 3, 'learning_rate': 0.26045627445759784, 'n_estimators': 289, 'subsample': 0.7993183024510949, 'colsample_bytree': 0.6387502104791937, 'reg_alpha': 0.008625674411956233, 'reg_lambda': 9.84798747999202}. Best is trial 0 with value: 1.0.\n"
     ]
    },
    {
     "name": "stderr",
     "output_type": "stream",
     "text": [
      "INFO:models.ensemble_models:Initialized XGBoost with parameters: {'objective': 'binary:logistic', 'eval_metric': 'auc', 'max_depth': 5, 'learning_rate': 0.25371692386693845, 'n_estimators': 246, 'subsample': 0.8180368334565234, 'colsample_bytree': 0.6030669962828673, 'random_state': 42, 'early_stopping_rounds': 10, 'scale_pos_weight': 1, 'reg_alpha': 0.14849751312593673, 'reg_lambda': 6.624123979252345}\n"
     ]
    },
    {
     "name": "stderr",
     "output_type": "stream",
     "text": [
      "INFO:models.ensemble_models:Adjusted scale_pos_weight to 1.109\n"
     ]
    },
    {
     "name": "stderr",
     "output_type": "stream",
     "text": [
      "INFO:models.ensemble_models:Training XGBoost on 135 samples...\n"
     ]
    },
    {
     "name": "stderr",
     "output_type": "stream",
     "text": [
      "INFO:models.ensemble_models:Training completed in 0.01 seconds\n"
     ]
    },
    {
     "name": "stderr",
     "output_type": "stream",
     "text": [
      "[I 2025-08-16 00:00:04,350] Trial 12 finished with value: 1.0 and parameters: {'max_depth': 5, 'learning_rate': 0.25371692386693845, 'n_estimators': 246, 'subsample': 0.8180368334565234, 'colsample_bytree': 0.6030669962828673, 'reg_alpha': 0.14849751312593673, 'reg_lambda': 6.624123979252345}. Best is trial 0 with value: 1.0.\n"
     ]
    },
    {
     "name": "stderr",
     "output_type": "stream",
     "text": [
      "INFO:models.ensemble_models:Initialized XGBoost with parameters: {'objective': 'binary:logistic', 'eval_metric': 'auc', 'max_depth': 7, 'learning_rate': 0.139454555586689, 'n_estimators': 122, 'subsample': 0.7306668111311755, 'colsample_bytree': 0.6819520795260205, 'random_state': 42, 'early_stopping_rounds': 10, 'scale_pos_weight': 1, 'reg_alpha': 1.425824631245645, 'reg_lambda': 9.998761788186458}\n"
     ]
    },
    {
     "name": "stderr",
     "output_type": "stream",
     "text": [
      "INFO:models.ensemble_models:Adjusted scale_pos_weight to 1.109\n"
     ]
    },
    {
     "name": "stderr",
     "output_type": "stream",
     "text": [
      "INFO:models.ensemble_models:Training XGBoost on 135 samples...\n"
     ]
    },
    {
     "name": "stderr",
     "output_type": "stream",
     "text": [
      "INFO:models.ensemble_models:Training completed in 0.01 seconds\n"
     ]
    },
    {
     "name": "stderr",
     "output_type": "stream",
     "text": [
      "[I 2025-08-16 00:00:04,370] Trial 13 finished with value: 1.0 and parameters: {'max_depth': 7, 'learning_rate': 0.139454555586689, 'n_estimators': 122, 'subsample': 0.7306668111311755, 'colsample_bytree': 0.6819520795260205, 'reg_alpha': 1.425824631245645, 'reg_lambda': 9.998761788186458}. Best is trial 0 with value: 1.0.\n"
     ]
    },
    {
     "name": "stderr",
     "output_type": "stream",
     "text": [
      "INFO:models.ensemble_models:Initialized XGBoost with parameters: {'objective': 'binary:logistic', 'eval_metric': 'auc', 'max_depth': 5, 'learning_rate': 0.28887814959739977, 'n_estimators': 249, 'subsample': 0.6574070590881897, 'colsample_bytree': 0.8318019118561465, 'random_state': 42, 'early_stopping_rounds': 10, 'scale_pos_weight': 1, 'reg_alpha': 5.6440765330840525, 'reg_lambda': 6.312634196073481}\n"
     ]
    },
    {
     "name": "stderr",
     "output_type": "stream",
     "text": [
      "INFO:models.ensemble_models:Adjusted scale_pos_weight to 1.109\n"
     ]
    },
    {
     "name": "stderr",
     "output_type": "stream",
     "text": [
      "INFO:models.ensemble_models:Training XGBoost on 135 samples...\n"
     ]
    },
    {
     "name": "stderr",
     "output_type": "stream",
     "text": [
      "INFO:models.ensemble_models:Training completed in 0.01 seconds\n"
     ]
    },
    {
     "name": "stderr",
     "output_type": "stream",
     "text": [
      "[I 2025-08-16 00:00:04,390] Trial 14 finished with value: 1.0 and parameters: {'max_depth': 5, 'learning_rate': 0.28887814959739977, 'n_estimators': 249, 'subsample': 0.6574070590881897, 'colsample_bytree': 0.8318019118561465, 'reg_alpha': 5.6440765330840525, 'reg_lambda': 6.312634196073481}. Best is trial 0 with value: 1.0.\n"
     ]
    },
    {
     "name": "stderr",
     "output_type": "stream",
     "text": [
      "INFO:models.ensemble_models:Initialized XGBoost with parameters: {'objective': 'binary:logistic', 'eval_metric': 'auc', 'max_depth': 4, 'learning_rate': 0.10157282365088305, 'n_estimators': 227, 'subsample': 0.8405544954389589, 'colsample_bytree': 0.6691150814207869, 'random_state': 42, 'early_stopping_rounds': 10, 'scale_pos_weight': 1, 'reg_alpha': 1.522422958878603, 'reg_lambda': 6.866731446638758}\n"
     ]
    },
    {
     "name": "stderr",
     "output_type": "stream",
     "text": [
      "INFO:models.ensemble_models:Adjusted scale_pos_weight to 1.109\n"
     ]
    },
    {
     "name": "stderr",
     "output_type": "stream",
     "text": [
      "INFO:models.ensemble_models:Training XGBoost on 135 samples...\n"
     ]
    },
    {
     "name": "stderr",
     "output_type": "stream",
     "text": [
      "INFO:models.ensemble_models:Training completed in 0.01 seconds\n"
     ]
    },
    {
     "name": "stderr",
     "output_type": "stream",
     "text": [
      "[I 2025-08-16 00:00:04,410] Trial 15 finished with value: 1.0 and parameters: {'max_depth': 4, 'learning_rate': 0.10157282365088305, 'n_estimators': 227, 'subsample': 0.8405544954389589, 'colsample_bytree': 0.6691150814207869, 'reg_alpha': 1.522422958878603, 'reg_lambda': 6.866731446638758}. Best is trial 0 with value: 1.0.\n"
     ]
    },
    {
     "name": "stderr",
     "output_type": "stream",
     "text": [
      "INFO:models.ensemble_models:Initialized XGBoost with parameters: {'objective': 'binary:logistic', 'eval_metric': 'auc', 'max_depth': 6, 'learning_rate': 0.18207855296918973, 'n_estimators': 265, 'subsample': 0.9967328101074449, 'colsample_bytree': 0.7703472673376098, 'random_state': 42, 'early_stopping_rounds': 10, 'scale_pos_weight': 1, 'reg_alpha': 2.713889667491652, 'reg_lambda': 7.600456418406211}\n"
     ]
    },
    {
     "name": "stderr",
     "output_type": "stream",
     "text": [
      "INFO:models.ensemble_models:Adjusted scale_pos_weight to 1.109\n"
     ]
    },
    {
     "name": "stderr",
     "output_type": "stream",
     "text": [
      "INFO:models.ensemble_models:Training XGBoost on 135 samples...\n"
     ]
    },
    {
     "name": "stderr",
     "output_type": "stream",
     "text": [
      "INFO:models.ensemble_models:Training completed in 0.01 seconds\n"
     ]
    },
    {
     "name": "stderr",
     "output_type": "stream",
     "text": [
      "[I 2025-08-16 00:00:04,433] Trial 16 finished with value: 1.0 and parameters: {'max_depth': 6, 'learning_rate': 0.18207855296918973, 'n_estimators': 265, 'subsample': 0.9967328101074449, 'colsample_bytree': 0.7703472673376098, 'reg_alpha': 2.713889667491652, 'reg_lambda': 7.600456418406211}. Best is trial 0 with value: 1.0.\n"
     ]
    },
    {
     "name": "stderr",
     "output_type": "stream",
     "text": [
      "INFO:models.ensemble_models:Initialized XGBoost with parameters: {'objective': 'binary:logistic', 'eval_metric': 'auc', 'max_depth': 8, 'learning_rate': 0.03013694912783867, 'n_estimators': 168, 'subsample': 0.7716983594542488, 'colsample_bytree': 0.8380711628641582, 'random_state': 42, 'early_stopping_rounds': 10, 'scale_pos_weight': 1, 'reg_alpha': 0.9380434218230946, 'reg_lambda': 9.280840924050331}\n"
     ]
    },
    {
     "name": "stderr",
     "output_type": "stream",
     "text": [
      "INFO:models.ensemble_models:Adjusted scale_pos_weight to 1.109\n"
     ]
    },
    {
     "name": "stderr",
     "output_type": "stream",
     "text": [
      "INFO:models.ensemble_models:Training XGBoost on 135 samples...\n"
     ]
    },
    {
     "name": "stderr",
     "output_type": "stream",
     "text": [
      "INFO:models.ensemble_models:Training completed in 0.01 seconds\n"
     ]
    },
    {
     "name": "stderr",
     "output_type": "stream",
     "text": [
      "[I 2025-08-16 00:00:04,453] Trial 17 finished with value: 1.0 and parameters: {'max_depth': 8, 'learning_rate': 0.03013694912783867, 'n_estimators': 168, 'subsample': 0.7716983594542488, 'colsample_bytree': 0.8380711628641582, 'reg_alpha': 0.9380434218230946, 'reg_lambda': 9.280840924050331}. Best is trial 0 with value: 1.0.\n"
     ]
    },
    {
     "name": "stderr",
     "output_type": "stream",
     "text": [
      "INFO:models.ensemble_models:Initialized XGBoost with parameters: {'objective': 'binary:logistic', 'eval_metric': 'auc', 'max_depth': 4, 'learning_rate': 0.11953025833419084, 'n_estimators': 106, 'subsample': 0.860798069195176, 'colsample_bytree': 0.7272244360140213, 'random_state': 42, 'early_stopping_rounds': 10, 'scale_pos_weight': 1, 'reg_alpha': 4.510425577353606, 'reg_lambda': 0.3156799795278804}\n"
     ]
    },
    {
     "name": "stderr",
     "output_type": "stream",
     "text": [
      "INFO:models.ensemble_models:Adjusted scale_pos_weight to 1.109\n"
     ]
    },
    {
     "name": "stderr",
     "output_type": "stream",
     "text": [
      "INFO:models.ensemble_models:Training XGBoost on 135 samples...\n"
     ]
    },
    {
     "name": "stderr",
     "output_type": "stream",
     "text": [
      "INFO:models.ensemble_models:Training completed in 0.01 seconds\n"
     ]
    },
    {
     "name": "stderr",
     "output_type": "stream",
     "text": [
      "[I 2025-08-16 00:00:04,473] Trial 18 finished with value: 1.0 and parameters: {'max_depth': 4, 'learning_rate': 0.11953025833419084, 'n_estimators': 106, 'subsample': 0.860798069195176, 'colsample_bytree': 0.7272244360140213, 'reg_alpha': 4.510425577353606, 'reg_lambda': 0.3156799795278804}. Best is trial 0 with value: 1.0.\n"
     ]
    },
    {
     "name": "stderr",
     "output_type": "stream",
     "text": [
      "INFO:models.ensemble_models:Initialized XGBoost with parameters: {'objective': 'binary:logistic', 'eval_metric': 'auc', 'max_depth': 3, 'learning_rate': 0.186086329716671, 'n_estimators': 299, 'subsample': 0.762497986977114, 'colsample_bytree': 0.9917329861561373, 'random_state': 42, 'early_stopping_rounds': 10, 'scale_pos_weight': 1, 'reg_alpha': 2.9389367128126933, 'reg_lambda': 5.326690075154142}\n"
     ]
    },
    {
     "name": "stderr",
     "output_type": "stream",
     "text": [
      "INFO:models.ensemble_models:Adjusted scale_pos_weight to 1.109\n"
     ]
    },
    {
     "name": "stderr",
     "output_type": "stream",
     "text": [
      "INFO:models.ensemble_models:Training XGBoost on 135 samples...\n"
     ]
    },
    {
     "name": "stderr",
     "output_type": "stream",
     "text": [
      "INFO:models.ensemble_models:Training completed in 0.01 seconds\n"
     ]
    },
    {
     "name": "stderr",
     "output_type": "stream",
     "text": [
      "[I 2025-08-16 00:00:04,493] Trial 19 finished with value: 1.0 and parameters: {'max_depth': 3, 'learning_rate': 0.186086329716671, 'n_estimators': 299, 'subsample': 0.762497986977114, 'colsample_bytree': 0.9917329861561373, 'reg_alpha': 2.9389367128126933, 'reg_lambda': 5.326690075154142}. Best is trial 0 with value: 1.0.\n"
     ]
    },
    {
     "name": "stderr",
     "output_type": "stream",
     "text": [
      "INFO:models.ensemble_models:Initialized XGBoost with parameters: {'objective': 'binary:logistic', 'eval_metric': 'auc', 'max_depth': 8, 'learning_rate': 0.07186690321884331, 'n_estimators': 213, 'subsample': 0.6876993622932533, 'colsample_bytree': 0.6197847272849942, 'random_state': 42, 'early_stopping_rounds': 10, 'scale_pos_weight': 1, 'reg_alpha': 0.6872257020610633, 'reg_lambda': 7.494931593961171}\n"
     ]
    },
    {
     "name": "stderr",
     "output_type": "stream",
     "text": [
      "INFO:models.ensemble_models:Adjusted scale_pos_weight to 1.109\n"
     ]
    },
    {
     "name": "stderr",
     "output_type": "stream",
     "text": [
      "INFO:models.ensemble_models:Training XGBoost on 135 samples...\n"
     ]
    },
    {
     "name": "stderr",
     "output_type": "stream",
     "text": [
      "INFO:models.ensemble_models:Training completed in 0.01 seconds\n"
     ]
    },
    {
     "name": "stderr",
     "output_type": "stream",
     "text": [
      "[I 2025-08-16 00:00:04,513] Trial 20 finished with value: 1.0 and parameters: {'max_depth': 8, 'learning_rate': 0.07186690321884331, 'n_estimators': 213, 'subsample': 0.6876993622932533, 'colsample_bytree': 0.6197847272849942, 'reg_alpha': 0.6872257020610633, 'reg_lambda': 7.494931593961171}. Best is trial 0 with value: 1.0.\n"
     ]
    },
    {
     "name": "stderr",
     "output_type": "stream",
     "text": [
      "INFO:models.ensemble_models:Initialized XGBoost with parameters: {'objective': 'binary:logistic', 'eval_metric': 'auc', 'max_depth': 6, 'learning_rate': 0.05573835389135937, 'n_estimators': 275, 'subsample': 0.9570626676548251, 'colsample_bytree': 0.894590190560935, 'random_state': 42, 'early_stopping_rounds': 10, 'scale_pos_weight': 1, 'reg_alpha': 2.405528410686065, 'reg_lambda': 2.9582223059269888}\n"
     ]
    },
    {
     "name": "stderr",
     "output_type": "stream",
     "text": [
      "INFO:models.ensemble_models:Adjusted scale_pos_weight to 1.109\n"
     ]
    },
    {
     "name": "stderr",
     "output_type": "stream",
     "text": [
      "INFO:models.ensemble_models:Training XGBoost on 135 samples...\n"
     ]
    },
    {
     "name": "stderr",
     "output_type": "stream",
     "text": [
      "INFO:models.ensemble_models:Training completed in 0.01 seconds\n"
     ]
    },
    {
     "name": "stderr",
     "output_type": "stream",
     "text": [
      "[I 2025-08-16 00:00:04,533] Trial 21 finished with value: 1.0 and parameters: {'max_depth': 6, 'learning_rate': 0.05573835389135937, 'n_estimators': 275, 'subsample': 0.9570626676548251, 'colsample_bytree': 0.894590190560935, 'reg_alpha': 2.405528410686065, 'reg_lambda': 2.9582223059269888}. Best is trial 0 with value: 1.0.\n"
     ]
    },
    {
     "name": "stderr",
     "output_type": "stream",
     "text": [
      "INFO:models.ensemble_models:Initialized XGBoost with parameters: {'objective': 'binary:logistic', 'eval_metric': 'auc', 'max_depth': 6, 'learning_rate': 0.020884049222835318, 'n_estimators': 244, 'subsample': 0.8805424879525681, 'colsample_bytree': 0.8783605004942269, 'random_state': 42, 'early_stopping_rounds': 10, 'scale_pos_weight': 1, 'reg_alpha': 2.103980276365669, 'reg_lambda': 3.0408609421700667}\n"
     ]
    },
    {
     "name": "stderr",
     "output_type": "stream",
     "text": [
      "INFO:models.ensemble_models:Adjusted scale_pos_weight to 1.109\n"
     ]
    },
    {
     "name": "stderr",
     "output_type": "stream",
     "text": [
      "INFO:models.ensemble_models:Training XGBoost on 135 samples...\n"
     ]
    },
    {
     "name": "stderr",
     "output_type": "stream",
     "text": [
      "INFO:models.ensemble_models:Training completed in 0.01 seconds\n"
     ]
    },
    {
     "name": "stderr",
     "output_type": "stream",
     "text": [
      "[I 2025-08-16 00:00:04,555] Trial 22 finished with value: 1.0 and parameters: {'max_depth': 6, 'learning_rate': 0.020884049222835318, 'n_estimators': 244, 'subsample': 0.8805424879525681, 'colsample_bytree': 0.8783605004942269, 'reg_alpha': 2.103980276365669, 'reg_lambda': 3.0408609421700667}. Best is trial 0 with value: 1.0.\n"
     ]
    },
    {
     "name": "stderr",
     "output_type": "stream",
     "text": [
      "INFO:models.ensemble_models:Initialized XGBoost with parameters: {'objective': 'binary:logistic', 'eval_metric': 'auc', 'max_depth': 7, 'learning_rate': 0.060152428495628914, 'n_estimators': 280, 'subsample': 0.9986460459861386, 'colsample_bytree': 0.7880115446984296, 'random_state': 42, 'early_stopping_rounds': 10, 'scale_pos_weight': 1, 'reg_alpha': 3.3857144527960656, 'reg_lambda': 5.228562556251305}\n"
     ]
    },
    {
     "name": "stderr",
     "output_type": "stream",
     "text": [
      "INFO:models.ensemble_models:Adjusted scale_pos_weight to 1.109\n"
     ]
    },
    {
     "name": "stderr",
     "output_type": "stream",
     "text": [
      "INFO:models.ensemble_models:Training XGBoost on 135 samples...\n"
     ]
    },
    {
     "name": "stderr",
     "output_type": "stream",
     "text": [
      "INFO:models.ensemble_models:Training completed in 0.01 seconds\n"
     ]
    },
    {
     "name": "stderr",
     "output_type": "stream",
     "text": [
      "[I 2025-08-16 00:00:04,575] Trial 23 finished with value: 1.0 and parameters: {'max_depth': 7, 'learning_rate': 0.060152428495628914, 'n_estimators': 280, 'subsample': 0.9986460459861386, 'colsample_bytree': 0.7880115446984296, 'reg_alpha': 3.3857144527960656, 'reg_lambda': 5.228562556251305}. Best is trial 0 with value: 1.0.\n"
     ]
    },
    {
     "name": "stderr",
     "output_type": "stream",
     "text": [
      "INFO:models.ensemble_models:Initialized XGBoost with parameters: {'objective': 'binary:logistic', 'eval_metric': 'auc', 'max_depth': 5, 'learning_rate': 0.20040559056284407, 'n_estimators': 253, 'subsample': 0.9459139434030387, 'colsample_bytree': 0.8556780646248374, 'random_state': 42, 'early_stopping_rounds': 10, 'scale_pos_weight': 1, 'reg_alpha': 0.8289491901508157, 'reg_lambda': 2.351936211667036}\n"
     ]
    },
    {
     "name": "stderr",
     "output_type": "stream",
     "text": [
      "INFO:models.ensemble_models:Adjusted scale_pos_weight to 1.109\n"
     ]
    },
    {
     "name": "stderr",
     "output_type": "stream",
     "text": [
      "INFO:models.ensemble_models:Training XGBoost on 135 samples...\n"
     ]
    },
    {
     "name": "stderr",
     "output_type": "stream",
     "text": [
      "INFO:models.ensemble_models:Training completed in 0.01 seconds\n"
     ]
    },
    {
     "name": "stderr",
     "output_type": "stream",
     "text": [
      "[I 2025-08-16 00:00:04,596] Trial 24 finished with value: 1.0 and parameters: {'max_depth': 5, 'learning_rate': 0.20040559056284407, 'n_estimators': 253, 'subsample': 0.9459139434030387, 'colsample_bytree': 0.8556780646248374, 'reg_alpha': 0.8289491901508157, 'reg_lambda': 2.351936211667036}. Best is trial 0 with value: 1.0.\n"
     ]
    },
    {
     "name": "stderr",
     "output_type": "stream",
     "text": [
      "INFO:models.ensemble_models:Initialized XGBoost with parameters: {'objective': 'binary:logistic', 'eval_metric': 'auc', 'max_depth': 6, 'learning_rate': 0.04172990316967698, 'n_estimators': 231, 'subsample': 0.9000548522183021, 'colsample_bytree': 0.663862307427561, 'random_state': 42, 'early_stopping_rounds': 10, 'scale_pos_weight': 1, 'reg_alpha': 4.911639841011066, 'reg_lambda': 4.012256625802888}\n"
     ]
    },
    {
     "name": "stderr",
     "output_type": "stream",
     "text": [
      "INFO:models.ensemble_models:Adjusted scale_pos_weight to 1.109\n"
     ]
    },
    {
     "name": "stderr",
     "output_type": "stream",
     "text": [
      "INFO:models.ensemble_models:Training XGBoost on 135 samples...\n"
     ]
    },
    {
     "name": "stderr",
     "output_type": "stream",
     "text": [
      "INFO:models.ensemble_models:Training completed in 0.01 seconds\n"
     ]
    },
    {
     "name": "stderr",
     "output_type": "stream",
     "text": [
      "[I 2025-08-16 00:00:04,620] Trial 25 finished with value: 1.0 and parameters: {'max_depth': 6, 'learning_rate': 0.04172990316967698, 'n_estimators': 231, 'subsample': 0.9000548522183021, 'colsample_bytree': 0.663862307427561, 'reg_alpha': 4.911639841011066, 'reg_lambda': 4.012256625802888}. Best is trial 0 with value: 1.0.\n"
     ]
    },
    {
     "name": "stderr",
     "output_type": "stream",
     "text": [
      "INFO:models.ensemble_models:Initialized XGBoost with parameters: {'objective': 'binary:logistic', 'eval_metric': 'auc', 'max_depth': 4, 'learning_rate': 0.10872936709272894, 'n_estimators': 299, 'subsample': 0.8545613272272281, 'colsample_bytree': 0.7434286325057918, 'random_state': 42, 'early_stopping_rounds': 10, 'scale_pos_weight': 1, 'reg_alpha': 2.089633219769784, 'reg_lambda': 9.330187379881382}\n"
     ]
    },
    {
     "name": "stderr",
     "output_type": "stream",
     "text": [
      "INFO:models.ensemble_models:Adjusted scale_pos_weight to 1.109\n"
     ]
    },
    {
     "name": "stderr",
     "output_type": "stream",
     "text": [
      "INFO:models.ensemble_models:Training XGBoost on 135 samples...\n"
     ]
    },
    {
     "name": "stderr",
     "output_type": "stream",
     "text": [
      "INFO:models.ensemble_models:Training completed in 0.01 seconds\n"
     ]
    },
    {
     "name": "stderr",
     "output_type": "stream",
     "text": [
      "[I 2025-08-16 00:00:04,645] Trial 26 finished with value: 1.0 and parameters: {'max_depth': 4, 'learning_rate': 0.10872936709272894, 'n_estimators': 299, 'subsample': 0.8545613272272281, 'colsample_bytree': 0.7434286325057918, 'reg_alpha': 2.089633219769784, 'reg_lambda': 9.330187379881382}. Best is trial 0 with value: 1.0.\n"
     ]
    },
    {
     "name": "stderr",
     "output_type": "stream",
     "text": [
      "INFO:models.ensemble_models:Initialized XGBoost with parameters: {'objective': 'binary:logistic', 'eval_metric': 'auc', 'max_depth': 9, 'learning_rate': 0.026040835181098124, 'n_estimators': 267, 'subsample': 0.7863017312644733, 'colsample_bytree': 0.9806363304678121, 'random_state': 42, 'early_stopping_rounds': 10, 'scale_pos_weight': 1, 'reg_alpha': 6.444245090332299, 'reg_lambda': 5.64647062434908}\n"
     ]
    },
    {
     "name": "stderr",
     "output_type": "stream",
     "text": [
      "INFO:models.ensemble_models:Adjusted scale_pos_weight to 1.109\n"
     ]
    },
    {
     "name": "stderr",
     "output_type": "stream",
     "text": [
      "INFO:models.ensemble_models:Training XGBoost on 135 samples...\n"
     ]
    },
    {
     "name": "stderr",
     "output_type": "stream",
     "text": [
      "INFO:models.ensemble_models:Training completed in 0.01 seconds\n"
     ]
    },
    {
     "name": "stderr",
     "output_type": "stream",
     "text": [
      "[I 2025-08-16 00:00:04,665] Trial 27 finished with value: 1.0 and parameters: {'max_depth': 9, 'learning_rate': 0.026040835181098124, 'n_estimators': 267, 'subsample': 0.7863017312644733, 'colsample_bytree': 0.9806363304678121, 'reg_alpha': 6.444245090332299, 'reg_lambda': 5.64647062434908}. Best is trial 0 with value: 1.0.\n"
     ]
    },
    {
     "name": "stderr",
     "output_type": "stream",
     "text": [
      "INFO:models.ensemble_models:Initialized XGBoost with parameters: {'objective': 'binary:logistic', 'eval_metric': 'auc', 'max_depth': 7, 'learning_rate': 0.22046546651810822, 'n_estimators': 202, 'subsample': 0.9724349575279247, 'colsample_bytree': 0.8064524748596665, 'random_state': 42, 'early_stopping_rounds': 10, 'scale_pos_weight': 1, 'reg_alpha': 0.9274547466035798, 'reg_lambda': 0.9744324641034252}\n"
     ]
    },
    {
     "name": "stderr",
     "output_type": "stream",
     "text": [
      "INFO:models.ensemble_models:Adjusted scale_pos_weight to 1.109\n"
     ]
    },
    {
     "name": "stderr",
     "output_type": "stream",
     "text": [
      "INFO:models.ensemble_models:Training XGBoost on 135 samples...\n"
     ]
    },
    {
     "name": "stderr",
     "output_type": "stream",
     "text": [
      "INFO:models.ensemble_models:Training completed in 0.01 seconds\n"
     ]
    },
    {
     "name": "stderr",
     "output_type": "stream",
     "text": [
      "[I 2025-08-16 00:00:04,686] Trial 28 finished with value: 1.0 and parameters: {'max_depth': 7, 'learning_rate': 0.22046546651810822, 'n_estimators': 202, 'subsample': 0.9724349575279247, 'colsample_bytree': 0.8064524748596665, 'reg_alpha': 0.9274547466035798, 'reg_lambda': 0.9744324641034252}. Best is trial 0 with value: 1.0.\n"
     ]
    },
    {
     "name": "stderr",
     "output_type": "stream",
     "text": [
      "INFO:models.ensemble_models:Initialized XGBoost with parameters: {'objective': 'binary:logistic', 'eval_metric': 'auc', 'max_depth': 4, 'learning_rate': 0.13975326879632433, 'n_estimators': 149, 'subsample': 0.82099268648962, 'colsample_bytree': 0.6885458453584937, 'random_state': 42, 'early_stopping_rounds': 10, 'scale_pos_weight': 1, 'reg_alpha': 1.4197051770336397, 'reg_lambda': 3.5161582468708277}\n"
     ]
    },
    {
     "name": "stderr",
     "output_type": "stream",
     "text": [
      "INFO:models.ensemble_models:Adjusted scale_pos_weight to 1.109\n"
     ]
    },
    {
     "name": "stderr",
     "output_type": "stream",
     "text": [
      "INFO:models.ensemble_models:Training XGBoost on 135 samples...\n"
     ]
    },
    {
     "name": "stderr",
     "output_type": "stream",
     "text": [
      "INFO:models.ensemble_models:Training completed in 0.01 seconds\n"
     ]
    },
    {
     "name": "stderr",
     "output_type": "stream",
     "text": [
      "[I 2025-08-16 00:00:04,707] Trial 29 finished with value: 1.0 and parameters: {'max_depth': 4, 'learning_rate': 0.13975326879632433, 'n_estimators': 149, 'subsample': 0.82099268648962, 'colsample_bytree': 0.6885458453584937, 'reg_alpha': 1.4197051770336397, 'reg_lambda': 3.5161582468708277}. Best is trial 0 with value: 1.0.\n"
     ]
    },
    {
     "name": "stderr",
     "output_type": "stream",
     "text": [
      "INFO:models.ensemble_models:Initialized XGBoost with parameters: {'objective': 'binary:logistic', 'eval_metric': 'auc', 'max_depth': 5, 'learning_rate': 0.033267211264704714, 'n_estimators': 178, 'subsample': 0.9252266247283268, 'colsample_bytree': 0.9296515126507234, 'random_state': 42, 'early_stopping_rounds': 10, 'scale_pos_weight': 1, 'reg_alpha': 3.495835041784575, 'reg_lambda': 4.63127920282876}\n"
     ]
    },
    {
     "name": "stderr",
     "output_type": "stream",
     "text": [
      "INFO:models.ensemble_models:Adjusted scale_pos_weight to 1.109\n"
     ]
    },
    {
     "name": "stderr",
     "output_type": "stream",
     "text": [
      "INFO:models.ensemble_models:Training XGBoost on 135 samples...\n"
     ]
    },
    {
     "name": "stderr",
     "output_type": "stream",
     "text": [
      "INFO:models.ensemble_models:Training completed in 0.01 seconds\n"
     ]
    },
    {
     "name": "stderr",
     "output_type": "stream",
     "text": [
      "[I 2025-08-16 00:00:04,727] Trial 30 finished with value: 1.0 and parameters: {'max_depth': 5, 'learning_rate': 0.033267211264704714, 'n_estimators': 178, 'subsample': 0.9252266247283268, 'colsample_bytree': 0.9296515126507234, 'reg_alpha': 3.495835041784575, 'reg_lambda': 4.63127920282876}. Best is trial 0 with value: 1.0.\n"
     ]
    },
    {
     "name": "stderr",
     "output_type": "stream",
     "text": [
      "INFO:models.ensemble_models:Initialized XGBoost with parameters: {'objective': 'binary:logistic', 'eval_metric': 'auc', 'max_depth': 3, 'learning_rate': 0.04100138152323447, 'n_estimators': 100, 'subsample': 0.8796105002778829, 'colsample_bytree': 0.954979987898833, 'random_state': 42, 'early_stopping_rounds': 10, 'scale_pos_weight': 1, 'reg_alpha': 1.509951156727181, 'reg_lambda': 4.365272671417106}\n"
     ]
    },
    {
     "name": "stderr",
     "output_type": "stream",
     "text": [
      "INFO:models.ensemble_models:Adjusted scale_pos_weight to 1.109\n"
     ]
    },
    {
     "name": "stderr",
     "output_type": "stream",
     "text": [
      "INFO:models.ensemble_models:Training XGBoost on 135 samples...\n"
     ]
    },
    {
     "name": "stderr",
     "output_type": "stream",
     "text": [
      "INFO:models.ensemble_models:Training completed in 0.01 seconds\n"
     ]
    },
    {
     "name": "stderr",
     "output_type": "stream",
     "text": [
      "[I 2025-08-16 00:00:04,749] Trial 31 finished with value: 1.0 and parameters: {'max_depth': 3, 'learning_rate': 0.04100138152323447, 'n_estimators': 100, 'subsample': 0.8796105002778829, 'colsample_bytree': 0.954979987898833, 'reg_alpha': 1.509951156727181, 'reg_lambda': 4.365272671417106}. Best is trial 0 with value: 1.0.\n"
     ]
    },
    {
     "name": "stderr",
     "output_type": "stream",
     "text": [
      "INFO:models.ensemble_models:Initialized XGBoost with parameters: {'objective': 'binary:logistic', 'eval_metric': 'auc', 'max_depth': 4, 'learning_rate': 0.012660049585597875, 'n_estimators': 162, 'subsample': 0.755183977589054, 'colsample_bytree': 0.873305801511051, 'random_state': 42, 'early_stopping_rounds': 10, 'scale_pos_weight': 1, 'reg_alpha': 1.928427905280392, 'reg_lambda': 2.3404245399328034}\n"
     ]
    },
    {
     "name": "stderr",
     "output_type": "stream",
     "text": [
      "INFO:models.ensemble_models:Adjusted scale_pos_weight to 1.109\n"
     ]
    },
    {
     "name": "stderr",
     "output_type": "stream",
     "text": [
      "INFO:models.ensemble_models:Training XGBoost on 135 samples...\n"
     ]
    },
    {
     "name": "stderr",
     "output_type": "stream",
     "text": [
      "INFO:models.ensemble_models:Training completed in 0.01 seconds\n"
     ]
    },
    {
     "name": "stderr",
     "output_type": "stream",
     "text": [
      "[I 2025-08-16 00:00:04,770] Trial 32 finished with value: 1.0 and parameters: {'max_depth': 4, 'learning_rate': 0.012660049585597875, 'n_estimators': 162, 'subsample': 0.755183977589054, 'colsample_bytree': 0.873305801511051, 'reg_alpha': 1.928427905280392, 'reg_lambda': 2.3404245399328034}. Best is trial 0 with value: 1.0.\n"
     ]
    },
    {
     "name": "stderr",
     "output_type": "stream",
     "text": [
      "INFO:models.ensemble_models:Initialized XGBoost with parameters: {'objective': 'binary:logistic', 'eval_metric': 'auc', 'max_depth': 3, 'learning_rate': 0.0633021390206525, 'n_estimators': 152, 'subsample': 0.8342720789094291, 'colsample_bytree': 0.948512181715224, 'random_state': 42, 'early_stopping_rounds': 10, 'scale_pos_weight': 1, 'reg_alpha': 0.44382710716743806, 'reg_lambda': 5.933218239873325}\n"
     ]
    },
    {
     "name": "stderr",
     "output_type": "stream",
     "text": [
      "INFO:models.ensemble_models:Adjusted scale_pos_weight to 1.109\n"
     ]
    },
    {
     "name": "stderr",
     "output_type": "stream",
     "text": [
      "INFO:models.ensemble_models:Training XGBoost on 135 samples...\n"
     ]
    },
    {
     "name": "stderr",
     "output_type": "stream",
     "text": [
      "INFO:models.ensemble_models:Training completed in 0.01 seconds\n"
     ]
    },
    {
     "name": "stderr",
     "output_type": "stream",
     "text": [
      "[I 2025-08-16 00:00:04,794] Trial 33 finished with value: 1.0 and parameters: {'max_depth': 3, 'learning_rate': 0.0633021390206525, 'n_estimators': 152, 'subsample': 0.8342720789094291, 'colsample_bytree': 0.948512181715224, 'reg_alpha': 0.44382710716743806, 'reg_lambda': 5.933218239873325}. Best is trial 0 with value: 1.0.\n"
     ]
    },
    {
     "name": "stderr",
     "output_type": "stream",
     "text": [
      "INFO:models.ensemble_models:Initialized XGBoost with parameters: {'objective': 'binary:logistic', 'eval_metric': 'auc', 'max_depth': 4, 'learning_rate': 0.08598989310104413, 'n_estimators': 190, 'subsample': 0.7394899220947396, 'colsample_bytree': 0.9175031195916529, 'random_state': 42, 'early_stopping_rounds': 10, 'scale_pos_weight': 1, 'reg_alpha': 2.9512622333260237, 'reg_lambda': 3.6040976133602443}\n"
     ]
    },
    {
     "name": "stderr",
     "output_type": "stream",
     "text": [
      "INFO:models.ensemble_models:Adjusted scale_pos_weight to 1.109\n"
     ]
    },
    {
     "name": "stderr",
     "output_type": "stream",
     "text": [
      "INFO:models.ensemble_models:Training XGBoost on 135 samples...\n"
     ]
    },
    {
     "name": "stderr",
     "output_type": "stream",
     "text": [
      "INFO:models.ensemble_models:Training completed in 0.01 seconds\n"
     ]
    },
    {
     "name": "stderr",
     "output_type": "stream",
     "text": [
      "[I 2025-08-16 00:00:04,815] Trial 34 finished with value: 1.0 and parameters: {'max_depth': 4, 'learning_rate': 0.08598989310104413, 'n_estimators': 190, 'subsample': 0.7394899220947396, 'colsample_bytree': 0.9175031195916529, 'reg_alpha': 2.9512622333260237, 'reg_lambda': 3.6040976133602443}. Best is trial 0 with value: 1.0.\n"
     ]
    },
    {
     "name": "stderr",
     "output_type": "stream",
     "text": [
      "INFO:models.ensemble_models:Initialized XGBoost with parameters: {'objective': 'binary:logistic', 'eval_metric': 'auc', 'max_depth': 6, 'learning_rate': 0.019093789830891637, 'n_estimators': 127, 'subsample': 0.936515363041124, 'colsample_bytree': 0.8921237173572543, 'random_state': 42, 'early_stopping_rounds': 10, 'scale_pos_weight': 1, 'reg_alpha': 4.322941151970975, 'reg_lambda': 8.890500464360395}\n"
     ]
    },
    {
     "name": "stderr",
     "output_type": "stream",
     "text": [
      "INFO:models.ensemble_models:Adjusted scale_pos_weight to 1.109\n"
     ]
    },
    {
     "name": "stderr",
     "output_type": "stream",
     "text": [
      "INFO:models.ensemble_models:Training XGBoost on 135 samples...\n"
     ]
    },
    {
     "name": "stderr",
     "output_type": "stream",
     "text": [
      "INFO:models.ensemble_models:Training completed in 0.01 seconds\n"
     ]
    },
    {
     "name": "stderr",
     "output_type": "stream",
     "text": [
      "[I 2025-08-16 00:00:04,839] Trial 35 finished with value: 1.0 and parameters: {'max_depth': 6, 'learning_rate': 0.019093789830891637, 'n_estimators': 127, 'subsample': 0.936515363041124, 'colsample_bytree': 0.8921237173572543, 'reg_alpha': 4.322941151970975, 'reg_lambda': 8.890500464360395}. Best is trial 0 with value: 1.0.\n"
     ]
    },
    {
     "name": "stderr",
     "output_type": "stream",
     "text": [
      "INFO:models.ensemble_models:Initialized XGBoost with parameters: {'objective': 'binary:logistic', 'eval_metric': 'auc', 'max_depth': 7, 'learning_rate': 0.04841850829332595, 'n_estimators': 221, 'subsample': 0.9104380646775517, 'colsample_bytree': 0.7093766966422194, 'random_state': 42, 'early_stopping_rounds': 10, 'scale_pos_weight': 1, 'reg_alpha': 3.8403036560436217, 'reg_lambda': 7.190732313580046}\n"
     ]
    },
    {
     "name": "stderr",
     "output_type": "stream",
     "text": [
      "INFO:models.ensemble_models:Adjusted scale_pos_weight to 1.109\n"
     ]
    },
    {
     "name": "stderr",
     "output_type": "stream",
     "text": [
      "INFO:models.ensemble_models:Training XGBoost on 135 samples...\n"
     ]
    },
    {
     "name": "stderr",
     "output_type": "stream",
     "text": [
      "INFO:models.ensemble_models:Training completed in 0.01 seconds\n"
     ]
    },
    {
     "name": "stderr",
     "output_type": "stream",
     "text": [
      "[I 2025-08-16 00:00:04,864] Trial 36 finished with value: 1.0 and parameters: {'max_depth': 7, 'learning_rate': 0.04841850829332595, 'n_estimators': 221, 'subsample': 0.9104380646775517, 'colsample_bytree': 0.7093766966422194, 'reg_alpha': 3.8403036560436217, 'reg_lambda': 7.190732313580046}. Best is trial 0 with value: 1.0.\n"
     ]
    },
    {
     "name": "stderr",
     "output_type": "stream",
     "text": [
      "INFO:models.ensemble_models:Initialized XGBoost with parameters: {'objective': 'binary:logistic', 'eval_metric': 'auc', 'max_depth': 5, 'learning_rate': 0.08009649888190278, 'n_estimators': 92, 'subsample': 0.709747424259947, 'colsample_bytree': 0.7608391232400538, 'random_state': 42, 'early_stopping_rounds': 10, 'scale_pos_weight': 1, 'reg_alpha': 1.185491707646524, 'reg_lambda': 4.961320414751368}\n"
     ]
    },
    {
     "name": "stderr",
     "output_type": "stream",
     "text": [
      "INFO:models.ensemble_models:Adjusted scale_pos_weight to 1.109\n"
     ]
    },
    {
     "name": "stderr",
     "output_type": "stream",
     "text": [
      "INFO:models.ensemble_models:Training XGBoost on 135 samples...\n"
     ]
    },
    {
     "name": "stderr",
     "output_type": "stream",
     "text": [
      "INFO:models.ensemble_models:Training completed in 0.01 seconds\n"
     ]
    },
    {
     "name": "stderr",
     "output_type": "stream",
     "text": [
      "[I 2025-08-16 00:00:04,887] Trial 37 finished with value: 1.0 and parameters: {'max_depth': 5, 'learning_rate': 0.08009649888190278, 'n_estimators': 92, 'subsample': 0.709747424259947, 'colsample_bytree': 0.7608391232400538, 'reg_alpha': 1.185491707646524, 'reg_lambda': 4.961320414751368}. Best is trial 0 with value: 1.0.\n"
     ]
    },
    {
     "name": "stderr",
     "output_type": "stream",
     "text": [
      "INFO:models.ensemble_models:Initialized XGBoost with parameters: {'objective': 'binary:logistic', 'eval_metric': 'auc', 'max_depth': 3, 'learning_rate': 0.0355890198218218, 'n_estimators': 179, 'subsample': 0.9780902445254466, 'colsample_bytree': 0.8097391104816734, 'random_state': 42, 'early_stopping_rounds': 10, 'scale_pos_weight': 1, 'reg_alpha': 2.43178728628532, 'reg_lambda': 7.944383271444076}\n"
     ]
    },
    {
     "name": "stderr",
     "output_type": "stream",
     "text": [
      "INFO:models.ensemble_models:Adjusted scale_pos_weight to 1.109\n"
     ]
    },
    {
     "name": "stderr",
     "output_type": "stream",
     "text": [
      "INFO:models.ensemble_models:Training XGBoost on 135 samples...\n"
     ]
    },
    {
     "name": "stderr",
     "output_type": "stream",
     "text": [
      "INFO:models.ensemble_models:Training completed in 0.01 seconds\n"
     ]
    },
    {
     "name": "stderr",
     "output_type": "stream",
     "text": [
      "[I 2025-08-16 00:00:04,908] Trial 38 finished with value: 1.0 and parameters: {'max_depth': 3, 'learning_rate': 0.0355890198218218, 'n_estimators': 179, 'subsample': 0.9780902445254466, 'colsample_bytree': 0.8097391104816734, 'reg_alpha': 2.43178728628532, 'reg_lambda': 7.944383271444076}. Best is trial 0 with value: 1.0.\n"
     ]
    },
    {
     "name": "stderr",
     "output_type": "stream",
     "text": [
      "INFO:models.ensemble_models:Initialized XGBoost with parameters: {'objective': 'binary:logistic', 'eval_metric': 'auc', 'max_depth': 10, 'learning_rate': 0.024306251270247683, 'n_estimators': 207, 'subsample': 0.8015818979368928, 'colsample_bytree': 0.974790085607763, 'random_state': 42, 'early_stopping_rounds': 10, 'scale_pos_weight': 1, 'reg_alpha': 9.368931629262777, 'reg_lambda': 8.31543147186422}\n"
     ]
    },
    {
     "name": "stderr",
     "output_type": "stream",
     "text": [
      "INFO:models.ensemble_models:Adjusted scale_pos_weight to 1.109\n"
     ]
    },
    {
     "name": "stderr",
     "output_type": "stream",
     "text": [
      "INFO:models.ensemble_models:Training XGBoost on 135 samples...\n"
     ]
    },
    {
     "name": "stderr",
     "output_type": "stream",
     "text": [
      "INFO:models.ensemble_models:Training completed in 0.01 seconds\n"
     ]
    },
    {
     "name": "stderr",
     "output_type": "stream",
     "text": [
      "[I 2025-08-16 00:00:04,929] Trial 39 finished with value: 1.0 and parameters: {'max_depth': 10, 'learning_rate': 0.024306251270247683, 'n_estimators': 207, 'subsample': 0.8015818979368928, 'colsample_bytree': 0.974790085607763, 'reg_alpha': 9.368931629262777, 'reg_lambda': 8.31543147186422}. Best is trial 0 with value: 1.0.\n"
     ]
    },
    {
     "name": "stderr",
     "output_type": "stream",
     "text": [
      "INFO:models.ensemble_models:Initialized XGBoost with parameters: {'objective': 'binary:logistic', 'eval_metric': 'auc', 'max_depth': 9, 'learning_rate': 0.22776619165085069, 'n_estimators': 286, 'subsample': 0.8902305186163486, 'colsample_bytree': 0.641289952620247, 'random_state': 42, 'early_stopping_rounds': 10, 'scale_pos_weight': 1, 'reg_alpha': 0.286803427171639, 'reg_lambda': 2.2507713766992046}\n"
     ]
    },
    {
     "name": "stderr",
     "output_type": "stream",
     "text": [
      "INFO:models.ensemble_models:Adjusted scale_pos_weight to 1.109\n"
     ]
    },
    {
     "name": "stderr",
     "output_type": "stream",
     "text": [
      "INFO:models.ensemble_models:Training XGBoost on 135 samples...\n"
     ]
    },
    {
     "name": "stderr",
     "output_type": "stream",
     "text": [
      "INFO:models.ensemble_models:Training completed in 0.01 seconds\n"
     ]
    },
    {
     "name": "stderr",
     "output_type": "stream",
     "text": [
      "[I 2025-08-16 00:00:04,951] Trial 40 finished with value: 1.0 and parameters: {'max_depth': 9, 'learning_rate': 0.22776619165085069, 'n_estimators': 286, 'subsample': 0.8902305186163486, 'colsample_bytree': 0.641289952620247, 'reg_alpha': 0.286803427171639, 'reg_lambda': 2.2507713766992046}. Best is trial 0 with value: 1.0.\n"
     ]
    },
    {
     "name": "stderr",
     "output_type": "stream",
     "text": [
      "INFO:models.ensemble_models:Initialized XGBoost with parameters: {'objective': 'binary:logistic', 'eval_metric': 'auc', 'max_depth': 7, 'learning_rate': 0.01607719066676566, 'n_estimators': 112, 'subsample': 0.8634145753335176, 'colsample_bytree': 0.945987504788108, 'random_state': 42, 'early_stopping_rounds': 10, 'scale_pos_weight': 1, 'reg_alpha': 8.857839841855148, 'reg_lambda': 8.968543218537212}\n"
     ]
    },
    {
     "name": "stderr",
     "output_type": "stream",
     "text": [
      "INFO:models.ensemble_models:Adjusted scale_pos_weight to 1.109\n"
     ]
    },
    {
     "name": "stderr",
     "output_type": "stream",
     "text": [
      "INFO:models.ensemble_models:Training XGBoost on 135 samples...\n"
     ]
    },
    {
     "name": "stderr",
     "output_type": "stream",
     "text": [
      "INFO:models.ensemble_models:Training completed in 0.01 seconds\n"
     ]
    },
    {
     "name": "stderr",
     "output_type": "stream",
     "text": [
      "[I 2025-08-16 00:00:04,972] Trial 41 finished with value: 1.0 and parameters: {'max_depth': 7, 'learning_rate': 0.01607719066676566, 'n_estimators': 112, 'subsample': 0.8634145753335176, 'colsample_bytree': 0.945987504788108, 'reg_alpha': 8.857839841855148, 'reg_lambda': 8.968543218537212}. Best is trial 0 with value: 1.0.\n"
     ]
    },
    {
     "name": "stderr",
     "output_type": "stream",
     "text": [
      "INFO:models.ensemble_models:Initialized XGBoost with parameters: {'objective': 'binary:logistic', 'eval_metric': 'auc', 'max_depth': 8, 'learning_rate': 0.013227563599898523, 'n_estimators': 58, 'subsample': 0.9254051119515433, 'colsample_bytree': 0.91081000228227, 'random_state': 42, 'early_stopping_rounds': 10, 'scale_pos_weight': 1, 'reg_alpha': 7.443376564506103, 'reg_lambda': 9.627283010173299}\n"
     ]
    },
    {
     "name": "stderr",
     "output_type": "stream",
     "text": [
      "INFO:models.ensemble_models:Adjusted scale_pos_weight to 1.109\n"
     ]
    },
    {
     "name": "stderr",
     "output_type": "stream",
     "text": [
      "INFO:models.ensemble_models:Training XGBoost on 135 samples...\n"
     ]
    },
    {
     "name": "stderr",
     "output_type": "stream",
     "text": [
      "INFO:models.ensemble_models:Training completed in 0.01 seconds\n"
     ]
    },
    {
     "name": "stderr",
     "output_type": "stream",
     "text": [
      "[I 2025-08-16 00:00:04,993] Trial 42 finished with value: 1.0 and parameters: {'max_depth': 8, 'learning_rate': 0.013227563599898523, 'n_estimators': 58, 'subsample': 0.9254051119515433, 'colsample_bytree': 0.91081000228227, 'reg_alpha': 7.443376564506103, 'reg_lambda': 9.627283010173299}. Best is trial 0 with value: 1.0.\n"
     ]
    },
    {
     "name": "stderr",
     "output_type": "stream",
     "text": [
      "INFO:models.ensemble_models:Initialized XGBoost with parameters: {'objective': 'binary:logistic', 'eval_metric': 'auc', 'max_depth': 6, 'learning_rate': 0.1590584327220631, 'n_estimators': 88, 'subsample': 0.8029847100903383, 'colsample_bytree': 0.9655740815866382, 'random_state': 42, 'early_stopping_rounds': 10, 'scale_pos_weight': 1, 'reg_alpha': 6.876258375664217, 'reg_lambda': 8.673853961626344}\n"
     ]
    },
    {
     "name": "stderr",
     "output_type": "stream",
     "text": [
      "INFO:models.ensemble_models:Adjusted scale_pos_weight to 1.109\n"
     ]
    },
    {
     "name": "stderr",
     "output_type": "stream",
     "text": [
      "INFO:models.ensemble_models:Training XGBoost on 135 samples...\n"
     ]
    },
    {
     "name": "stderr",
     "output_type": "stream",
     "text": [
      "INFO:models.ensemble_models:Training completed in 0.01 seconds\n"
     ]
    },
    {
     "name": "stderr",
     "output_type": "stream",
     "text": [
      "[I 2025-08-16 00:00:05,015] Trial 43 finished with value: 1.0 and parameters: {'max_depth': 6, 'learning_rate': 0.1590584327220631, 'n_estimators': 88, 'subsample': 0.8029847100903383, 'colsample_bytree': 0.9655740815866382, 'reg_alpha': 6.876258375664217, 'reg_lambda': 8.673853961626344}. Best is trial 0 with value: 1.0.\n"
     ]
    },
    {
     "name": "stderr",
     "output_type": "stream",
     "text": [
      "INFO:models.ensemble_models:Initialized XGBoost with parameters: {'objective': 'binary:logistic', 'eval_metric': 'auc', 'max_depth': 7, 'learning_rate': 0.28420462812892594, 'n_estimators': 137, 'subsample': 0.8297484539625364, 'colsample_bytree': 0.9998912975529929, 'random_state': 42, 'early_stopping_rounds': 10, 'scale_pos_weight': 1, 'reg_alpha': 5.354375922240266, 'reg_lambda': 8.148553997261718}\n"
     ]
    },
    {
     "name": "stderr",
     "output_type": "stream",
     "text": [
      "INFO:models.ensemble_models:Adjusted scale_pos_weight to 1.109\n"
     ]
    },
    {
     "name": "stderr",
     "output_type": "stream",
     "text": [
      "INFO:models.ensemble_models:Training XGBoost on 135 samples...\n"
     ]
    },
    {
     "name": "stderr",
     "output_type": "stream",
     "text": [
      "INFO:models.ensemble_models:Training completed in 0.01 seconds\n"
     ]
    },
    {
     "name": "stderr",
     "output_type": "stream",
     "text": [
      "[I 2025-08-16 00:00:05,036] Trial 44 finished with value: 1.0 and parameters: {'max_depth': 7, 'learning_rate': 0.28420462812892594, 'n_estimators': 137, 'subsample': 0.8297484539625364, 'colsample_bytree': 0.9998912975529929, 'reg_alpha': 5.354375922240266, 'reg_lambda': 8.148553997261718}. Best is trial 0 with value: 1.0.\n"
     ]
    },
    {
     "name": "stderr",
     "output_type": "stream",
     "text": [
      "INFO:models.ensemble_models:Initialized XGBoost with parameters: {'objective': 'binary:logistic', 'eval_metric': 'auc', 'max_depth': 8, 'learning_rate': 0.04917895762986902, 'n_estimators': 81, 'subsample': 0.7809529295424683, 'colsample_bytree': 0.8499000548550486, 'random_state': 42, 'early_stopping_rounds': 10, 'scale_pos_weight': 1, 'reg_alpha': 8.123930420128689, 'reg_lambda': 9.50323887966193}\n"
     ]
    },
    {
     "name": "stderr",
     "output_type": "stream",
     "text": [
      "INFO:models.ensemble_models:Adjusted scale_pos_weight to 1.109\n"
     ]
    },
    {
     "name": "stderr",
     "output_type": "stream",
     "text": [
      "INFO:models.ensemble_models:Training XGBoost on 135 samples...\n"
     ]
    },
    {
     "name": "stderr",
     "output_type": "stream",
     "text": [
      "INFO:models.ensemble_models:Training completed in 0.01 seconds\n"
     ]
    },
    {
     "name": "stderr",
     "output_type": "stream",
     "text": [
      "[I 2025-08-16 00:00:05,058] Trial 45 finished with value: 1.0 and parameters: {'max_depth': 8, 'learning_rate': 0.04917895762986902, 'n_estimators': 81, 'subsample': 0.7809529295424683, 'colsample_bytree': 0.8499000548550486, 'reg_alpha': 8.123930420128689, 'reg_lambda': 9.50323887966193}. Best is trial 0 with value: 1.0.\n"
     ]
    },
    {
     "name": "stderr",
     "output_type": "stream",
     "text": [
      "INFO:models.ensemble_models:Initialized XGBoost with parameters: {'objective': 'binary:logistic', 'eval_metric': 'auc', 'max_depth': 5, 'learning_rate': 0.06954782555916746, 'n_estimators': 50, 'subsample': 0.903841281907187, 'colsample_bytree': 0.9296384615923976, 'random_state': 42, 'early_stopping_rounds': 10, 'scale_pos_weight': 1, 'reg_alpha': 6.257266023628874, 'reg_lambda': 3.900400722524994}\n"
     ]
    },
    {
     "name": "stderr",
     "output_type": "stream",
     "text": [
      "INFO:models.ensemble_models:Adjusted scale_pos_weight to 1.109\n"
     ]
    },
    {
     "name": "stderr",
     "output_type": "stream",
     "text": [
      "INFO:models.ensemble_models:Training XGBoost on 135 samples...\n"
     ]
    },
    {
     "name": "stderr",
     "output_type": "stream",
     "text": [
      "INFO:models.ensemble_models:Training completed in 0.01 seconds\n"
     ]
    },
    {
     "name": "stderr",
     "output_type": "stream",
     "text": [
      "[I 2025-08-16 00:00:05,082] Trial 46 finished with value: 1.0 and parameters: {'max_depth': 5, 'learning_rate': 0.06954782555916746, 'n_estimators': 50, 'subsample': 0.903841281907187, 'colsample_bytree': 0.9296384615923976, 'reg_alpha': 6.257266023628874, 'reg_lambda': 3.900400722524994}. Best is trial 0 with value: 1.0.\n"
     ]
    },
    {
     "name": "stderr",
     "output_type": "stream",
     "text": [
      "INFO:models.ensemble_models:Initialized XGBoost with parameters: {'objective': 'binary:logistic', 'eval_metric': 'auc', 'max_depth': 3, 'learning_rate': 0.09513220478791981, 'n_estimators': 237, 'subsample': 0.8510332900775028, 'colsample_bytree': 0.8962703931125621, 'random_state': 42, 'early_stopping_rounds': 10, 'scale_pos_weight': 1, 'reg_alpha': 1.6768365169661927, 'reg_lambda': 7.51328628893573}\n"
     ]
    },
    {
     "name": "stderr",
     "output_type": "stream",
     "text": [
      "INFO:models.ensemble_models:Adjusted scale_pos_weight to 1.109\n"
     ]
    },
    {
     "name": "stderr",
     "output_type": "stream",
     "text": [
      "INFO:models.ensemble_models:Training XGBoost on 135 samples...\n"
     ]
    },
    {
     "name": "stderr",
     "output_type": "stream",
     "text": [
      "INFO:models.ensemble_models:Training completed in 0.01 seconds\n"
     ]
    },
    {
     "name": "stderr",
     "output_type": "stream",
     "text": [
      "[I 2025-08-16 00:00:05,103] Trial 47 finished with value: 1.0 and parameters: {'max_depth': 3, 'learning_rate': 0.09513220478791981, 'n_estimators': 237, 'subsample': 0.8510332900775028, 'colsample_bytree': 0.8962703931125621, 'reg_alpha': 1.6768365169661927, 'reg_lambda': 7.51328628893573}. Best is trial 0 with value: 1.0.\n"
     ]
    },
    {
     "name": "stderr",
     "output_type": "stream",
     "text": [
      "INFO:models.ensemble_models:Initialized XGBoost with parameters: {'objective': 'binary:logistic', 'eval_metric': 'auc', 'max_depth': 6, 'learning_rate': 0.027463411801615146, 'n_estimators': 191, 'subsample': 0.6287066004803262, 'colsample_bytree': 0.7133833117873396, 'random_state': 42, 'early_stopping_rounds': 10, 'scale_pos_weight': 1, 'reg_alpha': 0.23470968516175628, 'reg_lambda': 9.998929194369001}\n"
     ]
    },
    {
     "name": "stderr",
     "output_type": "stream",
     "text": [
      "INFO:models.ensemble_models:Adjusted scale_pos_weight to 1.109\n"
     ]
    },
    {
     "name": "stderr",
     "output_type": "stream",
     "text": [
      "INFO:models.ensemble_models:Training XGBoost on 135 samples...\n"
     ]
    },
    {
     "name": "stderr",
     "output_type": "stream",
     "text": [
      "INFO:models.ensemble_models:Training completed in 0.01 seconds\n"
     ]
    },
    {
     "name": "stderr",
     "output_type": "stream",
     "text": [
      "[I 2025-08-16 00:00:05,125] Trial 48 finished with value: 1.0 and parameters: {'max_depth': 6, 'learning_rate': 0.027463411801615146, 'n_estimators': 191, 'subsample': 0.6287066004803262, 'colsample_bytree': 0.7133833117873396, 'reg_alpha': 0.23470968516175628, 'reg_lambda': 9.998929194369001}. Best is trial 0 with value: 1.0.\n"
     ]
    },
    {
     "name": "stderr",
     "output_type": "stream",
     "text": [
      "INFO:models.ensemble_models:Initialized XGBoost with parameters: {'objective': 'binary:logistic', 'eval_metric': 'auc', 'max_depth': 4, 'learning_rate': 0.1212631796655875, 'n_estimators': 261, 'subsample': 0.952871866014522, 'colsample_bytree': 0.6018820296980356, 'random_state': 42, 'early_stopping_rounds': 10, 'scale_pos_weight': 1, 'reg_alpha': 2.808372608141917, 'reg_lambda': 6.433716318856819}\n"
     ]
    },
    {
     "name": "stderr",
     "output_type": "stream",
     "text": [
      "INFO:models.ensemble_models:Adjusted scale_pos_weight to 1.109\n"
     ]
    },
    {
     "name": "stderr",
     "output_type": "stream",
     "text": [
      "INFO:models.ensemble_models:Training XGBoost on 135 samples...\n"
     ]
    },
    {
     "name": "stderr",
     "output_type": "stream",
     "text": [
      "INFO:models.ensemble_models:Training completed in 0.01 seconds\n"
     ]
    },
    {
     "name": "stderr",
     "output_type": "stream",
     "text": [
      "[I 2025-08-16 00:00:05,148] Trial 49 finished with value: 1.0 and parameters: {'max_depth': 4, 'learning_rate': 0.1212631796655875, 'n_estimators': 261, 'subsample': 0.952871866014522, 'colsample_bytree': 0.6018820296980356, 'reg_alpha': 2.808372608141917, 'reg_lambda': 6.433716318856819}. Best is trial 0 with value: 1.0.\n"
     ]
    },
    {
     "name": "stderr",
     "output_type": "stream",
     "text": [
      "INFO:models.ensemble_models:Optimization completed in 0.99 seconds\n"
     ]
    },
    {
     "name": "stderr",
     "output_type": "stream",
     "text": [
      "INFO:models.ensemble_models:Best AUC-ROC: 1.0000\n"
     ]
    },
    {
     "name": "stderr",
     "output_type": "stream",
     "text": [
      "INFO:models.ensemble_models:Best parameters: {'max_depth': 3, 'learning_rate': 0.18852560802833043, 'n_estimators': 198, 'subsample': 0.9750123197464067, 'colsample_bytree': 0.767260136206862, 'reg_alpha': 1.8233625516401186, 'reg_lambda': 9.679104215043857}\n"
     ]
    },
    {
     "name": "stdout",
     "output_type": "stream",
     "text": [
      "\n",
      "✓ XGBoost optimization completed\n",
      "  Best validation AUC-ROC: 1.0000\n",
      "  Optimization time: 1.0s\n",
      "  Best parameters: {'max_depth': 3, 'learning_rate': 0.18852560802833043, 'n_estimators': 198, 'subsample': 0.9750123197464067, 'colsample_bytree': 0.767260136206862, 'reg_alpha': 1.8233625516401186, 'reg_lambda': 9.679104215043857}\n"
     ]
    }
   ],
   "source": [
    "# Hyperparameter optimization for XGBoost\n",
    "print(\"Running hyperparameter optimization for XGBoost...\")\n",
    "print(\"(This may take several minutes)\")\n",
    "\n",
    "xgb_optimizer = EnsembleModelOptimizer(model_type=\"xgboost\", n_trials=50)  # Reduced for demo\n",
    "xgb_opt_results = xgb_optimizer.optimize(X_train, y_train, X_val, y_val)\n",
    "\n",
    "print(\"\\nXGBoost optimization completed\")\n",
    "print(f\"  Best validation AUC-ROC: {xgb_opt_results['best_score']:.4f}\")\n",
    "print(f\"  Optimization time: {xgb_opt_results['optimization_time_seconds']:.1f}s\")\n",
    "print(f\"  Best parameters: {xgb_opt_results['best_params']}\")"
   ]
  },
  {
   "cell_type": "code",
   "execution_count": 11,
   "metadata": {},
   "outputs": [
    {
     "name": "stderr",
     "output_type": "stream",
     "text": [
      "INFO:models.ensemble_models:Initialized XGBoost with parameters: {'objective': 'binary:logistic', 'eval_metric': 'auc', 'max_depth': 4, 'learning_rate': 0.0230418698262463, 'n_estimators': 146, 'subsample': 0.7978431340556982, 'colsample_bytree': 0.6421601109768413, 'random_state': 42, 'early_stopping_rounds': 10, 'scale_pos_weight': 1, 'reg_alpha': 5.309449937609724, 'reg_lambda': 2.3730503755738064}\n",
      "INFO:models.ensemble_models:Adjusted scale_pos_weight to 1.109\n",
      "INFO:models.ensemble_models:Training XGBoost on 135 samples...\n",
      "INFO:models.ensemble_models:Training completed in 0.03 seconds\n",
      "INFO:models.ensemble_models:XGBoost evaluation completed:\n",
      "INFO:models.ensemble_models:  Test AUC-ROC: 0.9962\n",
      "INFO:models.ensemble_models:  Test F1: 0.9000\n"
     ]
    },
    {
     "name": "stdout",
     "output_type": "stream",
     "text": [
      "Training optimized XGBoost model...\n",
      "Optimized XGBoost model trained\n",
      "  Test AUC-ROC: 0.9962\n",
      "  Test F1: 0.9000\n",
      "  Improvement over default: 0.0000 AUC-ROC\n"
     ]
    },
    {
     "name": "stderr",
     "output_type": "stream",
     "text": [
      "INFO:models.ensemble_models:Training XGBoost on 135 samples...\n"
     ]
    },
    {
     "name": "stderr",
     "output_type": "stream",
     "text": [
      "INFO:models.ensemble_models:Training completed in 0.01 seconds\n"
     ]
    },
    {
     "name": "stderr",
     "output_type": "stream",
     "text": [
      "INFO:models.ensemble_models:XGBoost evaluation completed:\n"
     ]
    },
    {
     "name": "stderr",
     "output_type": "stream",
     "text": [
      "INFO:models.ensemble_models:  Test AUC-ROC: 0.9962\n"
     ]
    },
    {
     "name": "stderr",
     "output_type": "stream",
     "text": [
      "INFO:models.ensemble_models:  Test F1: 0.9778\n"
     ]
    },
    {
     "name": "stdout",
     "output_type": "stream",
     "text": [
      "Training optimized XGBoost model...\n",
      "✓ Optimized XGBoost model trained\n",
      "  Test AUC-ROC: 0.9962\n",
      "  Test F1: 0.9778\n",
      "  Improvement over default: 0.0000 AUC-ROC\n"
     ]
    }
   ],
   "source": [
    "# Train optimized XGBoost model\n",
    "print(\"Training optimized XGBoost model...\")\n",
    "\n",
    "xgb_optimized = xgb_optimizer.get_optimized_model()\n",
    "xgb_opt_results_full = xgb_optimized.train_and_evaluate(X_train, y_train, X_test, y_test, X_val, y_val)\n",
    "\n",
    "print(\"Optimized XGBoost model trained\")\n",
    "print(f\"  Test AUC-ROC: {xgb_opt_results_full['test_metrics']['auc_roc']:.4f}\")\n",
    "print(f\"  Test F1: {xgb_opt_results_full['test_metrics']['f1_score']:.4f}\")\n",
    "\n",
    "# Compare with default XGBoost\n",
    "improvement = xgb_opt_results_full[\"test_metrics\"][\"auc_roc\"] - xgb_results[\"test_metrics\"][\"auc_roc\"]\n",
    "print(f\"  Improvement over default: {improvement:.4f} AUC-ROC\")"
   ]
  },
  {
   "cell_type": "code",
   "execution_count": 12,
   "metadata": {},
   "outputs": [
    {
     "name": "stderr",
     "output_type": "stream",
     "text": [
      "INFO:models.ensemble_models:Starting hyperparameter optimization for lightgbm...\n",
      "INFO:models.ensemble_models:Running 50 trials\n",
      "[I 2025-08-16 00:22:44,171] A new study created in memory with name: no-name-0052840e-6cae-4ad4-b8d1-3d0a38d428a8\n",
      "INFO:models.ensemble_models:Initialized LightGBM with parameters: {'objective': 'binary', 'metric': 'auc', 'boosting_type': 'gbdt', 'num_leaves': 202, 'learning_rate': 0.19566825287534065, 'n_estimators': 56, 'subsample': 0.645988200402658, 'colsample_bytree': 0.7528253139761326, 'random_state': 42, 'early_stopping_rounds': 10, 'verbose': -1, 'reg_alpha': 4.420784852646543, 'reg_lambda': 9.759371067669674, 'min_child_samples': 28}\n",
      "INFO:models.ensemble_models:Training LightGBM on 135 samples...\n",
      "INFO:models.ensemble_models:Training completed in 0.01 seconds\n",
      "[I 2025-08-16 00:22:44,186] Trial 0 finished with value: 1.0 and parameters: {'num_leaves': 202, 'learning_rate': 0.19566825287534065, 'n_estimators': 56, 'subsample': 0.645988200402658, 'colsample_bytree': 0.7528253139761326, 'reg_alpha': 4.420784852646543, 'reg_lambda': 9.759371067669674, 'min_child_samples': 28}. Best is trial 0 with value: 1.0.\n",
      "INFO:models.ensemble_models:Initialized LightGBM with parameters: {'objective': 'binary', 'metric': 'auc', 'boosting_type': 'gbdt', 'num_leaves': 20, 'learning_rate': 0.191700838886832, 'n_estimators': 119, 'subsample': 0.7726871518912585, 'colsample_bytree': 0.8637128723977168, 'random_state': 42, 'early_stopping_rounds': 10, 'verbose': -1, 'reg_alpha': 2.140386681031694, 'reg_lambda': 9.306823272338423, 'min_child_samples': 87}\n",
      "INFO:models.ensemble_models:Training LightGBM on 135 samples...\n",
      "INFO:models.ensemble_models:Training completed in 0.00 seconds\n",
      "[I 2025-08-16 00:22:44,192] Trial 1 finished with value: 0.5 and parameters: {'num_leaves': 20, 'learning_rate': 0.191700838886832, 'n_estimators': 119, 'subsample': 0.7726871518912585, 'colsample_bytree': 0.8637128723977168, 'reg_alpha': 2.140386681031694, 'reg_lambda': 9.306823272338423, 'min_child_samples': 87}. Best is trial 0 with value: 1.0.\n",
      "INFO:models.ensemble_models:Initialized LightGBM with parameters: {'objective': 'binary', 'metric': 'auc', 'boosting_type': 'gbdt', 'num_leaves': 214, 'learning_rate': 0.02461967533227805, 'n_estimators': 286, 'subsample': 0.8507416383319333, 'colsample_bytree': 0.6858159937696364, 'random_state': 42, 'early_stopping_rounds': 10, 'verbose': -1, 'reg_alpha': 8.57710547210665, 'reg_lambda': 1.493743351611011, 'min_child_samples': 65}\n",
      "INFO:models.ensemble_models:Training LightGBM on 135 samples...\n",
      "INFO:models.ensemble_models:Training completed in 0.00 seconds\n",
      "[I 2025-08-16 00:22:44,200] Trial 2 finished with value: 0.6785714285714285 and parameters: {'num_leaves': 214, 'learning_rate': 0.02461967533227805, 'n_estimators': 286, 'subsample': 0.8507416383319333, 'colsample_bytree': 0.6858159937696364, 'reg_alpha': 8.57710547210665, 'reg_lambda': 1.493743351611011, 'min_child_samples': 65}. Best is trial 0 with value: 1.0.\n",
      "INFO:models.ensemble_models:Initialized LightGBM with parameters: {'objective': 'binary', 'metric': 'auc', 'boosting_type': 'gbdt', 'num_leaves': 195, 'learning_rate': 0.14534124957674668, 'n_estimators': 288, 'subsample': 0.6357338483203439, 'colsample_bytree': 0.8408659823261928, 'random_state': 42, 'early_stopping_rounds': 10, 'verbose': -1, 'reg_alpha': 3.4598178419191603, 'reg_lambda': 9.305302898285587, 'min_child_samples': 19}\n",
      "INFO:models.ensemble_models:Training LightGBM on 135 samples...\n",
      "INFO:models.ensemble_models:Training completed in 0.00 seconds\n",
      "[I 2025-08-16 00:22:44,208] Trial 3 finished with value: 1.0 and parameters: {'num_leaves': 195, 'learning_rate': 0.14534124957674668, 'n_estimators': 288, 'subsample': 0.6357338483203439, 'colsample_bytree': 0.8408659823261928, 'reg_alpha': 3.4598178419191603, 'reg_lambda': 9.305302898285587, 'min_child_samples': 19}. Best is trial 0 with value: 1.0.\n",
      "INFO:models.ensemble_models:Initialized LightGBM with parameters: {'objective': 'binary', 'metric': 'auc', 'boosting_type': 'gbdt', 'num_leaves': 202, 'learning_rate': 0.01766959013135665, 'n_estimators': 56, 'subsample': 0.9463470464552484, 'colsample_bytree': 0.6131863036983406, 'random_state': 42, 'early_stopping_rounds': 10, 'verbose': -1, 'reg_alpha': 6.029407674243635, 'reg_lambda': 3.5024442042477153, 'min_child_samples': 9}\n",
      "INFO:models.ensemble_models:Training LightGBM on 135 samples...\n",
      "INFO:models.ensemble_models:Training completed in 0.00 seconds\n",
      "[I 2025-08-16 00:22:44,214] Trial 4 finished with value: 0.9999999999999999 and parameters: {'num_leaves': 202, 'learning_rate': 0.01766959013135665, 'n_estimators': 56, 'subsample': 0.9463470464552484, 'colsample_bytree': 0.6131863036983406, 'reg_alpha': 6.029407674243635, 'reg_lambda': 3.5024442042477153, 'min_child_samples': 9}. Best is trial 0 with value: 1.0.\n",
      "INFO:models.ensemble_models:Initialized LightGBM with parameters: {'objective': 'binary', 'metric': 'auc', 'boosting_type': 'gbdt', 'num_leaves': 27, 'learning_rate': 0.013534422650642725, 'n_estimators': 117, 'subsample': 0.7639276405381963, 'colsample_bytree': 0.6309537050802886, 'random_state': 42, 'early_stopping_rounds': 10, 'verbose': -1, 'reg_alpha': 1.4972062968053423, 'reg_lambda': 2.805984837285378, 'min_child_samples': 16}\n",
      "INFO:models.ensemble_models:Training LightGBM on 135 samples...\n",
      "INFO:models.ensemble_models:Training completed in 0.00 seconds\n",
      "[I 2025-08-16 00:22:44,221] Trial 5 finished with value: 1.0 and parameters: {'num_leaves': 27, 'learning_rate': 0.013534422650642725, 'n_estimators': 117, 'subsample': 0.7639276405381963, 'colsample_bytree': 0.6309537050802886, 'reg_alpha': 1.4972062968053423, 'reg_lambda': 2.805984837285378, 'min_child_samples': 16}. Best is trial 0 with value: 1.0.\n",
      "INFO:models.ensemble_models:Initialized LightGBM with parameters: {'objective': 'binary', 'metric': 'auc', 'boosting_type': 'gbdt', 'num_leaves': 14, 'learning_rate': 0.04437435036721493, 'n_estimators': 119, 'subsample': 0.6726499490097816, 'colsample_bytree': 0.8024588754185985, 'random_state': 42, 'early_stopping_rounds': 10, 'verbose': -1, 'reg_alpha': 3.3882529824598038, 'reg_lambda': 6.123288761962314, 'min_child_samples': 73}\n",
      "INFO:models.ensemble_models:Training LightGBM on 135 samples...\n",
      "INFO:models.ensemble_models:Training completed in 0.00 seconds\n",
      "[I 2025-08-16 00:22:44,225] Trial 6 finished with value: 0.5 and parameters: {'num_leaves': 14, 'learning_rate': 0.04437435036721493, 'n_estimators': 119, 'subsample': 0.6726499490097816, 'colsample_bytree': 0.8024588754185985, 'reg_alpha': 3.3882529824598038, 'reg_lambda': 6.123288761962314, 'min_child_samples': 73}. Best is trial 0 with value: 1.0.\n",
      "INFO:models.ensemble_models:Initialized LightGBM with parameters: {'objective': 'binary', 'metric': 'auc', 'boosting_type': 'gbdt', 'num_leaves': 244, 'learning_rate': 0.08110399872111815, 'n_estimators': 171, 'subsample': 0.6277368117410326, 'colsample_bytree': 0.7327821735432518, 'random_state': 42, 'early_stopping_rounds': 10, 'verbose': -1, 'reg_alpha': 5.307434070365794, 'reg_lambda': 4.044001590187528, 'min_child_samples': 15}\n",
      "INFO:models.ensemble_models:Training LightGBM on 135 samples...\n",
      "INFO:models.ensemble_models:Training completed in 0.00 seconds\n",
      "[I 2025-08-16 00:22:44,233] Trial 7 finished with value: 1.0 and parameters: {'num_leaves': 244, 'learning_rate': 0.08110399872111815, 'n_estimators': 171, 'subsample': 0.6277368117410326, 'colsample_bytree': 0.7327821735432518, 'reg_alpha': 5.307434070365794, 'reg_lambda': 4.044001590187528, 'min_child_samples': 15}. Best is trial 0 with value: 1.0.\n",
      "INFO:models.ensemble_models:Initialized LightGBM with parameters: {'objective': 'binary', 'metric': 'auc', 'boosting_type': 'gbdt', 'num_leaves': 65, 'learning_rate': 0.24222562630234645, 'n_estimators': 61, 'subsample': 0.8197427385932445, 'colsample_bytree': 0.6360658413353779, 'random_state': 42, 'early_stopping_rounds': 10, 'verbose': -1, 'reg_alpha': 7.502014517542125, 'reg_lambda': 5.434543313088293, 'min_child_samples': 15}\n",
      "INFO:models.ensemble_models:Training LightGBM on 135 samples...\n",
      "INFO:models.ensemble_models:Training completed in 0.00 seconds\n",
      "[I 2025-08-16 00:22:44,240] Trial 8 finished with value: 1.0 and parameters: {'num_leaves': 65, 'learning_rate': 0.24222562630234645, 'n_estimators': 61, 'subsample': 0.8197427385932445, 'colsample_bytree': 0.6360658413353779, 'reg_alpha': 7.502014517542125, 'reg_lambda': 5.434543313088293, 'min_child_samples': 15}. Best is trial 0 with value: 1.0.\n",
      "INFO:models.ensemble_models:Initialized LightGBM with parameters: {'objective': 'binary', 'metric': 'auc', 'boosting_type': 'gbdt', 'num_leaves': 214, 'learning_rate': 0.10741516702567247, 'n_estimators': 289, 'subsample': 0.6855037763488081, 'colsample_bytree': 0.737979875553061, 'random_state': 42, 'early_stopping_rounds': 10, 'verbose': -1, 'reg_alpha': 0.828209047583709, 'reg_lambda': 5.756463390609135, 'min_child_samples': 44}\n",
      "INFO:models.ensemble_models:Training LightGBM on 135 samples...\n",
      "INFO:models.ensemble_models:Training completed in 0.00 seconds\n",
      "[I 2025-08-16 00:22:44,247] Trial 9 finished with value: 0.9980158730158729 and parameters: {'num_leaves': 214, 'learning_rate': 0.10741516702567247, 'n_estimators': 289, 'subsample': 0.6855037763488081, 'colsample_bytree': 0.737979875553061, 'reg_alpha': 0.828209047583709, 'reg_lambda': 5.756463390609135, 'min_child_samples': 44}. Best is trial 0 with value: 1.0.\n",
      "INFO:models.ensemble_models:Initialized LightGBM with parameters: {'objective': 'binary', 'metric': 'auc', 'boosting_type': 'gbdt', 'num_leaves': 298, 'learning_rate': 0.049010783043769, 'n_estimators': 211, 'subsample': 0.9273518372705022, 'colsample_bytree': 0.974545337573761, 'random_state': 42, 'early_stopping_rounds': 10, 'verbose': -1, 'reg_alpha': 6.8995486883621115, 'reg_lambda': 7.6838030108061695, 'min_child_samples': 40}\n",
      "INFO:models.ensemble_models:Training LightGBM on 135 samples...\n",
      "INFO:models.ensemble_models:Training completed in 0.00 seconds\n",
      "[I 2025-08-16 00:22:44,264] Trial 10 finished with value: 0.9523809523809523 and parameters: {'num_leaves': 298, 'learning_rate': 0.049010783043769, 'n_estimators': 211, 'subsample': 0.9273518372705022, 'colsample_bytree': 0.974545337573761, 'reg_alpha': 6.8995486883621115, 'reg_lambda': 7.6838030108061695, 'min_child_samples': 40}. Best is trial 0 with value: 1.0.\n",
      "INFO:models.ensemble_models:Initialized LightGBM with parameters: {'objective': 'binary', 'metric': 'auc', 'boosting_type': 'gbdt', 'num_leaves': 128, 'learning_rate': 0.14291467760580895, 'n_estimators': 230, 'subsample': 0.6064840252756878, 'colsample_bytree': 0.8553875833664651, 'random_state': 42, 'early_stopping_rounds': 10, 'verbose': -1, 'reg_alpha': 3.468673961860568, 'reg_lambda': 9.987148517779033, 'min_child_samples': 34}\n",
      "INFO:models.ensemble_models:Training LightGBM on 135 samples...\n",
      "INFO:models.ensemble_models:Training completed in 0.01 seconds\n",
      "[I 2025-08-16 00:22:44,292] Trial 11 finished with value: 1.0 and parameters: {'num_leaves': 128, 'learning_rate': 0.14291467760580895, 'n_estimators': 230, 'subsample': 0.6064840252756878, 'colsample_bytree': 0.8553875833664651, 'reg_alpha': 3.468673961860568, 'reg_lambda': 9.987148517779033, 'min_child_samples': 34}. Best is trial 0 with value: 1.0.\n",
      "INFO:models.ensemble_models:Initialized LightGBM with parameters: {'objective': 'binary', 'metric': 'auc', 'boosting_type': 'gbdt', 'num_leaves': 150, 'learning_rate': 0.27389848359665936, 'n_estimators': 233, 'subsample': 0.7026368689630239, 'colsample_bytree': 0.8980798687552296, 'random_state': 42, 'early_stopping_rounds': 10, 'verbose': -1, 'reg_alpha': 4.013928895076045, 'reg_lambda': 8.197242064390096, 'min_child_samples': 29}\n",
      "INFO:models.ensemble_models:Training LightGBM on 135 samples...\n",
      "INFO:models.ensemble_models:Training completed in 0.01 seconds\n",
      "[I 2025-08-16 00:22:44,315] Trial 12 finished with value: 1.0 and parameters: {'num_leaves': 150, 'learning_rate': 0.27389848359665936, 'n_estimators': 233, 'subsample': 0.7026368689630239, 'colsample_bytree': 0.8980798687552296, 'reg_alpha': 4.013928895076045, 'reg_lambda': 8.197242064390096, 'min_child_samples': 29}. Best is trial 0 with value: 1.0.\n",
      "INFO:models.ensemble_models:Initialized LightGBM with parameters: {'objective': 'binary', 'metric': 'auc', 'boosting_type': 'gbdt', 'num_leaves': 105, 'learning_rate': 0.08999320885810504, 'n_estimators': 170, 'subsample': 0.725689473615269, 'colsample_bytree': 0.7812099465494852, 'random_state': 42, 'early_stopping_rounds': 10, 'verbose': -1, 'reg_alpha': 4.513644143376946, 'reg_lambda': 7.6040462268582045, 'min_child_samples': 57}\n",
      "INFO:models.ensemble_models:Training LightGBM on 135 samples...\n",
      "INFO:models.ensemble_models:Training completed in 0.00 seconds\n",
      "[I 2025-08-16 00:22:44,332] Trial 13 finished with value: 0.6755952380952381 and parameters: {'num_leaves': 105, 'learning_rate': 0.08999320885810504, 'n_estimators': 170, 'subsample': 0.725689473615269, 'colsample_bytree': 0.7812099465494852, 'reg_alpha': 4.513644143376946, 'reg_lambda': 7.6040462268582045, 'min_child_samples': 57}. Best is trial 0 with value: 1.0.\n",
      "INFO:models.ensemble_models:Initialized LightGBM with parameters: {'objective': 'binary', 'metric': 'auc', 'boosting_type': 'gbdt', 'num_leaves': 172, 'learning_rate': 0.15938742354601945, 'n_estimators': 95, 'subsample': 0.6403485340762503, 'colsample_bytree': 0.9470803203442313, 'random_state': 42, 'early_stopping_rounds': 10, 'verbose': -1, 'reg_alpha': 2.8040339918799004, 'reg_lambda': 8.865461049293922, 'min_child_samples': 29}\n",
      "INFO:models.ensemble_models:Training LightGBM on 135 samples...\n",
      "INFO:models.ensemble_models:Training completed in 0.00 seconds\n",
      "[I 2025-08-16 00:22:44,350] Trial 14 finished with value: 1.0 and parameters: {'num_leaves': 172, 'learning_rate': 0.15938742354601945, 'n_estimators': 95, 'subsample': 0.6403485340762503, 'colsample_bytree': 0.9470803203442313, 'reg_alpha': 2.8040339918799004, 'reg_lambda': 8.865461049293922, 'min_child_samples': 29}. Best is trial 0 with value: 1.0.\n",
      "INFO:models.ensemble_models:Initialized LightGBM with parameters: {'objective': 'binary', 'metric': 'auc', 'boosting_type': 'gbdt', 'num_leaves': 263, 'learning_rate': 0.06545541525122685, 'n_estimators': 260, 'subsample': 0.8820715532863301, 'colsample_bytree': 0.7998604085747872, 'random_state': 42, 'early_stopping_rounds': 10, 'verbose': -1, 'reg_alpha': 5.48038245881267, 'reg_lambda': 6.7830633404069225, 'min_child_samples': 5}\n",
      "INFO:models.ensemble_models:Training LightGBM on 135 samples...\n",
      "INFO:models.ensemble_models:Training completed in 0.00 seconds\n",
      "[I 2025-08-16 00:22:44,367] Trial 15 finished with value: 1.0 and parameters: {'num_leaves': 263, 'learning_rate': 0.06545541525122685, 'n_estimators': 260, 'subsample': 0.8820715532863301, 'colsample_bytree': 0.7998604085747872, 'reg_alpha': 5.48038245881267, 'reg_lambda': 6.7830633404069225, 'min_child_samples': 5}. Best is trial 0 with value: 1.0.\n"
     ]
    },
    {
     "name": "stdout",
     "output_type": "stream",
     "text": [
      "Running hyperparameter optimization for LightGBM...\n",
      "(This may take several minutes)\n"
     ]
    },
    {
     "name": "stderr",
     "output_type": "stream",
     "text": [
      "INFO:models.ensemble_models:Initialized LightGBM with parameters: {'objective': 'binary', 'metric': 'auc', 'boosting_type': 'gbdt', 'num_leaves': 183, 'learning_rate': 0.13629954221070847, 'n_estimators': 190, 'subsample': 0.6042685591980302, 'colsample_bytree': 0.7237218493836552, 'random_state': 42, 'early_stopping_rounds': 10, 'verbose': -1, 'reg_alpha': 9.602698635958767, 'reg_lambda': 9.76278525030824, 'min_child_samples': 49}\n",
      "INFO:models.ensemble_models:Training LightGBM on 135 samples...\n",
      "INFO:models.ensemble_models:Training completed in 0.00 seconds\n",
      "[I 2025-08-16 00:22:44,385] Trial 16 finished with value: 0.998015873015873 and parameters: {'num_leaves': 183, 'learning_rate': 0.13629954221070847, 'n_estimators': 190, 'subsample': 0.6042685591980302, 'colsample_bytree': 0.7237218493836552, 'reg_alpha': 9.602698635958767, 'reg_lambda': 9.76278525030824, 'min_child_samples': 49}. Best is trial 0 with value: 1.0.\n",
      "INFO:models.ensemble_models:Initialized LightGBM with parameters: {'objective': 'binary', 'metric': 'auc', 'boosting_type': 'gbdt', 'num_leaves': 257, 'learning_rate': 0.20861001097588758, 'n_estimators': 146, 'subsample': 0.7519390612340074, 'colsample_bytree': 0.8395611035064742, 'random_state': 42, 'early_stopping_rounds': 10, 'verbose': -1, 'reg_alpha': 2.303685632368094, 'reg_lambda': 0.019194165014503994, 'min_child_samples': 25}\n",
      "INFO:models.ensemble_models:Training LightGBM on 135 samples...\n",
      "INFO:models.ensemble_models:Training completed in 0.00 seconds\n",
      "[I 2025-08-16 00:22:44,402] Trial 17 finished with value: 1.0 and parameters: {'num_leaves': 257, 'learning_rate': 0.20861001097588758, 'n_estimators': 146, 'subsample': 0.7519390612340074, 'colsample_bytree': 0.8395611035064742, 'reg_alpha': 2.303685632368094, 'reg_lambda': 0.019194165014503994, 'min_child_samples': 25}. Best is trial 0 with value: 1.0.\n",
      "INFO:models.ensemble_models:Initialized LightGBM with parameters: {'objective': 'binary', 'metric': 'auc', 'boosting_type': 'gbdt', 'num_leaves': 111, 'learning_rate': 0.2966241632977582, 'n_estimators': 254, 'subsample': 0.6658390995472592, 'colsample_bytree': 0.9264715479911272, 'random_state': 42, 'early_stopping_rounds': 10, 'verbose': -1, 'reg_alpha': 0.31112937341542946, 'reg_lambda': 8.549286617594525, 'min_child_samples': 22}\n",
      "INFO:models.ensemble_models:Training LightGBM on 135 samples...\n",
      "INFO:models.ensemble_models:Training completed in 0.00 seconds\n",
      "[I 2025-08-16 00:22:44,419] Trial 18 finished with value: 1.0 and parameters: {'num_leaves': 111, 'learning_rate': 0.2966241632977582, 'n_estimators': 254, 'subsample': 0.6658390995472592, 'colsample_bytree': 0.9264715479911272, 'reg_alpha': 0.31112937341542946, 'reg_lambda': 8.549286617594525, 'min_child_samples': 22}. Best is trial 0 with value: 1.0.\n",
      "INFO:models.ensemble_models:Initialized LightGBM with parameters: {'objective': 'binary', 'metric': 'auc', 'boosting_type': 'gbdt', 'num_leaves': 153, 'learning_rate': 0.03300268207904651, 'n_estimators': 84, 'subsample': 0.9966744470427253, 'colsample_bytree': 0.6795014132152812, 'random_state': 42, 'early_stopping_rounds': 10, 'verbose': -1, 'reg_alpha': 6.640340721220834, 'reg_lambda': 7.105160728498706, 'min_child_samples': 100}\n",
      "INFO:models.ensemble_models:Training LightGBM on 135 samples...\n",
      "INFO:models.ensemble_models:Training completed in 0.00 seconds\n",
      "[I 2025-08-16 00:22:44,434] Trial 19 finished with value: 0.5 and parameters: {'num_leaves': 153, 'learning_rate': 0.03300268207904651, 'n_estimators': 84, 'subsample': 0.9966744470427253, 'colsample_bytree': 0.6795014132152812, 'reg_alpha': 6.640340721220834, 'reg_lambda': 7.105160728498706, 'min_child_samples': 100}. Best is trial 0 with value: 1.0.\n",
      "INFO:models.ensemble_models:Initialized LightGBM with parameters: {'objective': 'binary', 'metric': 'auc', 'boosting_type': 'gbdt', 'num_leaves': 297, 'learning_rate': 0.10866014625266104, 'n_estimators': 202, 'subsample': 0.7306918123961803, 'colsample_bytree': 0.7638888725335164, 'random_state': 42, 'early_stopping_rounds': 10, 'verbose': -1, 'reg_alpha': 4.709195600889816, 'reg_lambda': 4.518386968179491, 'min_child_samples': 39}\n",
      "INFO:models.ensemble_models:Training LightGBM on 135 samples...\n",
      "INFO:models.ensemble_models:Training completed in 0.00 seconds\n",
      "[I 2025-08-16 00:22:44,452] Trial 20 finished with value: 1.0 and parameters: {'num_leaves': 297, 'learning_rate': 0.10866014625266104, 'n_estimators': 202, 'subsample': 0.7306918123961803, 'colsample_bytree': 0.7638888725335164, 'reg_alpha': 4.709195600889816, 'reg_lambda': 4.518386968179491, 'min_child_samples': 39}. Best is trial 0 with value: 1.0.\n",
      "INFO:models.ensemble_models:Initialized LightGBM with parameters: {'objective': 'binary', 'metric': 'auc', 'boosting_type': 'gbdt', 'num_leaves': 52, 'learning_rate': 0.01079052801888579, 'n_estimators': 136, 'subsample': 0.795801839470911, 'colsample_bytree': 0.6688499324483064, 'random_state': 42, 'early_stopping_rounds': 10, 'verbose': -1, 'reg_alpha': 1.4648538379648752, 'reg_lambda': 2.7928306433188914, 'min_child_samples': 18}\n",
      "INFO:models.ensemble_models:Training LightGBM on 135 samples...\n",
      "INFO:models.ensemble_models:Training completed in 0.00 seconds\n",
      "[I 2025-08-16 00:22:44,470] Trial 21 finished with value: 1.0 and parameters: {'num_leaves': 52, 'learning_rate': 0.01079052801888579, 'n_estimators': 136, 'subsample': 0.795801839470911, 'colsample_bytree': 0.6688499324483064, 'reg_alpha': 1.4648538379648752, 'reg_lambda': 2.7928306433188914, 'min_child_samples': 18}. Best is trial 0 with value: 1.0.\n",
      "INFO:models.ensemble_models:Initialized LightGBM with parameters: {'objective': 'binary', 'metric': 'auc', 'boosting_type': 'gbdt', 'num_leaves': 232, 'learning_rate': 0.01096528783400481, 'n_estimators': 101, 'subsample': 0.6497254428444851, 'colsample_bytree': 0.817007590661738, 'random_state': 42, 'early_stopping_rounds': 10, 'verbose': -1, 'reg_alpha': 1.5366680035367117, 'reg_lambda': 2.273992767386117, 'min_child_samples': 11}\n",
      "INFO:models.ensemble_models:Training LightGBM on 135 samples...\n",
      "INFO:models.ensemble_models:Training completed in 0.00 seconds\n",
      "[I 2025-08-16 00:22:44,487] Trial 22 finished with value: 1.0 and parameters: {'num_leaves': 232, 'learning_rate': 0.01096528783400481, 'n_estimators': 101, 'subsample': 0.6497254428444851, 'colsample_bytree': 0.817007590661738, 'reg_alpha': 1.5366680035367117, 'reg_lambda': 2.273992767386117, 'min_child_samples': 11}. Best is trial 0 with value: 1.0.\n",
      "INFO:models.ensemble_models:Initialized LightGBM with parameters: {'objective': 'binary', 'metric': 'auc', 'boosting_type': 'gbdt', 'num_leaves': 184, 'learning_rate': 0.01480180535129935, 'n_estimators': 75, 'subsample': 0.7081213040933042, 'colsample_bytree': 0.6006777520617872, 'random_state': 42, 'early_stopping_rounds': 10, 'verbose': -1, 'reg_alpha': 3.452945172253689, 'reg_lambda': 1.2293414251223922, 'min_child_samples': 25}\n",
      "INFO:models.ensemble_models:Training LightGBM on 135 samples...\n",
      "INFO:models.ensemble_models:Training completed in 0.00 seconds\n",
      "[I 2025-08-16 00:22:44,505] Trial 23 finished with value: 1.0 and parameters: {'num_leaves': 184, 'learning_rate': 0.01480180535129935, 'n_estimators': 75, 'subsample': 0.7081213040933042, 'colsample_bytree': 0.6006777520617872, 'reg_alpha': 3.452945172253689, 'reg_lambda': 1.2293414251223922, 'min_child_samples': 25}. Best is trial 0 with value: 1.0.\n",
      "INFO:models.ensemble_models:Initialized LightGBM with parameters: {'objective': 'binary', 'metric': 'auc', 'boosting_type': 'gbdt', 'num_leaves': 76, 'learning_rate': 0.06018681865942371, 'n_estimators': 147, 'subsample': 0.7751502805610717, 'colsample_bytree': 0.6478281989371093, 'random_state': 42, 'early_stopping_rounds': 10, 'verbose': -1, 'reg_alpha': 2.6315017015464455, 'reg_lambda': 4.94815351221985, 'min_child_samples': 33}\n",
      "INFO:models.ensemble_models:Training LightGBM on 135 samples...\n",
      "INFO:models.ensemble_models:Training completed in 0.00 seconds\n",
      "[I 2025-08-16 00:22:44,523] Trial 24 finished with value: 1.0 and parameters: {'num_leaves': 76, 'learning_rate': 0.06018681865942371, 'n_estimators': 147, 'subsample': 0.7751502805610717, 'colsample_bytree': 0.6478281989371093, 'reg_alpha': 2.6315017015464455, 'reg_lambda': 4.94815351221985, 'min_child_samples': 33}. Best is trial 0 with value: 1.0.\n",
      "INFO:models.ensemble_models:Initialized LightGBM with parameters: {'objective': 'binary', 'metric': 'auc', 'boosting_type': 'gbdt', 'num_leaves': 126, 'learning_rate': 0.03411587963007385, 'n_estimators': 111, 'subsample': 0.8305148713105135, 'colsample_bytree': 0.9044963290386515, 'random_state': 42, 'early_stopping_rounds': 10, 'verbose': -1, 'reg_alpha': 1.341001000139642, 'reg_lambda': 9.089263970809176, 'min_child_samples': 17}\n",
      "INFO:models.ensemble_models:Training LightGBM on 135 samples...\n",
      "INFO:models.ensemble_models:Training completed in 0.00 seconds\n",
      "[I 2025-08-16 00:22:44,541] Trial 25 finished with value: 1.0 and parameters: {'num_leaves': 126, 'learning_rate': 0.03411587963007385, 'n_estimators': 111, 'subsample': 0.8305148713105135, 'colsample_bytree': 0.9044963290386515, 'reg_alpha': 1.341001000139642, 'reg_lambda': 9.089263970809176, 'min_child_samples': 17}. Best is trial 0 with value: 1.0.\n",
      "INFO:models.ensemble_models:Initialized LightGBM with parameters: {'objective': 'binary', 'metric': 'auc', 'boosting_type': 'gbdt', 'num_leaves': 163, 'learning_rate': 0.17480982661348737, 'n_estimators': 51, 'subsample': 0.7453121748610135, 'colsample_bytree': 0.7139092799479704, 'random_state': 42, 'early_stopping_rounds': 10, 'verbose': -1, 'reg_alpha': 0.06909137960495926, 'reg_lambda': 3.2164122352747575, 'min_child_samples': 5}\n",
      "INFO:models.ensemble_models:Training LightGBM on 135 samples...\n",
      "INFO:models.ensemble_models:Training completed in 0.00 seconds\n",
      "[I 2025-08-16 00:22:44,559] Trial 26 finished with value: 1.0 and parameters: {'num_leaves': 163, 'learning_rate': 0.17480982661348737, 'n_estimators': 51, 'subsample': 0.7453121748610135, 'colsample_bytree': 0.7139092799479704, 'reg_alpha': 0.06909137960495926, 'reg_lambda': 3.2164122352747575, 'min_child_samples': 5}. Best is trial 0 with value: 1.0.\n",
      "INFO:models.ensemble_models:Initialized LightGBM with parameters: {'objective': 'binary', 'metric': 'auc', 'boosting_type': 'gbdt', 'num_leaves': 199, 'learning_rate': 0.1114897018590279, 'n_estimators': 75, 'subsample': 0.684087186688724, 'colsample_bytree': 0.7678353397607771, 'random_state': 42, 'early_stopping_rounds': 10, 'verbose': -1, 'reg_alpha': 4.0089314988916875, 'reg_lambda': 6.257934562726223, 'min_child_samples': 56}\n",
      "INFO:models.ensemble_models:Training LightGBM on 135 samples...\n",
      "INFO:models.ensemble_models:Training completed in 0.00 seconds\n",
      "[I 2025-08-16 00:22:44,577] Trial 27 finished with value: 0.8045634920634921 and parameters: {'num_leaves': 199, 'learning_rate': 0.1114897018590279, 'n_estimators': 75, 'subsample': 0.684087186688724, 'colsample_bytree': 0.7678353397607771, 'reg_alpha': 4.0089314988916875, 'reg_lambda': 6.257934562726223, 'min_child_samples': 56}. Best is trial 0 with value: 1.0.\n",
      "INFO:models.ensemble_models:Initialized LightGBM with parameters: {'objective': 'binary', 'metric': 'auc', 'boosting_type': 'gbdt', 'num_leaves': 86, 'learning_rate': 0.02066152090256975, 'n_estimators': 134, 'subsample': 0.6344784940500134, 'colsample_bytree': 0.8814365774989745, 'random_state': 42, 'early_stopping_rounds': 10, 'verbose': -1, 'reg_alpha': 2.9761238223535864, 'reg_lambda': 1.6990765031442612, 'min_child_samples': 48}\n",
      "INFO:models.ensemble_models:Training LightGBM on 135 samples...\n",
      "INFO:models.ensemble_models:Training completed in 0.00 seconds\n",
      "[I 2025-08-16 00:22:44,594] Trial 28 finished with value: 0.9523809523809523 and parameters: {'num_leaves': 86, 'learning_rate': 0.02066152090256975, 'n_estimators': 134, 'subsample': 0.6344784940500134, 'colsample_bytree': 0.8814365774989745, 'reg_alpha': 2.9761238223535864, 'reg_lambda': 1.6990765031442612, 'min_child_samples': 48}. Best is trial 0 with value: 1.0.\n",
      "INFO:models.ensemble_models:Initialized LightGBM with parameters: {'objective': 'binary', 'metric': 'auc', 'boosting_type': 'gbdt', 'num_leaves': 136, 'learning_rate': 0.2203187123286142, 'n_estimators': 155, 'subsample': 0.7735457922477919, 'colsample_bytree': 0.8328175244021363, 'random_state': 42, 'early_stopping_rounds': 10, 'verbose': -1, 'reg_alpha': 1.8148480459051635, 'reg_lambda': 9.56679050064078, 'min_child_samples': 82}\n",
      "INFO:models.ensemble_models:Training LightGBM on 135 samples...\n",
      "INFO:models.ensemble_models:Training completed in 0.00 seconds\n",
      "[I 2025-08-16 00:22:44,610] Trial 29 finished with value: 0.5 and parameters: {'num_leaves': 136, 'learning_rate': 0.2203187123286142, 'n_estimators': 155, 'subsample': 0.7735457922477919, 'colsample_bytree': 0.8328175244021363, 'reg_alpha': 1.8148480459051635, 'reg_lambda': 9.56679050064078, 'min_child_samples': 82}. Best is trial 0 with value: 1.0.\n",
      "INFO:models.ensemble_models:Initialized LightGBM with parameters: {'objective': 'binary', 'metric': 'auc', 'boosting_type': 'gbdt', 'num_leaves': 41, 'learning_rate': 0.0728626222650405, 'n_estimators': 96, 'subsample': 0.8809042408169122, 'colsample_bytree': 0.7482147598793433, 'random_state': 42, 'early_stopping_rounds': 10, 'verbose': -1, 'reg_alpha': 4.167277983700035, 'reg_lambda': 0.3953478397611354, 'min_child_samples': 21}\n",
      "INFO:models.ensemble_models:Training LightGBM on 135 samples...\n",
      "INFO:models.ensemble_models:Training completed in 0.00 seconds\n",
      "[I 2025-08-16 00:22:44,628] Trial 30 finished with value: 1.0 and parameters: {'num_leaves': 41, 'learning_rate': 0.0728626222650405, 'n_estimators': 96, 'subsample': 0.8809042408169122, 'colsample_bytree': 0.7482147598793433, 'reg_alpha': 4.167277983700035, 'reg_lambda': 0.3953478397611354, 'min_child_samples': 21}. Best is trial 0 with value: 1.0.\n",
      "INFO:models.ensemble_models:Initialized LightGBM with parameters: {'objective': 'binary', 'metric': 'auc', 'boosting_type': 'gbdt', 'num_leaves': 248, 'learning_rate': 0.07981712937040615, 'n_estimators': 169, 'subsample': 0.6247561556974447, 'colsample_bytree': 0.7085368270095025, 'random_state': 42, 'early_stopping_rounds': 10, 'verbose': -1, 'reg_alpha': 5.298083024957513, 'reg_lambda': 4.0951943041812, 'min_child_samples': 13}\n",
      "INFO:models.ensemble_models:Training LightGBM on 135 samples...\n",
      "INFO:models.ensemble_models:Training completed in 0.00 seconds\n",
      "[I 2025-08-16 00:22:44,646] Trial 31 finished with value: 1.0 and parameters: {'num_leaves': 248, 'learning_rate': 0.07981712937040615, 'n_estimators': 169, 'subsample': 0.6247561556974447, 'colsample_bytree': 0.7085368270095025, 'reg_alpha': 5.298083024957513, 'reg_lambda': 4.0951943041812, 'min_child_samples': 13}. Best is trial 0 with value: 1.0.\n",
      "INFO:models.ensemble_models:Initialized LightGBM with parameters: {'objective': 'binary', 'metric': 'auc', 'boosting_type': 'gbdt', 'num_leaves': 228, 'learning_rate': 0.13213286594037024, 'n_estimators': 186, 'subsample': 0.6604426275592425, 'colsample_bytree': 0.6954255904083008, 'random_state': 42, 'early_stopping_rounds': 10, 'verbose': -1, 'reg_alpha': 5.532915052159681, 'reg_lambda': 2.3435505126970946, 'min_child_samples': 35}\n",
      "INFO:models.ensemble_models:Training LightGBM on 135 samples...\n",
      "INFO:models.ensemble_models:Training completed in 0.00 seconds\n",
      "[I 2025-08-16 00:22:44,665] Trial 32 finished with value: 1.0 and parameters: {'num_leaves': 228, 'learning_rate': 0.13213286594037024, 'n_estimators': 186, 'subsample': 0.6604426275592425, 'colsample_bytree': 0.6954255904083008, 'reg_alpha': 5.532915052159681, 'reg_lambda': 2.3435505126970946, 'min_child_samples': 35}. Best is trial 0 with value: 1.0.\n",
      "INFO:models.ensemble_models:Initialized LightGBM with parameters: {'objective': 'binary', 'metric': 'auc', 'boosting_type': 'gbdt', 'num_leaves': 229, 'learning_rate': 0.18561235348519473, 'n_estimators': 130, 'subsample': 0.6216103920814309, 'colsample_bytree': 0.6559009458253457, 'random_state': 42, 'early_stopping_rounds': 10, 'verbose': -1, 'reg_alpha': 6.3209732897138275, 'reg_lambda': 4.19977007105692, 'min_child_samples': 13}\n",
      "INFO:models.ensemble_models:Training LightGBM on 135 samples...\n",
      "INFO:models.ensemble_models:Training completed in 0.00 seconds\n",
      "[I 2025-08-16 00:22:44,684] Trial 33 finished with value: 1.0 and parameters: {'num_leaves': 229, 'learning_rate': 0.18561235348519473, 'n_estimators': 130, 'subsample': 0.6216103920814309, 'colsample_bytree': 0.6559009458253457, 'reg_alpha': 6.3209732897138275, 'reg_lambda': 4.19977007105692, 'min_child_samples': 13}. Best is trial 0 with value: 1.0.\n",
      "INFO:models.ensemble_models:Initialized LightGBM with parameters: {'objective': 'binary', 'metric': 'auc', 'boosting_type': 'gbdt', 'num_leaves': 271, 'learning_rate': 0.09089741890660488, 'n_estimators': 297, 'subsample': 0.703723905417613, 'colsample_bytree': 0.7942036188086289, 'random_state': 42, 'early_stopping_rounds': 10, 'verbose': -1, 'reg_alpha': 8.051880328877, 'reg_lambda': 3.497412297901673, 'min_child_samples': 28}\n",
      "INFO:models.ensemble_models:Training LightGBM on 135 samples...\n",
      "INFO:models.ensemble_models:Training completed in 0.00 seconds\n",
      "[I 2025-08-16 00:22:44,703] Trial 34 finished with value: 1.0 and parameters: {'num_leaves': 271, 'learning_rate': 0.09089741890660488, 'n_estimators': 297, 'subsample': 0.703723905417613, 'colsample_bytree': 0.7942036188086289, 'reg_alpha': 8.051880328877, 'reg_lambda': 3.497412297901673, 'min_child_samples': 28}. Best is trial 0 with value: 1.0.\n",
      "INFO:models.ensemble_models:Initialized LightGBM with parameters: {'objective': 'binary', 'metric': 'auc', 'boosting_type': 'gbdt', 'num_leaves': 203, 'learning_rate': 0.038546603411515196, 'n_estimators': 263, 'subsample': 0.6521415284656827, 'colsample_bytree': 0.6260952269896004, 'random_state': 42, 'early_stopping_rounds': 10, 'verbose': -1, 'reg_alpha': 4.891757548124328, 'reg_lambda': 4.990132618502113, 'min_child_samples': 19}\n",
      "INFO:models.ensemble_models:Training LightGBM on 135 samples...\n",
      "INFO:models.ensemble_models:Training completed in 0.00 seconds\n",
      "[I 2025-08-16 00:22:44,722] Trial 35 finished with value: 1.0 and parameters: {'num_leaves': 203, 'learning_rate': 0.038546603411515196, 'n_estimators': 263, 'subsample': 0.6521415284656827, 'colsample_bytree': 0.6260952269896004, 'reg_alpha': 4.891757548124328, 'reg_lambda': 4.990132618502113, 'min_child_samples': 19}. Best is trial 0 with value: 1.0.\n",
      "INFO:models.ensemble_models:Initialized LightGBM with parameters: {'objective': 'binary', 'metric': 'auc', 'boosting_type': 'gbdt', 'num_leaves': 30, 'learning_rate': 0.025982463109234355, 'n_estimators': 111, 'subsample': 0.601465489405549, 'colsample_bytree': 0.7412086018946074, 'random_state': 42, 'early_stopping_rounds': 10, 'verbose': -1, 'reg_alpha': 5.896240225689961, 'reg_lambda': 3.9924793147772024, 'min_child_samples': 8}\n",
      "INFO:models.ensemble_models:Training LightGBM on 135 samples...\n",
      "INFO:models.ensemble_models:Training completed in 0.00 seconds\n",
      "[I 2025-08-16 00:22:44,740] Trial 36 finished with value: 0.9999999999999999 and parameters: {'num_leaves': 30, 'learning_rate': 0.025982463109234355, 'n_estimators': 111, 'subsample': 0.601465489405549, 'colsample_bytree': 0.7412086018946074, 'reg_alpha': 5.896240225689961, 'reg_lambda': 3.9924793147772024, 'min_child_samples': 8}. Best is trial 0 with value: 1.0.\n",
      "INFO:models.ensemble_models:Initialized LightGBM with parameters: {'objective': 'binary', 'metric': 'auc', 'boosting_type': 'gbdt', 'num_leaves': 275, 'learning_rate': 0.04633117674569766, 'n_estimators': 223, 'subsample': 0.6802492778089173, 'colsample_bytree': 0.8639024333351882, 'random_state': 42, 'early_stopping_rounds': 10, 'verbose': -1, 'reg_alpha': 2.245857696484328, 'reg_lambda': 8.20553491773294, 'min_child_samples': 62}\n",
      "INFO:models.ensemble_models:Training LightGBM on 135 samples...\n",
      "INFO:models.ensemble_models:Training completed in 0.00 seconds\n",
      "[I 2025-08-16 00:22:44,759] Trial 37 finished with value: 0.8025793650793651 and parameters: {'num_leaves': 275, 'learning_rate': 0.04633117674569766, 'n_estimators': 223, 'subsample': 0.6802492778089173, 'colsample_bytree': 0.8639024333351882, 'reg_alpha': 2.245857696484328, 'reg_lambda': 8.20553491773294, 'min_child_samples': 62}. Best is trial 0 with value: 1.0.\n",
      "INFO:models.ensemble_models:Initialized LightGBM with parameters: {'objective': 'binary', 'metric': 'auc', 'boosting_type': 'gbdt', 'num_leaves': 214, 'learning_rate': 0.054993343976889195, 'n_estimators': 275, 'subsample': 0.62629259332471, 'colsample_bytree': 0.8208193105664284, 'random_state': 42, 'early_stopping_rounds': 10, 'verbose': -1, 'reg_alpha': 7.072280341320965, 'reg_lambda': 5.507234797690389, 'min_child_samples': 11}\n",
      "INFO:models.ensemble_models:Training LightGBM on 135 samples...\n",
      "INFO:models.ensemble_models:Training completed in 0.00 seconds\n",
      "[I 2025-08-16 00:22:44,778] Trial 38 finished with value: 1.0 and parameters: {'num_leaves': 214, 'learning_rate': 0.054993343976889195, 'n_estimators': 275, 'subsample': 0.62629259332471, 'colsample_bytree': 0.8208193105664284, 'reg_alpha': 7.072280341320965, 'reg_lambda': 5.507234797690389, 'min_child_samples': 11}. Best is trial 0 with value: 1.0.\n",
      "INFO:models.ensemble_models:Initialized LightGBM with parameters: {'objective': 'binary', 'metric': 'auc', 'boosting_type': 'gbdt', 'num_leaves': 244, 'learning_rate': 0.122908718084839, 'n_estimators': 63, 'subsample': 0.8558760597747099, 'colsample_bytree': 0.7718335822724269, 'random_state': 42, 'early_stopping_rounds': 10, 'verbose': -1, 'reg_alpha': 3.721382897606528, 'reg_lambda': 9.261322138118695, 'min_child_samples': 43}\n",
      "INFO:models.ensemble_models:Training LightGBM on 135 samples...\n",
      "INFO:models.ensemble_models:Training completed in 0.00 seconds\n",
      "[I 2025-08-16 00:22:44,797] Trial 39 finished with value: 0.998015873015873 and parameters: {'num_leaves': 244, 'learning_rate': 0.122908718084839, 'n_estimators': 63, 'subsample': 0.8558760597747099, 'colsample_bytree': 0.7718335822724269, 'reg_alpha': 3.721382897606528, 'reg_lambda': 9.261322138118695, 'min_child_samples': 43}. Best is trial 0 with value: 1.0.\n",
      "INFO:models.ensemble_models:Initialized LightGBM with parameters: {'objective': 'binary', 'metric': 'auc', 'boosting_type': 'gbdt', 'num_leaves': 192, 'learning_rate': 0.2444885862802417, 'n_estimators': 160, 'subsample': 0.7217332168366088, 'colsample_bytree': 0.621147392099672, 'random_state': 42, 'early_stopping_rounds': 10, 'verbose': -1, 'reg_alpha': 0.654144958017375, 'reg_lambda': 2.9121132982649303, 'min_child_samples': 24}\n",
      "INFO:models.ensemble_models:Training LightGBM on 135 samples...\n",
      "INFO:models.ensemble_models:Training completed in 0.00 seconds\n",
      "[I 2025-08-16 00:22:44,816] Trial 40 finished with value: 0.9999999999999999 and parameters: {'num_leaves': 192, 'learning_rate': 0.2444885862802417, 'n_estimators': 160, 'subsample': 0.7217332168366088, 'colsample_bytree': 0.621147392099672, 'reg_alpha': 0.654144958017375, 'reg_lambda': 2.9121132982649303, 'min_child_samples': 24}. Best is trial 0 with value: 1.0.\n",
      "INFO:models.ensemble_models:Initialized LightGBM with parameters: {'objective': 'binary', 'metric': 'auc', 'boosting_type': 'gbdt', 'num_leaves': 12, 'learning_rate': 0.24601192567086705, 'n_estimators': 67, 'subsample': 0.8053253980779718, 'colsample_bytree': 0.6480840738004076, 'random_state': 42, 'early_stopping_rounds': 10, 'verbose': -1, 'reg_alpha': 7.737749358483094, 'reg_lambda': 3.7609053815443247, 'min_child_samples': 15}\n",
      "INFO:models.ensemble_models:Training LightGBM on 135 samples...\n",
      "INFO:models.ensemble_models:Training completed in 0.00 seconds\n",
      "[I 2025-08-16 00:22:44,835] Trial 41 finished with value: 1.0 and parameters: {'num_leaves': 12, 'learning_rate': 0.24601192567086705, 'n_estimators': 67, 'subsample': 0.8053253980779718, 'colsample_bytree': 0.6480840738004076, 'reg_alpha': 7.737749358483094, 'reg_lambda': 3.7609053815443247, 'min_child_samples': 15}. Best is trial 0 with value: 1.0.\n",
      "INFO:models.ensemble_models:Initialized LightGBM with parameters: {'objective': 'binary', 'metric': 'auc', 'boosting_type': 'gbdt', 'num_leaves': 64, 'learning_rate': 0.16088673274406626, 'n_estimators': 52, 'subsample': 0.8239564494112535, 'colsample_bytree': 0.6364070415945692, 'random_state': 42, 'early_stopping_rounds': 10, 'verbose': -1, 'reg_alpha': 8.961622464644396, 'reg_lambda': 5.594909160888004, 'min_child_samples': 18}\n",
      "INFO:models.ensemble_models:Training LightGBM on 135 samples...\n",
      "INFO:models.ensemble_models:Training completed in 0.00 seconds\n",
      "[I 2025-08-16 00:22:44,855] Trial 42 finished with value: 1.0 and parameters: {'num_leaves': 64, 'learning_rate': 0.16088673274406626, 'n_estimators': 52, 'subsample': 0.8239564494112535, 'colsample_bytree': 0.6364070415945692, 'reg_alpha': 8.961622464644396, 'reg_lambda': 5.594909160888004, 'min_child_samples': 18}. Best is trial 0 with value: 1.0.\n",
      "INFO:models.ensemble_models:Initialized LightGBM with parameters: {'objective': 'binary', 'metric': 'auc', 'boosting_type': 'gbdt', 'num_leaves': 24, 'learning_rate': 0.09182788281569251, 'n_estimators': 86, 'subsample': 0.909060158383741, 'colsample_bytree': 0.6940421888553993, 'random_state': 42, 'early_stopping_rounds': 10, 'verbose': -1, 'reg_alpha': 7.479463386468356, 'reg_lambda': 6.876542228429839, 'min_child_samples': 30}\n",
      "INFO:models.ensemble_models:Training LightGBM on 135 samples...\n",
      "INFO:models.ensemble_models:Training completed in 0.00 seconds\n",
      "[I 2025-08-16 00:22:44,874] Trial 43 finished with value: 1.0 and parameters: {'num_leaves': 24, 'learning_rate': 0.09182788281569251, 'n_estimators': 86, 'subsample': 0.909060158383741, 'colsample_bytree': 0.6940421888553993, 'reg_alpha': 7.479463386468356, 'reg_lambda': 6.876542228429839, 'min_child_samples': 30}. Best is trial 0 with value: 1.0.\n",
      "INFO:models.ensemble_models:Initialized LightGBM with parameters: {'objective': 'binary', 'metric': 'auc', 'boosting_type': 'gbdt', 'num_leaves': 173, 'learning_rate': 0.19977075652698326, 'n_estimators': 123, 'subsample': 0.7513397318322592, 'colsample_bytree': 0.671958302487342, 'random_state': 42, 'early_stopping_rounds': 10, 'verbose': -1, 'reg_alpha': 4.3943120279230605, 'reg_lambda': 7.687238651098072, 'min_child_samples': 8}\n",
      "INFO:models.ensemble_models:Training LightGBM on 135 samples...\n",
      "INFO:models.ensemble_models:Training completed in 0.00 seconds\n",
      "[I 2025-08-16 00:22:44,894] Trial 44 finished with value: 0.9999999999999999 and parameters: {'num_leaves': 173, 'learning_rate': 0.19977075652698326, 'n_estimators': 123, 'subsample': 0.7513397318322592, 'colsample_bytree': 0.671958302487342, 'reg_alpha': 4.3943120279230605, 'reg_lambda': 7.687238651098072, 'min_child_samples': 8}. Best is trial 0 with value: 1.0.\n",
      "INFO:models.ensemble_models:Initialized LightGBM with parameters: {'objective': 'binary', 'metric': 'auc', 'boosting_type': 'gbdt', 'num_leaves': 212, 'learning_rate': 0.14575271810544363, 'n_estimators': 182, 'subsample': 0.8005593769812099, 'colsample_bytree': 0.9843144918864967, 'random_state': 42, 'early_stopping_rounds': 10, 'verbose': -1, 'reg_alpha': 3.089724100737085, 'reg_lambda': 8.712011733978748, 'min_child_samples': 72}\n",
      "INFO:models.ensemble_models:Training LightGBM on 135 samples...\n",
      "INFO:models.ensemble_models:Training completed in 0.00 seconds\n",
      "[I 2025-08-16 00:22:44,911] Trial 45 finished with value: 0.5 and parameters: {'num_leaves': 212, 'learning_rate': 0.14575271810544363, 'n_estimators': 182, 'subsample': 0.8005593769812099, 'colsample_bytree': 0.9843144918864967, 'reg_alpha': 3.089724100737085, 'reg_lambda': 8.712011733978748, 'min_child_samples': 72}. Best is trial 0 with value: 1.0.\n",
      "INFO:models.ensemble_models:Initialized LightGBM with parameters: {'objective': 'binary', 'metric': 'auc', 'boosting_type': 'gbdt', 'num_leaves': 38, 'learning_rate': 0.2685894300316556, 'n_estimators': 245, 'subsample': 0.6923887559158228, 'colsample_bytree': 0.7466041470574161, 'random_state': 42, 'early_stopping_rounds': 10, 'verbose': -1, 'reg_alpha': 8.44540572450808, 'reg_lambda': 1.2900642402723141, 'min_child_samples': 36}\n",
      "INFO:models.ensemble_models:Training LightGBM on 135 samples...\n",
      "INFO:models.ensemble_models:Training completed in 0.00 seconds\n",
      "[I 2025-08-16 00:22:44,931] Trial 46 finished with value: 1.0 and parameters: {'num_leaves': 38, 'learning_rate': 0.2685894300316556, 'n_estimators': 245, 'subsample': 0.6923887559158228, 'colsample_bytree': 0.7466041470574161, 'reg_alpha': 8.44540572450808, 'reg_lambda': 1.2900642402723141, 'min_child_samples': 36}. Best is trial 0 with value: 1.0.\n",
      "INFO:models.ensemble_models:Initialized LightGBM with parameters: {'objective': 'binary', 'metric': 'auc', 'boosting_type': 'gbdt', 'num_leaves': 99, 'learning_rate': 0.014780548290334329, 'n_estimators': 200, 'subsample': 0.8645200357450737, 'colsample_bytree': 0.7282176459954685, 'random_state': 42, 'early_stopping_rounds': 10, 'verbose': -1, 'reg_alpha': 5.965436934497622, 'reg_lambda': 9.723087547019585, 'min_child_samples': 23}\n",
      "INFO:models.ensemble_models:Training LightGBM on 135 samples...\n",
      "INFO:models.ensemble_models:Training completed in 0.00 seconds\n",
      "[I 2025-08-16 00:22:44,950] Trial 47 finished with value: 1.0 and parameters: {'num_leaves': 99, 'learning_rate': 0.014780548290334329, 'n_estimators': 200, 'subsample': 0.8645200357450737, 'colsample_bytree': 0.7282176459954685, 'reg_alpha': 5.965436934497622, 'reg_lambda': 9.723087547019585, 'min_child_samples': 23}. Best is trial 0 with value: 1.0.\n",
      "INFO:models.ensemble_models:Initialized LightGBM with parameters: {'objective': 'binary', 'metric': 'auc', 'boosting_type': 'gbdt', 'num_leaves': 52, 'learning_rate': 0.16559672828056662, 'n_estimators': 64, 'subsample': 0.9619606075888565, 'colsample_bytree': 0.6085545339796569, 'random_state': 42, 'early_stopping_rounds': 10, 'verbose': -1, 'reg_alpha': 5.1067419879745595, 'reg_lambda': 9.972471071401806, 'min_child_samples': 15}\n",
      "INFO:models.ensemble_models:Training LightGBM on 135 samples...\n",
      "INFO:models.ensemble_models:Training completed in 0.00 seconds\n",
      "[I 2025-08-16 00:22:44,970] Trial 48 finished with value: 1.0 and parameters: {'num_leaves': 52, 'learning_rate': 0.16559672828056662, 'n_estimators': 64, 'subsample': 0.9619606075888565, 'colsample_bytree': 0.6085545339796569, 'reg_alpha': 5.1067419879745595, 'reg_lambda': 9.972471071401806, 'min_child_samples': 15}. Best is trial 0 with value: 1.0.\n",
      "INFO:models.ensemble_models:Initialized LightGBM with parameters: {'objective': 'binary', 'metric': 'auc', 'boosting_type': 'gbdt', 'num_leaves': 139, 'learning_rate': 0.21061826977774203, 'n_estimators': 217, 'subsample': 0.6634243463475521, 'colsample_bytree': 0.7959980409147055, 'random_state': 42, 'early_stopping_rounds': 10, 'verbose': -1, 'reg_alpha': 9.82015944981583, 'reg_lambda': 2.235846439500558, 'min_child_samples': 28}\n",
      "INFO:models.ensemble_models:Training LightGBM on 135 samples...\n",
      "INFO:models.ensemble_models:Training completed in 0.00 seconds\n",
      "[I 2025-08-16 00:22:44,989] Trial 49 finished with value: 1.0 and parameters: {'num_leaves': 139, 'learning_rate': 0.21061826977774203, 'n_estimators': 217, 'subsample': 0.6634243463475521, 'colsample_bytree': 0.7959980409147055, 'reg_alpha': 9.82015944981583, 'reg_lambda': 2.235846439500558, 'min_child_samples': 28}. Best is trial 0 with value: 1.0.\n",
      "INFO:models.ensemble_models:Optimization completed in 0.82 seconds\n",
      "INFO:models.ensemble_models:Best AUC-ROC: 1.0000\n",
      "INFO:models.ensemble_models:Best parameters: {'num_leaves': 202, 'learning_rate': 0.19566825287534065, 'n_estimators': 56, 'subsample': 0.645988200402658, 'colsample_bytree': 0.7528253139761326, 'reg_alpha': 4.420784852646543, 'reg_lambda': 9.759371067669674, 'min_child_samples': 28}\n"
     ]
    },
    {
     "name": "stdout",
     "output_type": "stream",
     "text": [
      "\n",
      "LightGBM optimization completed\n",
      "  Best validation AUC-ROC: 1.0000\n",
      "  Optimization time: 0.8s\n",
      "  Best parameters: {'num_leaves': 202, 'learning_rate': 0.19566825287534065, 'n_estimators': 56, 'subsample': 0.645988200402658, 'colsample_bytree': 0.7528253139761326, 'reg_alpha': 4.420784852646543, 'reg_lambda': 9.759371067669674, 'min_child_samples': 28}\n"
     ]
    },
    {
     "name": "stderr",
     "output_type": "stream",
     "text": [
      "INFO:models.ensemble_models:Training LightGBM on 135 samples...\n"
     ]
    },
    {
     "name": "stderr",
     "output_type": "stream",
     "text": [
      "INFO:models.ensemble_models:Training completed in 0.00 seconds\n"
     ]
    },
    {
     "name": "stderr",
     "output_type": "stream",
     "text": [
      "[I 2025-08-16 00:00:05,187] Trial 0 finished with value: 0.5 and parameters: {'num_leaves': 166, 'learning_rate': 0.013831324979381766, 'n_estimators': 60, 'subsample': 0.8330977336937797, 'colsample_bytree': 0.7020397145304329, 'reg_alpha': 4.163126147138553, 'reg_lambda': 3.6504480298493016, 'min_child_samples': 81}. Best is trial 0 with value: 0.5.\n"
     ]
    },
    {
     "name": "stderr",
     "output_type": "stream",
     "text": [
      "INFO:models.ensemble_models:Initialized LightGBM with parameters: {'objective': 'binary', 'metric': 'auc', 'boosting_type': 'gbdt', 'num_leaves': 160, 'learning_rate': 0.21423998386768983, 'n_estimators': 248, 'subsample': 0.7921936213803429, 'colsample_bytree': 0.9363323868434624, 'random_state': 42, 'early_stopping_rounds': 10, 'verbose': -1, 'reg_alpha': 1.3789695257512158, 'reg_lambda': 1.4306287877781931, 'min_child_samples': 32}\n"
     ]
    },
    {
     "name": "stderr",
     "output_type": "stream",
     "text": [
      "INFO:models.ensemble_models:Training LightGBM on 135 samples...\n"
     ]
    },
    {
     "name": "stderr",
     "output_type": "stream",
     "text": [
      "INFO:models.ensemble_models:Training completed in 0.00 seconds\n"
     ]
    },
    {
     "name": "stderr",
     "output_type": "stream",
     "text": [
      "[I 2025-08-16 00:00:05,194] Trial 1 finished with value: 1.0 and parameters: {'num_leaves': 160, 'learning_rate': 0.21423998386768983, 'n_estimators': 248, 'subsample': 0.7921936213803429, 'colsample_bytree': 0.9363323868434624, 'reg_alpha': 1.3789695257512158, 'reg_lambda': 1.4306287877781931, 'min_child_samples': 32}. Best is trial 1 with value: 1.0.\n"
     ]
    },
    {
     "name": "stderr",
     "output_type": "stream",
     "text": [
      "INFO:models.ensemble_models:Initialized LightGBM with parameters: {'objective': 'binary', 'metric': 'auc', 'boosting_type': 'gbdt', 'num_leaves': 24, 'learning_rate': 0.155377196264356, 'n_estimators': 54, 'subsample': 0.8253218297891007, 'colsample_bytree': 0.9542041369552678, 'random_state': 42, 'early_stopping_rounds': 10, 'verbose': -1, 'reg_alpha': 5.091769392921918, 'reg_lambda': 8.498998401824421, 'min_child_samples': 44}\n"
     ]
    },
    {
     "name": "stderr",
     "output_type": "stream",
     "text": [
      "INFO:models.ensemble_models:Training LightGBM on 135 samples...\n"
     ]
    },
    {
     "name": "stderr",
     "output_type": "stream",
     "text": [
      "INFO:models.ensemble_models:Training completed in 0.00 seconds\n"
     ]
    },
    {
     "name": "stderr",
     "output_type": "stream",
     "text": [
      "[I 2025-08-16 00:00:05,200] Trial 2 finished with value: 0.9523809523809523 and parameters: {'num_leaves': 24, 'learning_rate': 0.155377196264356, 'n_estimators': 54, 'subsample': 0.8253218297891007, 'colsample_bytree': 0.9542041369552678, 'reg_alpha': 5.091769392921918, 'reg_lambda': 8.498998401824421, 'min_child_samples': 44}. Best is trial 1 with value: 1.0.\n"
     ]
    },
    {
     "name": "stderr",
     "output_type": "stream",
     "text": [
      "INFO:models.ensemble_models:Initialized LightGBM with parameters: {'objective': 'binary', 'metric': 'auc', 'boosting_type': 'gbdt', 'num_leaves': 57, 'learning_rate': 0.06103893945043867, 'n_estimators': 113, 'subsample': 0.9581091941860402, 'colsample_bytree': 0.8206402589506092, 'random_state': 42, 'early_stopping_rounds': 10, 'verbose': -1, 'reg_alpha': 6.600295268736337, 'reg_lambda': 1.3518854151787074, 'min_child_samples': 19}\n"
     ]
    },
    {
     "name": "stderr",
     "output_type": "stream",
     "text": [
      "INFO:models.ensemble_models:Training LightGBM on 135 samples...\n"
     ]
    },
    {
     "name": "stderr",
     "output_type": "stream",
     "text": [
      "INFO:models.ensemble_models:Training completed in 0.00 seconds\n"
     ]
    },
    {
     "name": "stderr",
     "output_type": "stream",
     "text": [
      "[I 2025-08-16 00:00:05,206] Trial 3 finished with value: 1.0 and parameters: {'num_leaves': 57, 'learning_rate': 0.06103893945043867, 'n_estimators': 113, 'subsample': 0.9581091941860402, 'colsample_bytree': 0.8206402589506092, 'reg_alpha': 6.600295268736337, 'reg_lambda': 1.3518854151787074, 'min_child_samples': 19}. Best is trial 1 with value: 1.0.\n"
     ]
    },
    {
     "name": "stderr",
     "output_type": "stream",
     "text": [
      "INFO:models.ensemble_models:Initialized LightGBM with parameters: {'objective': 'binary', 'metric': 'auc', 'boosting_type': 'gbdt', 'num_leaves': 17, 'learning_rate': 0.020054625013945462, 'n_estimators': 119, 'subsample': 0.6600413939639328, 'colsample_bytree': 0.9788487951649784, 'random_state': 42, 'early_stopping_rounds': 10, 'verbose': -1, 'reg_alpha': 7.769665105055101, 'reg_lambda': 3.2008620107420525, 'min_child_samples': 44}\n"
     ]
    },
    {
     "name": "stderr",
     "output_type": "stream",
     "text": [
      "INFO:models.ensemble_models:Training LightGBM on 135 samples...\n"
     ]
    },
    {
     "name": "stderr",
     "output_type": "stream",
     "text": [
      "INFO:models.ensemble_models:Training completed in 0.00 seconds\n"
     ]
    },
    {
     "name": "stderr",
     "output_type": "stream",
     "text": [
      "[I 2025-08-16 00:00:05,212] Trial 4 finished with value: 0.9523809523809523 and parameters: {'num_leaves': 17, 'learning_rate': 0.020054625013945462, 'n_estimators': 119, 'subsample': 0.6600413939639328, 'colsample_bytree': 0.9788487951649784, 'reg_alpha': 7.769665105055101, 'reg_lambda': 3.2008620107420525, 'min_child_samples': 44}. Best is trial 1 with value: 1.0.\n"
     ]
    },
    {
     "name": "stderr",
     "output_type": "stream",
     "text": [
      "INFO:models.ensemble_models:Initialized LightGBM with parameters: {'objective': 'binary', 'metric': 'auc', 'boosting_type': 'gbdt', 'num_leaves': 121, 'learning_rate': 0.026939571311044432, 'n_estimators': 52, 'subsample': 0.8042992752376757, 'colsample_bytree': 0.9953644178981829, 'random_state': 42, 'early_stopping_rounds': 10, 'verbose': -1, 'reg_alpha': 3.301407316114874, 'reg_lambda': 6.795045547798164, 'min_child_samples': 9}\n"
     ]
    },
    {
     "name": "stderr",
     "output_type": "stream",
     "text": [
      "INFO:models.ensemble_models:Training LightGBM on 135 samples...\n"
     ]
    },
    {
     "name": "stderr",
     "output_type": "stream",
     "text": [
      "INFO:models.ensemble_models:Training completed in 0.00 seconds\n"
     ]
    },
    {
     "name": "stderr",
     "output_type": "stream",
     "text": [
      "[I 2025-08-16 00:00:05,219] Trial 5 finished with value: 1.0 and parameters: {'num_leaves': 121, 'learning_rate': 0.026939571311044432, 'n_estimators': 52, 'subsample': 0.8042992752376757, 'colsample_bytree': 0.9953644178981829, 'reg_alpha': 3.301407316114874, 'reg_lambda': 6.795045547798164, 'min_child_samples': 9}. Best is trial 1 with value: 1.0.\n"
     ]
    },
    {
     "name": "stderr",
     "output_type": "stream",
     "text": [
      "INFO:models.ensemble_models:Initialized LightGBM with parameters: {'objective': 'binary', 'metric': 'auc', 'boosting_type': 'gbdt', 'num_leaves': 192, 'learning_rate': 0.02032998578653187, 'n_estimators': 194, 'subsample': 0.9046881174956977, 'colsample_bytree': 0.7376937252674746, 'random_state': 42, 'early_stopping_rounds': 10, 'verbose': -1, 'reg_alpha': 6.663009447720447, 'reg_lambda': 7.086591621346524, 'min_child_samples': 95}\n"
     ]
    },
    {
     "name": "stderr",
     "output_type": "stream",
     "text": [
      "INFO:models.ensemble_models:Training LightGBM on 135 samples...\n"
     ]
    },
    {
     "name": "stderr",
     "output_type": "stream",
     "text": [
      "INFO:models.ensemble_models:Training completed in 0.00 seconds\n"
     ]
    },
    {
     "name": "stderr",
     "output_type": "stream",
     "text": [
      "[I 2025-08-16 00:00:05,223] Trial 6 finished with value: 0.5 and parameters: {'num_leaves': 192, 'learning_rate': 0.02032998578653187, 'n_estimators': 194, 'subsample': 0.9046881174956977, 'colsample_bytree': 0.7376937252674746, 'reg_alpha': 6.663009447720447, 'reg_lambda': 7.086591621346524, 'min_child_samples': 95}. Best is trial 1 with value: 1.0.\n"
     ]
    },
    {
     "name": "stderr",
     "output_type": "stream",
     "text": [
      "INFO:models.ensemble_models:Initialized LightGBM with parameters: {'objective': 'binary', 'metric': 'auc', 'boosting_type': 'gbdt', 'num_leaves': 266, 'learning_rate': 0.04995842205261215, 'n_estimators': 55, 'subsample': 0.9783797357472729, 'colsample_bytree': 0.6294118087592168, 'random_state': 42, 'early_stopping_rounds': 10, 'verbose': -1, 'reg_alpha': 8.616246666919166, 'reg_lambda': 1.6472800395307585, 'min_child_samples': 64}\n"
     ]
    },
    {
     "name": "stderr",
     "output_type": "stream",
     "text": [
      "INFO:models.ensemble_models:Training LightGBM on 135 samples...\n"
     ]
    },
    {
     "name": "stderr",
     "output_type": "stream",
     "text": [
      "INFO:models.ensemble_models:Training completed in 0.00 seconds\n"
     ]
    },
    {
     "name": "stderr",
     "output_type": "stream",
     "text": [
      "[I 2025-08-16 00:00:05,229] Trial 7 finished with value: 0.6785714285714285 and parameters: {'num_leaves': 266, 'learning_rate': 0.04995842205261215, 'n_estimators': 55, 'subsample': 0.9783797357472729, 'colsample_bytree': 0.6294118087592168, 'reg_alpha': 8.616246666919166, 'reg_lambda': 1.6472800395307585, 'min_child_samples': 64}. Best is trial 1 with value: 1.0.\n"
     ]
    },
    {
     "name": "stderr",
     "output_type": "stream",
     "text": [
      "INFO:models.ensemble_models:Initialized LightGBM with parameters: {'objective': 'binary', 'metric': 'auc', 'boosting_type': 'gbdt', 'num_leaves': 293, 'learning_rate': 0.29434261738379885, 'n_estimators': 275, 'subsample': 0.6198024672739961, 'colsample_bytree': 0.9919786931329758, 'random_state': 42, 'early_stopping_rounds': 10, 'verbose': -1, 'reg_alpha': 7.482401152173582, 'reg_lambda': 7.091927156293661, 'min_child_samples': 77}\n"
     ]
    },
    {
     "name": "stderr",
     "output_type": "stream",
     "text": [
      "INFO:models.ensemble_models:Training LightGBM on 135 samples...\n"
     ]
    },
    {
     "name": "stderr",
     "output_type": "stream",
     "text": [
      "INFO:models.ensemble_models:Training completed in 0.00 seconds\n"
     ]
    },
    {
     "name": "stderr",
     "output_type": "stream",
     "text": [
      "[I 2025-08-16 00:00:05,233] Trial 8 finished with value: 0.5 and parameters: {'num_leaves': 293, 'learning_rate': 0.29434261738379885, 'n_estimators': 275, 'subsample': 0.6198024672739961, 'colsample_bytree': 0.9919786931329758, 'reg_alpha': 7.482401152173582, 'reg_lambda': 7.091927156293661, 'min_child_samples': 77}. Best is trial 1 with value: 1.0.\n"
     ]
    },
    {
     "name": "stderr",
     "output_type": "stream",
     "text": [
      "INFO:models.ensemble_models:Initialized LightGBM with parameters: {'objective': 'binary', 'metric': 'auc', 'boosting_type': 'gbdt', 'num_leaves': 273, 'learning_rate': 0.017973912343856792, 'n_estimators': 107, 'subsample': 0.707867101320588, 'colsample_bytree': 0.6399030238144277, 'random_state': 42, 'early_stopping_rounds': 10, 'verbose': -1, 'reg_alpha': 3.163994141896999, 'reg_lambda': 5.824987976483364, 'min_child_samples': 67}\n"
     ]
    },
    {
     "name": "stderr",
     "output_type": "stream",
     "text": [
      "INFO:models.ensemble_models:Training LightGBM on 135 samples...\n"
     ]
    },
    {
     "name": "stderr",
     "output_type": "stream",
     "text": [
      "INFO:models.ensemble_models:Training completed in 0.00 seconds\n"
     ]
    },
    {
     "name": "stderr",
     "output_type": "stream",
     "text": [
      "[I 2025-08-16 00:00:05,238] Trial 9 finished with value: 0.6646825396825397 and parameters: {'num_leaves': 273, 'learning_rate': 0.017973912343856792, 'n_estimators': 107, 'subsample': 0.707867101320588, 'colsample_bytree': 0.6399030238144277, 'reg_alpha': 3.163994141896999, 'reg_lambda': 5.824987976483364, 'min_child_samples': 67}. Best is trial 1 with value: 1.0.\n"
     ]
    },
    {
     "name": "stderr",
     "output_type": "stream",
     "text": [
      "INFO:models.ensemble_models:Initialized LightGBM with parameters: {'objective': 'binary', 'metric': 'auc', 'boosting_type': 'gbdt', 'num_leaves': 109, 'learning_rate': 0.13071126360178456, 'n_estimators': 291, 'subsample': 0.7249376898241849, 'colsample_bytree': 0.8844298802408799, 'random_state': 42, 'early_stopping_rounds': 10, 'verbose': -1, 'reg_alpha': 0.7151091740510839, 'reg_lambda': 0.30527080620862934, 'min_child_samples': 29}\n"
     ]
    },
    {
     "name": "stderr",
     "output_type": "stream",
     "text": [
      "INFO:models.ensemble_models:Training LightGBM on 135 samples...\n"
     ]
    },
    {
     "name": "stderr",
     "output_type": "stream",
     "text": [
      "INFO:models.ensemble_models:Training completed in 0.00 seconds\n"
     ]
    },
    {
     "name": "stderr",
     "output_type": "stream",
     "text": [
      "[I 2025-08-16 00:00:05,254] Trial 10 finished with value: 1.0 and parameters: {'num_leaves': 109, 'learning_rate': 0.13071126360178456, 'n_estimators': 291, 'subsample': 0.7249376898241849, 'colsample_bytree': 0.8844298802408799, 'reg_alpha': 0.7151091740510839, 'reg_lambda': 0.30527080620862934, 'min_child_samples': 29}. Best is trial 1 with value: 1.0.\n"
     ]
    },
    {
     "name": "stderr",
     "output_type": "stream",
     "text": [
      "INFO:models.ensemble_models:Initialized LightGBM with parameters: {'objective': 'binary', 'metric': 'auc', 'boosting_type': 'gbdt', 'num_leaves': 65, 'learning_rate': 0.07733250580757475, 'n_estimators': 222, 'subsample': 0.9799286699793595, 'colsample_bytree': 0.8587305411606546, 'random_state': 42, 'early_stopping_rounds': 10, 'verbose': -1, 'reg_alpha': 0.4410437528504293, 'reg_lambda': 0.6293149182465045, 'min_child_samples': 16}\n"
     ]
    },
    {
     "name": "stderr",
     "output_type": "stream",
     "text": [
      "INFO:models.ensemble_models:Training LightGBM on 135 samples...\n"
     ]
    },
    {
     "name": "stderr",
     "output_type": "stream",
     "text": [
      "INFO:models.ensemble_models:Training completed in 0.00 seconds\n"
     ]
    },
    {
     "name": "stderr",
     "output_type": "stream",
     "text": [
      "[I 2025-08-16 00:00:05,271] Trial 11 finished with value: 1.0 and parameters: {'num_leaves': 65, 'learning_rate': 0.07733250580757475, 'n_estimators': 222, 'subsample': 0.9799286699793595, 'colsample_bytree': 0.8587305411606546, 'reg_alpha': 0.4410437528504293, 'reg_lambda': 0.6293149182465045, 'min_child_samples': 16}. Best is trial 1 with value: 1.0.\n"
     ]
    },
    {
     "name": "stderr",
     "output_type": "stream",
     "text": [
      "INFO:models.ensemble_models:Initialized LightGBM with parameters: {'objective': 'binary', 'metric': 'auc', 'boosting_type': 'gbdt', 'num_leaves': 209, 'learning_rate': 0.04586923912517821, 'n_estimators': 145, 'subsample': 0.9028931877439939, 'colsample_bytree': 0.8091589971701754, 'random_state': 42, 'early_stopping_rounds': 10, 'verbose': -1, 'reg_alpha': 9.817042824612404, 'reg_lambda': 2.370139875912268, 'min_child_samples': 28}\n"
     ]
    },
    {
     "name": "stderr",
     "output_type": "stream",
     "text": [
      "INFO:models.ensemble_models:Training LightGBM on 135 samples...\n"
     ]
    },
    {
     "name": "stderr",
     "output_type": "stream",
     "text": [
      "INFO:models.ensemble_models:Training completed in 0.00 seconds\n"
     ]
    },
    {
     "name": "stderr",
     "output_type": "stream",
     "text": [
      "[I 2025-08-16 00:00:05,288] Trial 12 finished with value: 1.0 and parameters: {'num_leaves': 209, 'learning_rate': 0.04586923912517821, 'n_estimators': 145, 'subsample': 0.9028931877439939, 'colsample_bytree': 0.8091589971701754, 'reg_alpha': 9.817042824612404, 'reg_lambda': 2.370139875912268, 'min_child_samples': 28}. Best is trial 1 with value: 1.0.\n"
     ]
    },
    {
     "name": "stderr",
     "output_type": "stream",
     "text": [
      "INFO:models.ensemble_models:Initialized LightGBM with parameters: {'objective': 'binary', 'metric': 'auc', 'boosting_type': 'gbdt', 'num_leaves': 103, 'learning_rate': 0.22629494103841846, 'n_estimators': 242, 'subsample': 0.7462203780728809, 'colsample_bytree': 0.895076911691997, 'random_state': 42, 'early_stopping_rounds': 10, 'verbose': -1, 'reg_alpha': 5.819067787967303, 'reg_lambda': 4.358650825448142, 'min_child_samples': 27}\n"
     ]
    },
    {
     "name": "stderr",
     "output_type": "stream",
     "text": [
      "INFO:models.ensemble_models:Training LightGBM on 135 samples...\n"
     ]
    },
    {
     "name": "stderr",
     "output_type": "stream",
     "text": [
      "INFO:models.ensemble_models:Training completed in 0.00 seconds\n"
     ]
    },
    {
     "name": "stderr",
     "output_type": "stream",
     "text": [
      "[I 2025-08-16 00:00:05,305] Trial 13 finished with value: 1.0 and parameters: {'num_leaves': 103, 'learning_rate': 0.22629494103841846, 'n_estimators': 242, 'subsample': 0.7462203780728809, 'colsample_bytree': 0.895076911691997, 'reg_alpha': 5.819067787967303, 'reg_lambda': 4.358650825448142, 'min_child_samples': 27}. Best is trial 1 with value: 1.0.\n"
     ]
    },
    {
     "name": "stderr",
     "output_type": "stream",
     "text": [
      "INFO:models.ensemble_models:Initialized LightGBM with parameters: {'objective': 'binary', 'metric': 'auc', 'boosting_type': 'gbdt', 'num_leaves': 64, 'learning_rate': 0.0877968836483557, 'n_estimators': 174, 'subsample': 0.8944279712879425, 'colsample_bytree': 0.7912262014080752, 'random_state': 42, 'early_stopping_rounds': 10, 'verbose': -1, 'reg_alpha': 2.0769117014213156, 'reg_lambda': 1.6661856241951236, 'min_child_samples': 40}\n"
     ]
    },
    {
     "name": "stderr",
     "output_type": "stream",
     "text": [
      "INFO:models.ensemble_models:Training LightGBM on 135 samples...\n"
     ]
    },
    {
     "name": "stderr",
     "output_type": "stream",
     "text": [
      "INFO:models.ensemble_models:Training completed in 0.00 seconds\n"
     ]
    },
    {
     "name": "stderr",
     "output_type": "stream",
     "text": [
      "[I 2025-08-16 00:00:05,321] Trial 14 finished with value: 0.998015873015873 and parameters: {'num_leaves': 64, 'learning_rate': 0.0877968836483557, 'n_estimators': 174, 'subsample': 0.8944279712879425, 'colsample_bytree': 0.7912262014080752, 'reg_alpha': 2.0769117014213156, 'reg_lambda': 1.6661856241951236, 'min_child_samples': 40}. Best is trial 1 with value: 1.0.\n"
     ]
    },
    {
     "name": "stderr",
     "output_type": "stream",
     "text": [
      "INFO:models.ensemble_models:Initialized LightGBM with parameters: {'objective': 'binary', 'metric': 'auc', 'boosting_type': 'gbdt', 'num_leaves': 226, 'learning_rate': 0.15004133786920507, 'n_estimators': 103, 'subsample': 0.7663616166441225, 'colsample_bytree': 0.9269220433227785, 'random_state': 42, 'early_stopping_rounds': 10, 'verbose': -1, 'reg_alpha': 1.5963256357037396, 'reg_lambda': 2.56433566109827, 'min_child_samples': 5}\n"
     ]
    },
    {
     "name": "stderr",
     "output_type": "stream",
     "text": [
      "INFO:models.ensemble_models:Training LightGBM on 135 samples...\n"
     ]
    },
    {
     "name": "stderr",
     "output_type": "stream",
     "text": [
      "INFO:models.ensemble_models:Training completed in 0.00 seconds\n"
     ]
    },
    {
     "name": "stderr",
     "output_type": "stream",
     "text": [
      "[I 2025-08-16 00:00:05,337] Trial 15 finished with value: 1.0 and parameters: {'num_leaves': 226, 'learning_rate': 0.15004133786920507, 'n_estimators': 103, 'subsample': 0.7663616166441225, 'colsample_bytree': 0.9269220433227785, 'reg_alpha': 1.5963256357037396, 'reg_lambda': 2.56433566109827, 'min_child_samples': 5}. Best is trial 1 with value: 1.0.\n"
     ]
    },
    {
     "name": "stderr",
     "output_type": "stream",
     "text": [
      "INFO:models.ensemble_models:Initialized LightGBM with parameters: {'objective': 'binary', 'metric': 'auc', 'boosting_type': 'gbdt', 'num_leaves': 149, 'learning_rate': 0.03796751490185947, 'n_estimators': 252, 'subsample': 0.868148035923855, 'colsample_bytree': 0.8334156398724418, 'random_state': 42, 'early_stopping_rounds': 10, 'verbose': -1, 'reg_alpha': 5.756256458244689, 'reg_lambda': 4.696571941858611, 'min_child_samples': 20}\n"
     ]
    },
    {
     "name": "stderr",
     "output_type": "stream",
     "text": [
      "INFO:models.ensemble_models:Training LightGBM on 135 samples...\n"
     ]
    },
    {
     "name": "stdout",
     "output_type": "stream",
     "text": [
      "Running hyperparameter optimization for LightGBM...\n",
      "(This may take several minutes)\n"
     ]
    },
    {
     "name": "stderr",
     "output_type": "stream",
     "text": [
      "INFO:models.ensemble_models:Training completed in 0.00 seconds\n"
     ]
    },
    {
     "name": "stderr",
     "output_type": "stream",
     "text": [
      "[I 2025-08-16 00:00:05,354] Trial 16 finished with value: 1.0 and parameters: {'num_leaves': 149, 'learning_rate': 0.03796751490185947, 'n_estimators': 252, 'subsample': 0.868148035923855, 'colsample_bytree': 0.8334156398724418, 'reg_alpha': 5.756256458244689, 'reg_lambda': 4.696571941858611, 'min_child_samples': 20}. Best is trial 1 with value: 1.0.\n"
     ]
    },
    {
     "name": "stderr",
     "output_type": "stream",
     "text": [
      "INFO:models.ensemble_models:Initialized LightGBM with parameters: {'objective': 'binary', 'metric': 'auc', 'boosting_type': 'gbdt', 'num_leaves': 68, 'learning_rate': 0.010291529245736657, 'n_estimators': 189, 'subsample': 0.9422905684262824, 'colsample_bytree': 0.7515259293718686, 'random_state': 42, 'early_stopping_rounds': 10, 'verbose': -1, 'reg_alpha': 3.7803071826414247, 'reg_lambda': 9.85562278496705, 'min_child_samples': 55}\n"
     ]
    },
    {
     "name": "stderr",
     "output_type": "stream",
     "text": [
      "INFO:models.ensemble_models:Training LightGBM on 135 samples...\n"
     ]
    },
    {
     "name": "stderr",
     "output_type": "stream",
     "text": [
      "INFO:models.ensemble_models:Training completed in 0.00 seconds\n"
     ]
    },
    {
     "name": "stderr",
     "output_type": "stream",
     "text": [
      "[I 2025-08-16 00:00:05,370] Trial 17 finished with value: 0.9940476190476191 and parameters: {'num_leaves': 68, 'learning_rate': 0.010291529245736657, 'n_estimators': 189, 'subsample': 0.9422905684262824, 'colsample_bytree': 0.7515259293718686, 'reg_alpha': 3.7803071826414247, 'reg_lambda': 9.85562278496705, 'min_child_samples': 55}. Best is trial 1 with value: 1.0.\n"
     ]
    },
    {
     "name": "stderr",
     "output_type": "stream",
     "text": [
      "INFO:models.ensemble_models:Initialized LightGBM with parameters: {'objective': 'binary', 'metric': 'auc', 'boosting_type': 'gbdt', 'num_leaves': 155, 'learning_rate': 0.07441544954100451, 'n_estimators': 142, 'subsample': 0.7779594030426498, 'colsample_bytree': 0.9172642965591705, 'random_state': 42, 'early_stopping_rounds': 10, 'verbose': -1, 'reg_alpha': 2.3479309902256684, 'reg_lambda': 0.07885246588686834, 'min_child_samples': 38}\n"
     ]
    },
    {
     "name": "stderr",
     "output_type": "stream",
     "text": [
      "INFO:models.ensemble_models:Training LightGBM on 135 samples...\n"
     ]
    },
    {
     "name": "stderr",
     "output_type": "stream",
     "text": [
      "INFO:models.ensemble_models:Training completed in 0.00 seconds\n"
     ]
    },
    {
     "name": "stderr",
     "output_type": "stream",
     "text": [
      "[I 2025-08-16 00:00:05,387] Trial 18 finished with value: 1.0 and parameters: {'num_leaves': 155, 'learning_rate': 0.07441544954100451, 'n_estimators': 142, 'subsample': 0.7779594030426498, 'colsample_bytree': 0.9172642965591705, 'reg_alpha': 2.3479309902256684, 'reg_lambda': 0.07885246588686834, 'min_child_samples': 38}. Best is trial 1 with value: 1.0.\n"
     ]
    },
    {
     "name": "stderr",
     "output_type": "stream",
     "text": [
      "INFO:models.ensemble_models:Initialized LightGBM with parameters: {'objective': 'binary', 'metric': 'auc', 'boosting_type': 'gbdt', 'num_leaves': 241, 'learning_rate': 0.10646836383945507, 'n_estimators': 223, 'subsample': 0.6768861797600041, 'colsample_bytree': 0.8513873435874991, 'random_state': 42, 'early_stopping_rounds': 10, 'verbose': -1, 'reg_alpha': 4.722259022976322, 'reg_lambda': 1.223342264521989, 'min_child_samples': 17}\n"
     ]
    },
    {
     "name": "stderr",
     "output_type": "stream",
     "text": [
      "INFO:models.ensemble_models:Training LightGBM on 135 samples...\n"
     ]
    },
    {
     "name": "stderr",
     "output_type": "stream",
     "text": [
      "INFO:models.ensemble_models:Training completed in 0.00 seconds\n"
     ]
    },
    {
     "name": "stderr",
     "output_type": "stream",
     "text": [
      "[I 2025-08-16 00:00:05,404] Trial 19 finished with value: 1.0 and parameters: {'num_leaves': 241, 'learning_rate': 0.10646836383945507, 'n_estimators': 223, 'subsample': 0.6768861797600041, 'colsample_bytree': 0.8513873435874991, 'reg_alpha': 4.722259022976322, 'reg_lambda': 1.223342264521989, 'min_child_samples': 17}. Best is trial 1 with value: 1.0.\n"
     ]
    },
    {
     "name": "stderr",
     "output_type": "stream",
     "text": [
      "INFO:models.ensemble_models:Initialized LightGBM with parameters: {'objective': 'binary', 'metric': 'auc', 'boosting_type': 'gbdt', 'num_leaves': 135, 'learning_rate': 0.20100025497852037, 'n_estimators': 82, 'subsample': 0.8549633410975118, 'colsample_bytree': 0.7823004227278649, 'random_state': 42, 'early_stopping_rounds': 10, 'verbose': -1, 'reg_alpha': 6.787942456986809, 'reg_lambda': 2.9079010355810055, 'min_child_samples': 32}\n"
     ]
    },
    {
     "name": "stderr",
     "output_type": "stream",
     "text": [
      "INFO:models.ensemble_models:Training LightGBM on 135 samples...\n"
     ]
    },
    {
     "name": "stderr",
     "output_type": "stream",
     "text": [
      "INFO:models.ensemble_models:Training completed in 0.00 seconds\n"
     ]
    },
    {
     "name": "stderr",
     "output_type": "stream",
     "text": [
      "[I 2025-08-16 00:00:05,421] Trial 20 finished with value: 1.0 and parameters: {'num_leaves': 135, 'learning_rate': 0.20100025497852037, 'n_estimators': 82, 'subsample': 0.8549633410975118, 'colsample_bytree': 0.7823004227278649, 'reg_alpha': 6.787942456986809, 'reg_lambda': 2.9079010355810055, 'min_child_samples': 32}. Best is trial 1 with value: 1.0.\n"
     ]
    },
    {
     "name": "stderr",
     "output_type": "stream",
     "text": [
      "INFO:models.ensemble_models:Initialized LightGBM with parameters: {'objective': 'binary', 'metric': 'auc', 'boosting_type': 'gbdt', 'num_leaves': 105, 'learning_rate': 0.03458007970721917, 'n_estimators': 83, 'subsample': 0.7994477813111865, 'colsample_bytree': 0.9500895324857035, 'random_state': 42, 'early_stopping_rounds': 10, 'verbose': -1, 'reg_alpha': 2.8660469863016784, 'reg_lambda': 5.720885411332886, 'min_child_samples': 5}\n"
     ]
    },
    {
     "name": "stderr",
     "output_type": "stream",
     "text": [
      "INFO:models.ensemble_models:Training LightGBM on 135 samples...\n"
     ]
    },
    {
     "name": "stderr",
     "output_type": "stream",
     "text": [
      "INFO:models.ensemble_models:Training completed in 0.00 seconds\n"
     ]
    },
    {
     "name": "stderr",
     "output_type": "stream",
     "text": [
      "[I 2025-08-16 00:00:05,439] Trial 21 finished with value: 1.0 and parameters: {'num_leaves': 105, 'learning_rate': 0.03458007970721917, 'n_estimators': 83, 'subsample': 0.7994477813111865, 'colsample_bytree': 0.9500895324857035, 'reg_alpha': 2.8660469863016784, 'reg_lambda': 5.720885411332886, 'min_child_samples': 5}. Best is trial 1 with value: 1.0.\n"
     ]
    },
    {
     "name": "stderr",
     "output_type": "stream",
     "text": [
      "INFO:models.ensemble_models:Initialized LightGBM with parameters: {'objective': 'binary', 'metric': 'auc', 'boosting_type': 'gbdt', 'num_leaves': 177, 'learning_rate': 0.028620865776868606, 'n_estimators': 145, 'subsample': 0.8067388649444317, 'colsample_bytree': 0.9913310136541647, 'random_state': 42, 'early_stopping_rounds': 10, 'verbose': -1, 'reg_alpha': 1.233477761896383, 'reg_lambda': 7.2421041056614275, 'min_child_samples': 13}\n"
     ]
    },
    {
     "name": "stderr",
     "output_type": "stream",
     "text": [
      "INFO:models.ensemble_models:Training LightGBM on 135 samples...\n"
     ]
    },
    {
     "name": "stderr",
     "output_type": "stream",
     "text": [
      "INFO:models.ensemble_models:Training completed in 0.00 seconds\n"
     ]
    },
    {
     "name": "stderr",
     "output_type": "stream",
     "text": [
      "[I 2025-08-16 00:00:05,457] Trial 22 finished with value: 0.998015873015873 and parameters: {'num_leaves': 177, 'learning_rate': 0.028620865776868606, 'n_estimators': 145, 'subsample': 0.8067388649444317, 'colsample_bytree': 0.9913310136541647, 'reg_alpha': 1.233477761896383, 'reg_lambda': 7.2421041056614275, 'min_child_samples': 13}. Best is trial 1 with value: 1.0.\n"
     ]
    },
    {
     "name": "stderr",
     "output_type": "stream",
     "text": [
      "INFO:models.ensemble_models:Initialized LightGBM with parameters: {'objective': 'binary', 'metric': 'auc', 'boosting_type': 'gbdt', 'num_leaves': 123, 'learning_rate': 0.026221753390137697, 'n_estimators': 83, 'subsample': 0.9390673126381041, 'colsample_bytree': 0.9491818046894842, 'random_state': 42, 'early_stopping_rounds': 10, 'verbose': -1, 'reg_alpha': 3.5484385906204614, 'reg_lambda': 5.905113700130835, 'min_child_samples': 22}\n"
     ]
    },
    {
     "name": "stderr",
     "output_type": "stream",
     "text": [
      "INFO:models.ensemble_models:Training LightGBM on 135 samples...\n"
     ]
    },
    {
     "name": "stderr",
     "output_type": "stream",
     "text": [
      "INFO:models.ensemble_models:Training completed in 0.00 seconds\n"
     ]
    },
    {
     "name": "stderr",
     "output_type": "stream",
     "text": [
      "[I 2025-08-16 00:00:05,475] Trial 23 finished with value: 1.0 and parameters: {'num_leaves': 123, 'learning_rate': 0.026221753390137697, 'n_estimators': 83, 'subsample': 0.9390673126381041, 'colsample_bytree': 0.9491818046894842, 'reg_alpha': 3.5484385906204614, 'reg_lambda': 5.905113700130835, 'min_child_samples': 22}. Best is trial 1 with value: 1.0.\n"
     ]
    },
    {
     "name": "stderr",
     "output_type": "stream",
     "text": [
      "INFO:models.ensemble_models:Initialized LightGBM with parameters: {'objective': 'binary', 'metric': 'auc', 'boosting_type': 'gbdt', 'num_leaves': 86, 'learning_rate': 0.058064190721778416, 'n_estimators': 122, 'subsample': 0.8636436220717827, 'colsample_bytree': 0.8898123437320592, 'random_state': 42, 'early_stopping_rounds': 10, 'verbose': -1, 'reg_alpha': 2.0110313686300567, 'reg_lambda': 3.8388452860534334, 'min_child_samples': 8}\n"
     ]
    },
    {
     "name": "stderr",
     "output_type": "stream",
     "text": [
      "INFO:models.ensemble_models:Training LightGBM on 135 samples...\n"
     ]
    },
    {
     "name": "stderr",
     "output_type": "stream",
     "text": [
      "INFO:models.ensemble_models:Training completed in 0.00 seconds\n"
     ]
    },
    {
     "name": "stderr",
     "output_type": "stream",
     "text": [
      "[I 2025-08-16 00:00:05,493] Trial 24 finished with value: 1.0 and parameters: {'num_leaves': 86, 'learning_rate': 0.058064190721778416, 'n_estimators': 122, 'subsample': 0.8636436220717827, 'colsample_bytree': 0.8898123437320592, 'reg_alpha': 2.0110313686300567, 'reg_lambda': 3.8388452860534334, 'min_child_samples': 8}. Best is trial 1 with value: 1.0.\n"
     ]
    },
    {
     "name": "stderr",
     "output_type": "stream",
     "text": [
      "INFO:models.ensemble_models:Initialized LightGBM with parameters: {'objective': 'binary', 'metric': 'auc', 'boosting_type': 'gbdt', 'num_leaves': 36, 'learning_rate': 0.0640082459895815, 'n_estimators': 171, 'subsample': 0.940057379821277, 'colsample_bytree': 0.9266870024147309, 'random_state': 42, 'early_stopping_rounds': 10, 'verbose': -1, 'reg_alpha': 0.20390375118372872, 'reg_lambda': 8.246593456723014, 'min_child_samples': 54}\n"
     ]
    },
    {
     "name": "stderr",
     "output_type": "stream",
     "text": [
      "INFO:models.ensemble_models:Training LightGBM on 135 samples...\n"
     ]
    },
    {
     "name": "stderr",
     "output_type": "stream",
     "text": [
      "INFO:models.ensemble_models:Training completed in 0.00 seconds\n"
     ]
    },
    {
     "name": "stderr",
     "output_type": "stream",
     "text": [
      "[I 2025-08-16 00:00:05,510] Trial 25 finished with value: 0.9940476190476191 and parameters: {'num_leaves': 36, 'learning_rate': 0.0640082459895815, 'n_estimators': 171, 'subsample': 0.940057379821277, 'colsample_bytree': 0.9266870024147309, 'reg_alpha': 0.20390375118372872, 'reg_lambda': 8.246593456723014, 'min_child_samples': 54}. Best is trial 1 with value: 1.0.\n"
     ]
    },
    {
     "name": "stderr",
     "output_type": "stream",
     "text": [
      "INFO:models.ensemble_models:Initialized LightGBM with parameters: {'objective': 'binary', 'metric': 'auc', 'boosting_type': 'gbdt', 'num_leaves': 46, 'learning_rate': 0.097817496792497, 'n_estimators': 73, 'subsample': 0.7699037811762478, 'colsample_bytree': 0.8264921876642927, 'random_state': 42, 'early_stopping_rounds': 10, 'verbose': -1, 'reg_alpha': 4.515869176691849, 'reg_lambda': 2.038237124885219, 'min_child_samples': 13}\n"
     ]
    },
    {
     "name": "stderr",
     "output_type": "stream",
     "text": [
      "INFO:models.ensemble_models:Training LightGBM on 135 samples...\n"
     ]
    },
    {
     "name": "stderr",
     "output_type": "stream",
     "text": [
      "INFO:models.ensemble_models:Training completed in 0.00 seconds\n"
     ]
    },
    {
     "name": "stderr",
     "output_type": "stream",
     "text": [
      "[I 2025-08-16 00:00:05,528] Trial 26 finished with value: 1.0 and parameters: {'num_leaves': 46, 'learning_rate': 0.097817496792497, 'n_estimators': 73, 'subsample': 0.7699037811762478, 'colsample_bytree': 0.8264921876642927, 'reg_alpha': 4.515869176691849, 'reg_lambda': 2.038237124885219, 'min_child_samples': 13}. Best is trial 1 with value: 1.0.\n"
     ]
    },
    {
     "name": "stderr",
     "output_type": "stream",
     "text": [
      "INFO:models.ensemble_models:Initialized LightGBM with parameters: {'objective': 'binary', 'metric': 'auc', 'boosting_type': 'gbdt', 'num_leaves': 138, 'learning_rate': 0.027745666091664133, 'n_estimators': 97, 'subsample': 0.6873065050388538, 'colsample_bytree': 0.689834062149485, 'random_state': 42, 'early_stopping_rounds': 10, 'verbose': -1, 'reg_alpha': 2.8639878515450583, 'reg_lambda': 1.052464958695766, 'min_child_samples': 36}\n"
     ]
    },
    {
     "name": "stderr",
     "output_type": "stream",
     "text": [
      "INFO:models.ensemble_models:Training LightGBM on 135 samples...\n"
     ]
    },
    {
     "name": "stderr",
     "output_type": "stream",
     "text": [
      "INFO:models.ensemble_models:Training completed in 0.00 seconds\n"
     ]
    },
    {
     "name": "stderr",
     "output_type": "stream",
     "text": [
      "[I 2025-08-16 00:00:05,546] Trial 27 finished with value: 1.0 and parameters: {'num_leaves': 138, 'learning_rate': 0.027745666091664133, 'n_estimators': 97, 'subsample': 0.6873065050388538, 'colsample_bytree': 0.689834062149485, 'reg_alpha': 2.8639878515450583, 'reg_lambda': 1.052464958695766, 'min_child_samples': 36}. Best is trial 1 with value: 1.0.\n"
     ]
    },
    {
     "name": "stderr",
     "output_type": "stream",
     "text": [
      "INFO:models.ensemble_models:Initialized LightGBM with parameters: {'objective': 'binary', 'metric': 'auc', 'boosting_type': 'gbdt', 'num_leaves': 184, 'learning_rate': 0.03992277936135213, 'n_estimators': 161, 'subsample': 0.7431666251118118, 'colsample_bytree': 0.9689787967794339, 'random_state': 42, 'early_stopping_rounds': 10, 'verbose': -1, 'reg_alpha': 5.536837220394152, 'reg_lambda': 8.60027170803794, 'min_child_samples': 23}\n"
     ]
    },
    {
     "name": "stderr",
     "output_type": "stream",
     "text": [
      "INFO:models.ensemble_models:Training LightGBM on 135 samples...\n"
     ]
    },
    {
     "name": "stderr",
     "output_type": "stream",
     "text": [
      "INFO:models.ensemble_models:Training completed in 0.00 seconds\n"
     ]
    },
    {
     "name": "stderr",
     "output_type": "stream",
     "text": [
      "[I 2025-08-16 00:00:05,565] Trial 28 finished with value: 1.0 and parameters: {'num_leaves': 184, 'learning_rate': 0.03992277936135213, 'n_estimators': 161, 'subsample': 0.7431666251118118, 'colsample_bytree': 0.9689787967794339, 'reg_alpha': 5.536837220394152, 'reg_lambda': 8.60027170803794, 'min_child_samples': 23}. Best is trial 1 with value: 1.0.\n"
     ]
    },
    {
     "name": "stderr",
     "output_type": "stream",
     "text": [
      "INFO:models.ensemble_models:Initialized LightGBM with parameters: {'objective': 'binary', 'metric': 'auc', 'boosting_type': 'gbdt', 'num_leaves': 87, 'learning_rate': 0.014029600298257347, 'n_estimators': 210, 'subsample': 0.9984558523012369, 'colsample_bytree': 0.6865202772088286, 'random_state': 42, 'early_stopping_rounds': 10, 'verbose': -1, 'reg_alpha': 0.9138553106479161, 'reg_lambda': 3.6149752142635228, 'min_child_samples': 11}\n"
     ]
    },
    {
     "name": "stderr",
     "output_type": "stream",
     "text": [
      "INFO:models.ensemble_models:Training LightGBM on 135 samples...\n"
     ]
    },
    {
     "name": "stderr",
     "output_type": "stream",
     "text": [
      "INFO:models.ensemble_models:Training completed in 0.00 seconds\n"
     ]
    },
    {
     "name": "stderr",
     "output_type": "stream",
     "text": [
      "[I 2025-08-16 00:00:05,583] Trial 29 finished with value: 1.0 and parameters: {'num_leaves': 87, 'learning_rate': 0.014029600298257347, 'n_estimators': 210, 'subsample': 0.9984558523012369, 'colsample_bytree': 0.6865202772088286, 'reg_alpha': 0.9138553106479161, 'reg_lambda': 3.6149752142635228, 'min_child_samples': 11}. Best is trial 1 with value: 1.0.\n"
     ]
    },
    {
     "name": "stderr",
     "output_type": "stream",
     "text": [
      "INFO:models.ensemble_models:Initialized LightGBM with parameters: {'objective': 'binary', 'metric': 'auc', 'boosting_type': 'gbdt', 'num_leaves': 173, 'learning_rate': 0.26646968106322577, 'n_estimators': 129, 'subsample': 0.8341731027858714, 'colsample_bytree': 0.9981846205562646, 'random_state': 42, 'early_stopping_rounds': 10, 'verbose': -1, 'reg_alpha': 4.118492225791405, 'reg_lambda': 4.922901144702394, 'min_child_samples': 48}\n"
     ]
    },
    {
     "name": "stderr",
     "output_type": "stream",
     "text": [
      "INFO:models.ensemble_models:Training LightGBM on 135 samples...\n"
     ]
    },
    {
     "name": "stderr",
     "output_type": "stream",
     "text": [
      "INFO:models.ensemble_models:Training completed in 0.00 seconds\n"
     ]
    },
    {
     "name": "stderr",
     "output_type": "stream",
     "text": [
      "[I 2025-08-16 00:00:05,602] Trial 30 finished with value: 0.998015873015873 and parameters: {'num_leaves': 173, 'learning_rate': 0.26646968106322577, 'n_estimators': 129, 'subsample': 0.8341731027858714, 'colsample_bytree': 0.9981846205562646, 'reg_alpha': 4.118492225791405, 'reg_lambda': 4.922901144702394, 'min_child_samples': 48}. Best is trial 1 with value: 1.0.\n"
     ]
    },
    {
     "name": "stderr",
     "output_type": "stream",
     "text": [
      "INFO:models.ensemble_models:Initialized LightGBM with parameters: {'objective': 'binary', 'metric': 'auc', 'boosting_type': 'gbdt', 'num_leaves': 121, 'learning_rate': 0.16928036486938328, 'n_estimators': 289, 'subsample': 0.7285325063595702, 'colsample_bytree': 0.8823256826218497, 'random_state': 42, 'early_stopping_rounds': 10, 'verbose': -1, 'reg_alpha': 0.8461240627510953, 'reg_lambda': 0.6429336986080024, 'min_child_samples': 30}\n"
     ]
    },
    {
     "name": "stderr",
     "output_type": "stream",
     "text": [
      "INFO:models.ensemble_models:Training LightGBM on 135 samples...\n"
     ]
    },
    {
     "name": "stderr",
     "output_type": "stream",
     "text": [
      "INFO:models.ensemble_models:Training completed in 0.00 seconds\n"
     ]
    },
    {
     "name": "stderr",
     "output_type": "stream",
     "text": [
      "[I 2025-08-16 00:00:05,620] Trial 31 finished with value: 1.0 and parameters: {'num_leaves': 121, 'learning_rate': 0.16928036486938328, 'n_estimators': 289, 'subsample': 0.7285325063595702, 'colsample_bytree': 0.8823256826218497, 'reg_alpha': 0.8461240627510953, 'reg_lambda': 0.6429336986080024, 'min_child_samples': 30}. Best is trial 1 with value: 1.0.\n"
     ]
    },
    {
     "name": "stderr",
     "output_type": "stream",
     "text": [
      "INFO:models.ensemble_models:Initialized LightGBM with parameters: {'objective': 'binary', 'metric': 'auc', 'boosting_type': 'gbdt', 'num_leaves': 106, 'learning_rate': 0.12390519482275687, 'n_estimators': 293, 'subsample': 0.6196885258465004, 'colsample_bytree': 0.8625323995053488, 'random_state': 42, 'early_stopping_rounds': 10, 'verbose': -1, 'reg_alpha': 1.519484500747562, 'reg_lambda': 0.12221595456797574, 'min_child_samples': 23}\n"
     ]
    },
    {
     "name": "stderr",
     "output_type": "stream",
     "text": [
      "INFO:models.ensemble_models:Training LightGBM on 135 samples...\n"
     ]
    },
    {
     "name": "stderr",
     "output_type": "stream",
     "text": [
      "INFO:models.ensemble_models:Training completed in 0.00 seconds\n"
     ]
    },
    {
     "name": "stderr",
     "output_type": "stream",
     "text": [
      "[I 2025-08-16 00:00:05,638] Trial 32 finished with value: 1.0 and parameters: {'num_leaves': 106, 'learning_rate': 0.12390519482275687, 'n_estimators': 293, 'subsample': 0.6196885258465004, 'colsample_bytree': 0.8625323995053488, 'reg_alpha': 1.519484500747562, 'reg_lambda': 0.12221595456797574, 'min_child_samples': 23}. Best is trial 1 with value: 1.0.\n"
     ]
    },
    {
     "name": "stderr",
     "output_type": "stream",
     "text": [
      "INFO:models.ensemble_models:Initialized LightGBM with parameters: {'objective': 'binary', 'metric': 'auc', 'boosting_type': 'gbdt', 'num_leaves': 85, 'learning_rate': 0.12265192847616026, 'n_estimators': 267, 'subsample': 0.7145316731305237, 'colsample_bytree': 0.9045061355084864, 'random_state': 42, 'early_stopping_rounds': 10, 'verbose': -1, 'reg_alpha': 2.483845300940209, 'reg_lambda': 0.9446720892058262, 'min_child_samples': 34}\n"
     ]
    },
    {
     "name": "stderr",
     "output_type": "stream",
     "text": [
      "INFO:models.ensemble_models:Training LightGBM on 135 samples...\n"
     ]
    },
    {
     "name": "stderr",
     "output_type": "stream",
     "text": [
      "INFO:models.ensemble_models:Training completed in 0.00 seconds\n"
     ]
    },
    {
     "name": "stderr",
     "output_type": "stream",
     "text": [
      "[I 2025-08-16 00:00:05,657] Trial 33 finished with value: 1.0 and parameters: {'num_leaves': 85, 'learning_rate': 0.12265192847616026, 'n_estimators': 267, 'subsample': 0.7145316731305237, 'colsample_bytree': 0.9045061355084864, 'reg_alpha': 2.483845300940209, 'reg_lambda': 0.9446720892058262, 'min_child_samples': 34}. Best is trial 1 with value: 1.0.\n"
     ]
    },
    {
     "name": "stderr",
     "output_type": "stream",
     "text": [
      "INFO:models.ensemble_models:Initialized LightGBM with parameters: {'objective': 'binary', 'metric': 'auc', 'boosting_type': 'gbdt', 'num_leaves': 46, 'learning_rate': 0.17983613338275867, 'n_estimators': 253, 'subsample': 0.8077980942234807, 'colsample_bytree': 0.9567478948363347, 'random_state': 42, 'early_stopping_rounds': 10, 'verbose': -1, 'reg_alpha': 0.009248320171628022, 'reg_lambda': 1.7968887543069447, 'min_child_samples': 45}\n"
     ]
    },
    {
     "name": "stderr",
     "output_type": "stream",
     "text": [
      "INFO:models.ensemble_models:Training LightGBM on 135 samples...\n"
     ]
    },
    {
     "name": "stderr",
     "output_type": "stream",
     "text": [
      "INFO:models.ensemble_models:Training completed in 0.00 seconds\n"
     ]
    },
    {
     "name": "stderr",
     "output_type": "stream",
     "text": [
      "[I 2025-08-16 00:00:05,675] Trial 34 finished with value: 0.998015873015873 and parameters: {'num_leaves': 46, 'learning_rate': 0.17983613338275867, 'n_estimators': 253, 'subsample': 0.8077980942234807, 'colsample_bytree': 0.9567478948363347, 'reg_alpha': 0.009248320171628022, 'reg_lambda': 1.7968887543069447, 'min_child_samples': 45}. Best is trial 1 with value: 1.0.\n"
     ]
    },
    {
     "name": "stderr",
     "output_type": "stream",
     "text": [
      "INFO:models.ensemble_models:Initialized LightGBM with parameters: {'objective': 'binary', 'metric': 'auc', 'boosting_type': 'gbdt', 'num_leaves': 201, 'learning_rate': 0.14140399466864675, 'n_estimators': 280, 'subsample': 0.8258716834889308, 'colsample_bytree': 0.9306045321749533, 'random_state': 42, 'early_stopping_rounds': 10, 'verbose': -1, 'reg_alpha': 6.747420645169082, 'reg_lambda': 7.92019849198966e-05, 'min_child_samples': 18}\n"
     ]
    },
    {
     "name": "stderr",
     "output_type": "stream",
     "text": [
      "INFO:models.ensemble_models:Training LightGBM on 135 samples...\n"
     ]
    },
    {
     "name": "stderr",
     "output_type": "stream",
     "text": [
      "INFO:models.ensemble_models:Training completed in 0.00 seconds\n"
     ]
    },
    {
     "name": "stderr",
     "output_type": "stream",
     "text": [
      "[I 2025-08-16 00:00:05,694] Trial 35 finished with value: 1.0 and parameters: {'num_leaves': 201, 'learning_rate': 0.14140399466864675, 'n_estimators': 280, 'subsample': 0.8258716834889308, 'colsample_bytree': 0.9306045321749533, 'reg_alpha': 6.747420645169082, 'reg_lambda': 7.92019849198966e-05, 'min_child_samples': 18}. Best is trial 1 with value: 1.0.\n"
     ]
    },
    {
     "name": "stderr",
     "output_type": "stream",
     "text": [
      "INFO:models.ensemble_models:Initialized LightGBM with parameters: {'objective': 'binary', 'metric': 'auc', 'boosting_type': 'gbdt', 'num_leaves': 19, 'learning_rate': 0.22944574866542403, 'n_estimators': 50, 'subsample': 0.6385574845590621, 'colsample_bytree': 0.7625165152049315, 'random_state': 42, 'early_stopping_rounds': 10, 'verbose': -1, 'reg_alpha': 7.933573344934823, 'reg_lambda': 6.421796624533754, 'min_child_samples': 96}\n"
     ]
    },
    {
     "name": "stderr",
     "output_type": "stream",
     "text": [
      "INFO:models.ensemble_models:Training LightGBM on 135 samples...\n"
     ]
    },
    {
     "name": "stderr",
     "output_type": "stream",
     "text": [
      "INFO:models.ensemble_models:Training completed in 0.00 seconds\n"
     ]
    },
    {
     "name": "stderr",
     "output_type": "stream",
     "text": [
      "[I 2025-08-16 00:00:05,710] Trial 36 finished with value: 0.5 and parameters: {'num_leaves': 19, 'learning_rate': 0.22944574866542403, 'n_estimators': 50, 'subsample': 0.6385574845590621, 'colsample_bytree': 0.7625165152049315, 'reg_alpha': 7.933573344934823, 'reg_lambda': 6.421796624533754, 'min_child_samples': 96}. Best is trial 1 with value: 1.0.\n"
     ]
    },
    {
     "name": "stderr",
     "output_type": "stream",
     "text": [
      "INFO:models.ensemble_models:Initialized LightGBM with parameters: {'objective': 'binary', 'metric': 'auc', 'boosting_type': 'gbdt', 'num_leaves': 120, 'learning_rate': 0.021858878481153286, 'n_estimators': 260, 'subsample': 0.653982174230507, 'colsample_bytree': 0.7208930673042335, 'random_state': 42, 'early_stopping_rounds': 10, 'verbose': -1, 'reg_alpha': 5.177341123418102, 'reg_lambda': 7.855488169989158, 'min_child_samples': 26}\n"
     ]
    },
    {
     "name": "stderr",
     "output_type": "stream",
     "text": [
      "INFO:models.ensemble_models:Training LightGBM on 135 samples...\n"
     ]
    },
    {
     "name": "stderr",
     "output_type": "stream",
     "text": [
      "INFO:models.ensemble_models:Training completed in 0.00 seconds\n"
     ]
    },
    {
     "name": "stderr",
     "output_type": "stream",
     "text": [
      "[I 2025-08-16 00:00:05,728] Trial 37 finished with value: 1.0 and parameters: {'num_leaves': 120, 'learning_rate': 0.021858878481153286, 'n_estimators': 260, 'subsample': 0.653982174230507, 'colsample_bytree': 0.7208930673042335, 'reg_alpha': 5.177341123418102, 'reg_lambda': 7.855488169989158, 'min_child_samples': 26}. Best is trial 1 with value: 1.0.\n"
     ]
    },
    {
     "name": "stderr",
     "output_type": "stream",
     "text": [
      "INFO:models.ensemble_models:Initialized LightGBM with parameters: {'objective': 'binary', 'metric': 'auc', 'boosting_type': 'gbdt', 'num_leaves': 163, 'learning_rate': 0.06958841316624421, 'n_estimators': 299, 'subsample': 0.6915897998633754, 'colsample_bytree': 0.9719567068318054, 'random_state': 42, 'early_stopping_rounds': 10, 'verbose': -1, 'reg_alpha': 0.7861590228510112, 'reg_lambda': 3.4107345923624255, 'min_child_samples': 11}\n"
     ]
    },
    {
     "name": "stderr",
     "output_type": "stream",
     "text": [
      "INFO:models.ensemble_models:Training LightGBM on 135 samples...\n"
     ]
    },
    {
     "name": "stderr",
     "output_type": "stream",
     "text": [
      "INFO:models.ensemble_models:Training completed in 0.00 seconds\n"
     ]
    },
    {
     "name": "stderr",
     "output_type": "stream",
     "text": [
      "[I 2025-08-16 00:00:05,747] Trial 38 finished with value: 1.0 and parameters: {'num_leaves': 163, 'learning_rate': 0.06958841316624421, 'n_estimators': 299, 'subsample': 0.6915897998633754, 'colsample_bytree': 0.9719567068318054, 'reg_alpha': 0.7861590228510112, 'reg_lambda': 3.4107345923624255, 'min_child_samples': 11}. Best is trial 1 with value: 1.0.\n"
     ]
    },
    {
     "name": "stderr",
     "output_type": "stream",
     "text": [
      "INFO:models.ensemble_models:Initialized LightGBM with parameters: {'objective': 'binary', 'metric': 'auc', 'boosting_type': 'gbdt', 'num_leaves': 139, 'learning_rate': 0.016018846468982138, 'n_estimators': 72, 'subsample': 0.7507050589440993, 'colsample_bytree': 0.8746898328628786, 'random_state': 42, 'early_stopping_rounds': 10, 'verbose': -1, 'reg_alpha': 6.289825170014078, 'reg_lambda': 2.7219836522213763, 'min_child_samples': 89}\n"
     ]
    },
    {
     "name": "stderr",
     "output_type": "stream",
     "text": [
      "INFO:models.ensemble_models:Training LightGBM on 135 samples...\n"
     ]
    },
    {
     "name": "stderr",
     "output_type": "stream",
     "text": [
      "INFO:models.ensemble_models:Training completed in 0.00 seconds\n"
     ]
    },
    {
     "name": "stderr",
     "output_type": "stream",
     "text": [
      "[I 2025-08-16 00:00:05,764] Trial 39 finished with value: 0.5 and parameters: {'num_leaves': 139, 'learning_rate': 0.016018846468982138, 'n_estimators': 72, 'subsample': 0.7507050589440993, 'colsample_bytree': 0.8746898328628786, 'reg_alpha': 6.289825170014078, 'reg_lambda': 2.7219836522213763, 'min_child_samples': 89}. Best is trial 1 with value: 1.0.\n"
     ]
    },
    {
     "name": "stderr",
     "output_type": "stream",
     "text": [
      "INFO:models.ensemble_models:Initialized LightGBM with parameters: {'objective': 'binary', 'metric': 'auc', 'boosting_type': 'gbdt', 'num_leaves': 73, 'learning_rate': 0.04871977550477269, 'n_estimators': 223, 'subsample': 0.7886671620793091, 'colsample_bytree': 0.8297025339187366, 'random_state': 42, 'early_stopping_rounds': 10, 'verbose': -1, 'reg_alpha': 8.988112775574173, 'reg_lambda': 1.19648920382637, 'min_child_samples': 42}\n"
     ]
    },
    {
     "name": "stderr",
     "output_type": "stream",
     "text": [
      "INFO:models.ensemble_models:Training LightGBM on 135 samples...\n"
     ]
    },
    {
     "name": "stderr",
     "output_type": "stream",
     "text": [
      "INFO:models.ensemble_models:Training completed in 0.00 seconds\n"
     ]
    },
    {
     "name": "stderr",
     "output_type": "stream",
     "text": [
      "[I 2025-08-16 00:00:05,783] Trial 40 finished with value: 0.998015873015873 and parameters: {'num_leaves': 73, 'learning_rate': 0.04871977550477269, 'n_estimators': 223, 'subsample': 0.7886671620793091, 'colsample_bytree': 0.8297025339187366, 'reg_alpha': 8.988112775574173, 'reg_lambda': 1.19648920382637, 'min_child_samples': 42}. Best is trial 1 with value: 1.0.\n"
     ]
    },
    {
     "name": "stderr",
     "output_type": "stream",
     "text": [
      "INFO:models.ensemble_models:Initialized LightGBM with parameters: {'objective': 'binary', 'metric': 'auc', 'boosting_type': 'gbdt', 'num_leaves': 45, 'learning_rate': 0.08168214452958134, 'n_estimators': 197, 'subsample': 0.9585545402883136, 'colsample_bytree': 0.8480760387045988, 'random_state': 42, 'early_stopping_rounds': 10, 'verbose': -1, 'reg_alpha': 0.46601115331063003, 'reg_lambda': 0.4668153640525182, 'min_child_samples': 15}\n"
     ]
    },
    {
     "name": "stderr",
     "output_type": "stream",
     "text": [
      "INFO:models.ensemble_models:Training LightGBM on 135 samples...\n"
     ]
    },
    {
     "name": "stderr",
     "output_type": "stream",
     "text": [
      "INFO:models.ensemble_models:Training completed in 0.00 seconds\n"
     ]
    },
    {
     "name": "stderr",
     "output_type": "stream",
     "text": [
      "[I 2025-08-16 00:00:05,802] Trial 41 finished with value: 1.0 and parameters: {'num_leaves': 45, 'learning_rate': 0.08168214452958134, 'n_estimators': 197, 'subsample': 0.9585545402883136, 'colsample_bytree': 0.8480760387045988, 'reg_alpha': 0.46601115331063003, 'reg_lambda': 0.4668153640525182, 'min_child_samples': 15}. Best is trial 1 with value: 1.0.\n"
     ]
    },
    {
     "name": "stderr",
     "output_type": "stream",
     "text": [
      "INFO:models.ensemble_models:Initialized LightGBM with parameters: {'objective': 'binary', 'metric': 'auc', 'boosting_type': 'gbdt', 'num_leaves': 60, 'learning_rate': 0.05786190270012099, 'n_estimators': 237, 'subsample': 0.9947325185721638, 'colsample_bytree': 0.8112582064765889, 'random_state': 42, 'early_stopping_rounds': 10, 'verbose': -1, 'reg_alpha': 1.6601252301612555, 'reg_lambda': 2.1857252533488936, 'min_child_samples': 27}\n"
     ]
    },
    {
     "name": "stderr",
     "output_type": "stream",
     "text": [
      "INFO:models.ensemble_models:Training LightGBM on 135 samples...\n"
     ]
    },
    {
     "name": "stderr",
     "output_type": "stream",
     "text": [
      "INFO:models.ensemble_models:Training completed in 0.00 seconds\n"
     ]
    },
    {
     "name": "stderr",
     "output_type": "stream",
     "text": [
      "[I 2025-08-16 00:00:05,821] Trial 42 finished with value: 1.0 and parameters: {'num_leaves': 60, 'learning_rate': 0.05786190270012099, 'n_estimators': 237, 'subsample': 0.9947325185721638, 'colsample_bytree': 0.8112582064765889, 'reg_alpha': 1.6601252301612555, 'reg_lambda': 2.1857252533488936, 'min_child_samples': 27}. Best is trial 1 with value: 1.0.\n"
     ]
    },
    {
     "name": "stderr",
     "output_type": "stream",
     "text": [
      "INFO:models.ensemble_models:Initialized LightGBM with parameters: {'objective': 'binary', 'metric': 'auc', 'boosting_type': 'gbdt', 'num_leaves': 97, 'learning_rate': 0.09576712179492312, 'n_estimators': 237, 'subsample': 0.9712585321623246, 'colsample_bytree': 0.9050037875109899, 'random_state': 42, 'early_stopping_rounds': 10, 'verbose': -1, 'reg_alpha': 0.5255061608153252, 'reg_lambda': 1.599510270083674, 'min_child_samples': 62}\n"
     ]
    },
    {
     "name": "stderr",
     "output_type": "stream",
     "text": [
      "INFO:models.ensemble_models:Training LightGBM on 135 samples...\n"
     ]
    },
    {
     "name": "stderr",
     "output_type": "stream",
     "text": [
      "INFO:models.ensemble_models:Training completed in 0.00 seconds\n"
     ]
    },
    {
     "name": "stderr",
     "output_type": "stream",
     "text": [
      "[I 2025-08-16 00:00:05,840] Trial 43 finished with value: 0.7708333333333334 and parameters: {'num_leaves': 97, 'learning_rate': 0.09576712179492312, 'n_estimators': 237, 'subsample': 0.9712585321623246, 'colsample_bytree': 0.9050037875109899, 'reg_alpha': 0.5255061608153252, 'reg_lambda': 1.599510270083674, 'min_child_samples': 62}. Best is trial 1 with value: 1.0.\n"
     ]
    },
    {
     "name": "stderr",
     "output_type": "stream",
     "text": [
      "INFO:models.ensemble_models:Initialized LightGBM with parameters: {'objective': 'binary', 'metric': 'auc', 'boosting_type': 'gbdt', 'num_leaves': 30, 'learning_rate': 0.127222630475728, 'n_estimators': 282, 'subsample': 0.9182230699826951, 'colsample_bytree': 0.8699521611862587, 'random_state': 42, 'early_stopping_rounds': 10, 'verbose': -1, 'reg_alpha': 1.2051951780615604, 'reg_lambda': 0.5997896416060627, 'min_child_samples': 17}\n"
     ]
    },
    {
     "name": "stderr",
     "output_type": "stream",
     "text": [
      "INFO:models.ensemble_models:Training LightGBM on 135 samples...\n"
     ]
    },
    {
     "name": "stderr",
     "output_type": "stream",
     "text": [
      "INFO:models.ensemble_models:Training completed in 0.00 seconds\n"
     ]
    },
    {
     "name": "stderr",
     "output_type": "stream",
     "text": [
      "[I 2025-08-16 00:00:05,859] Trial 44 finished with value: 1.0 and parameters: {'num_leaves': 30, 'learning_rate': 0.127222630475728, 'n_estimators': 282, 'subsample': 0.9182230699826951, 'colsample_bytree': 0.8699521611862587, 'reg_alpha': 1.2051951780615604, 'reg_lambda': 0.5997896416060627, 'min_child_samples': 17}. Best is trial 1 with value: 1.0.\n"
     ]
    },
    {
     "name": "stderr",
     "output_type": "stream",
     "text": [
      "INFO:models.ensemble_models:Initialized LightGBM with parameters: {'objective': 'binary', 'metric': 'auc', 'boosting_type': 'gbdt', 'num_leaves': 57, 'learning_rate': 0.04345839715083399, 'n_estimators': 268, 'subsample': 0.920934613523083, 'colsample_bytree': 0.6077621803394053, 'random_state': 42, 'early_stopping_rounds': 10, 'verbose': -1, 'reg_alpha': 3.288218236281183, 'reg_lambda': 1.4942627311941006, 'min_child_samples': 8}\n"
     ]
    },
    {
     "name": "stderr",
     "output_type": "stream",
     "text": [
      "INFO:models.ensemble_models:Training LightGBM on 135 samples...\n"
     ]
    },
    {
     "name": "stderr",
     "output_type": "stream",
     "text": [
      "INFO:models.ensemble_models:Training completed in 0.00 seconds\n"
     ]
    },
    {
     "name": "stderr",
     "output_type": "stream",
     "text": [
      "[I 2025-08-16 00:00:05,878] Trial 45 finished with value: 1.0 and parameters: {'num_leaves': 57, 'learning_rate': 0.04345839715083399, 'n_estimators': 268, 'subsample': 0.920934613523083, 'colsample_bytree': 0.6077621803394053, 'reg_alpha': 3.288218236281183, 'reg_lambda': 1.4942627311941006, 'min_child_samples': 8}. Best is trial 1 with value: 1.0.\n"
     ]
    },
    {
     "name": "stderr",
     "output_type": "stream",
     "text": [
      "INFO:models.ensemble_models:Initialized LightGBM with parameters: {'objective': 'binary', 'metric': 'auc', 'boosting_type': 'gbdt', 'num_leaves': 79, 'learning_rate': 0.07515693677163962, 'n_estimators': 216, 'subsample': 0.8905275679037481, 'colsample_bytree': 0.9427937519580221, 'random_state': 42, 'early_stopping_rounds': 10, 'verbose': -1, 'reg_alpha': 1.9177538353053607, 'reg_lambda': 4.230786846558848, 'min_child_samples': 21}\n"
     ]
    },
    {
     "name": "stderr",
     "output_type": "stream",
     "text": [
      "INFO:models.ensemble_models:Training LightGBM on 135 samples...\n"
     ]
    },
    {
     "name": "stderr",
     "output_type": "stream",
     "text": [
      "INFO:models.ensemble_models:Training completed in 0.00 seconds\n"
     ]
    },
    {
     "name": "stderr",
     "output_type": "stream",
     "text": [
      "[I 2025-08-16 00:00:05,897] Trial 46 finished with value: 1.0 and parameters: {'num_leaves': 79, 'learning_rate': 0.07515693677163962, 'n_estimators': 216, 'subsample': 0.8905275679037481, 'colsample_bytree': 0.9427937519580221, 'reg_alpha': 1.9177538353053607, 'reg_lambda': 4.230786846558848, 'min_child_samples': 21}. Best is trial 1 with value: 1.0.\n"
     ]
    },
    {
     "name": "stderr",
     "output_type": "stream",
     "text": [
      "INFO:models.ensemble_models:Initialized LightGBM with parameters: {'objective': 'binary', 'metric': 'auc', 'boosting_type': 'gbdt', 'num_leaves': 114, 'learning_rate': 0.11136182955359884, 'n_estimators': 185, 'subsample': 0.8785644247296562, 'colsample_bytree': 0.8518815585373747, 'random_state': 42, 'early_stopping_rounds': 10, 'verbose': -1, 'reg_alpha': 2.6633371853118497, 'reg_lambda': 0.6046138220719491, 'min_child_samples': 31}\n"
     ]
    },
    {
     "name": "stderr",
     "output_type": "stream",
     "text": [
      "INFO:models.ensemble_models:Training LightGBM on 135 samples...\n"
     ]
    },
    {
     "name": "stderr",
     "output_type": "stream",
     "text": [
      "INFO:models.ensemble_models:Training completed in 0.00 seconds\n"
     ]
    },
    {
     "name": "stderr",
     "output_type": "stream",
     "text": [
      "[I 2025-08-16 00:00:05,916] Trial 47 finished with value: 1.0 and parameters: {'num_leaves': 114, 'learning_rate': 0.11136182955359884, 'n_estimators': 185, 'subsample': 0.8785644247296562, 'colsample_bytree': 0.8518815585373747, 'reg_alpha': 2.6633371853118497, 'reg_lambda': 0.6046138220719491, 'min_child_samples': 31}. Best is trial 1 with value: 1.0.\n"
     ]
    },
    {
     "name": "stderr",
     "output_type": "stream",
     "text": [
      "INFO:models.ensemble_models:Initialized LightGBM with parameters: {'objective': 'binary', 'metric': 'auc', 'boosting_type': 'gbdt', 'num_leaves': 96, 'learning_rate': 0.1946039964673385, 'n_estimators': 246, 'subsample': 0.8430709046843495, 'colsample_bytree': 0.8052560629351664, 'random_state': 42, 'early_stopping_rounds': 10, 'verbose': -1, 'reg_alpha': 7.65884686532012, 'reg_lambda': 3.0058886282869084, 'min_child_samples': 26}\n"
     ]
    },
    {
     "name": "stderr",
     "output_type": "stream",
     "text": [
      "INFO:models.ensemble_models:Training LightGBM on 135 samples...\n"
     ]
    },
    {
     "name": "stderr",
     "output_type": "stream",
     "text": [
      "INFO:models.ensemble_models:Training completed in 0.00 seconds\n"
     ]
    },
    {
     "name": "stderr",
     "output_type": "stream",
     "text": [
      "[I 2025-08-16 00:00:05,935] Trial 48 finished with value: 1.0 and parameters: {'num_leaves': 96, 'learning_rate': 0.1946039964673385, 'n_estimators': 246, 'subsample': 0.8430709046843495, 'colsample_bytree': 0.8052560629351664, 'reg_alpha': 7.65884686532012, 'reg_lambda': 3.0058886282869084, 'min_child_samples': 26}. Best is trial 1 with value: 1.0.\n"
     ]
    },
    {
     "name": "stderr",
     "output_type": "stream",
     "text": [
      "INFO:models.ensemble_models:Initialized LightGBM with parameters: {'objective': 'binary', 'metric': 'auc', 'boosting_type': 'gbdt', 'num_leaves': 149, 'learning_rate': 0.29865605277019974, 'n_estimators': 158, 'subsample': 0.9710819073115804, 'colsample_bytree': 0.9158628165297223, 'random_state': 42, 'early_stopping_rounds': 10, 'verbose': -1, 'reg_alpha': 1.290831325571761, 'reg_lambda': 5.45368057704115, 'min_child_samples': 38}\n"
     ]
    },
    {
     "name": "stderr",
     "output_type": "stream",
     "text": [
      "INFO:models.ensemble_models:Training LightGBM on 135 samples...\n"
     ]
    },
    {
     "name": "stderr",
     "output_type": "stream",
     "text": [
      "INFO:models.ensemble_models:Training completed in 0.00 seconds\n"
     ]
    },
    {
     "name": "stderr",
     "output_type": "stream",
     "text": [
      "[I 2025-08-16 00:00:05,954] Trial 49 finished with value: 1.0 and parameters: {'num_leaves': 149, 'learning_rate': 0.29865605277019974, 'n_estimators': 158, 'subsample': 0.9710819073115804, 'colsample_bytree': 0.9158628165297223, 'reg_alpha': 1.290831325571761, 'reg_lambda': 5.45368057704115, 'min_child_samples': 38}. Best is trial 1 with value: 1.0.\n"
     ]
    },
    {
     "name": "stderr",
     "output_type": "stream",
     "text": [
      "INFO:models.ensemble_models:Optimization completed in 0.77 seconds\n"
     ]
    },
    {
     "name": "stderr",
     "output_type": "stream",
     "text": [
      "INFO:models.ensemble_models:Best AUC-ROC: 1.0000\n"
     ]
    },
    {
     "name": "stderr",
     "output_type": "stream",
     "text": [
      "INFO:models.ensemble_models:Best parameters: {'num_leaves': 160, 'learning_rate': 0.21423998386768983, 'n_estimators': 248, 'subsample': 0.7921936213803429, 'colsample_bytree': 0.9363323868434624, 'reg_alpha': 1.3789695257512158, 'reg_lambda': 1.4306287877781931, 'min_child_samples': 32}\n"
     ]
    },
    {
     "name": "stdout",
     "output_type": "stream",
     "text": [
      "\n",
      "✓ LightGBM optimization completed\n",
      "  Best validation AUC-ROC: 1.0000\n",
      "  Optimization time: 0.8s\n",
      "  Best parameters: {'num_leaves': 160, 'learning_rate': 0.21423998386768983, 'n_estimators': 248, 'subsample': 0.7921936213803429, 'colsample_bytree': 0.9363323868434624, 'reg_alpha': 1.3789695257512158, 'reg_lambda': 1.4306287877781931, 'min_child_samples': 32}\n"
     ]
    }
   ],
   "source": [
    "# Hyperparameter optimization for LightGBM\n",
    "print(\"Running hyperparameter optimization for LightGBM...\")\n",
    "print(\"(This may take several minutes)\")\n",
    "\n",
    "lgb_optimizer = EnsembleModelOptimizer(model_type=\"lightgbm\", n_trials=50)  # Reduced for demo\n",
    "lgb_opt_results = lgb_optimizer.optimize(X_train, y_train, X_val, y_val)\n",
    "\n",
    "print(\"\\nLightGBM optimization completed\")\n",
    "print(f\"  Best validation AUC-ROC: {lgb_opt_results['best_score']:.4f}\")\n",
    "print(f\"  Optimization time: {lgb_opt_results['optimization_time_seconds']:.1f}s\")\n",
    "print(f\"  Best parameters: {lgb_opt_results['best_params']}\")"
   ]
  },
  {
   "cell_type": "code",
   "execution_count": 13,
   "metadata": {},
   "outputs": [
    {
     "name": "stderr",
     "output_type": "stream",
     "text": [
      "INFO:models.ensemble_models:Initialized LightGBM with parameters: {'objective': 'binary', 'metric': 'auc', 'boosting_type': 'gbdt', 'num_leaves': 202, 'learning_rate': 0.19566825287534065, 'n_estimators': 56, 'subsample': 0.645988200402658, 'colsample_bytree': 0.7528253139761326, 'random_state': 42, 'early_stopping_rounds': 10, 'verbose': -1, 'reg_alpha': 4.420784852646543, 'reg_lambda': 9.759371067669674, 'min_child_samples': 28}\n",
      "INFO:models.ensemble_models:Training LightGBM on 135 samples...\n",
      "INFO:models.ensemble_models:Training completed in 0.00 seconds\n",
      "INFO:models.ensemble_models:LightGBM evaluation completed:\n",
      "INFO:models.ensemble_models:  Test AUC-ROC: 0.9924\n",
      "INFO:models.ensemble_models:  Test F1: 0.9302\n"
     ]
    },
    {
     "name": "stdout",
     "output_type": "stream",
     "text": [
      "Training optimized LightGBM model...\n",
      "Optimized LightGBM model trained\n",
      "  Test AUC-ROC: 0.9924\n",
      "  Test F1: 0.9302\n",
      "  Improvement over default: 0.0000 AUC-ROC\n"
     ]
    },
    {
     "name": "stderr",
     "output_type": "stream",
     "text": [
      "INFO:models.ensemble_models:Training completed in 0.00 seconds\n"
     ]
    },
    {
     "name": "stderr",
     "output_type": "stream",
     "text": [
      "INFO:models.ensemble_models:LightGBM evaluation completed:\n"
     ]
    },
    {
     "name": "stderr",
     "output_type": "stream",
     "text": [
      "INFO:models.ensemble_models:  Test AUC-ROC: 0.9953\n"
     ]
    },
    {
     "name": "stderr",
     "output_type": "stream",
     "text": [
      "INFO:models.ensemble_models:  Test F1: 0.9000\n"
     ]
    },
    {
     "name": "stdout",
     "output_type": "stream",
     "text": [
      "Training optimized LightGBM model...\n",
      "✓ Optimized LightGBM model trained\n",
      "  Test AUC-ROC: 0.9953\n",
      "  Test F1: 0.9000\n",
      "  Improvement over default: 0.0028 AUC-ROC\n"
     ]
    }
   ],
   "source": [
    "# Train optimized LightGBM model\n",
    "print(\"Training optimized LightGBM model...\")\n",
    "\n",
    "lgb_optimized = lgb_optimizer.get_optimized_model()\n",
    "lgb_opt_results_full = lgb_optimized.train_and_evaluate(X_train, y_train, X_test, y_test, X_val, y_val)\n",
    "\n",
    "print(\"Optimized LightGBM model trained\")\n",
    "print(f\"  Test AUC-ROC: {lgb_opt_results_full['test_metrics']['auc_roc']:.4f}\")\n",
    "print(f\"  Test F1: {lgb_opt_results_full['test_metrics']['f1_score']:.4f}\")\n",
    "\n",
    "# Compare with default LightGBM\n",
    "improvement = lgb_opt_results_full[\"test_metrics\"][\"auc_roc\"] - lgb_results[\"test_metrics\"][\"auc_roc\"]\n",
    "print(f\"  Improvement over default: {improvement:.4f} AUC-ROC\")"
   ]
  },
  {
   "cell_type": "markdown",
   "metadata": {},
   "source": [
    "## 6. Model Comparison and Evaluation"
   ]
  },
  {
   "cell_type": "code",
   "execution_count": 14,
   "metadata": {},
   "outputs": [
    {
     "name": "stdout",
     "output_type": "stream",
     "text": [
      "COMPREHENSIVE MODEL COMPARISON\n",
      "==================================================\n",
      "MODEL COMPARISON RESULTS\n",
      "==================================================\n",
      "               model  test_auc_roc  test_f1_score  test_precision  test_recall  training_time\n",
      " Logistic Regression        0.9981         0.9343          0.9420       0.9348         0.0027\n",
      "   XGBoost (Default)        0.9962         0.9778          0.9565       1.0000         0.2183\n",
      "  LightGBM (Default)        0.9924         0.9000          1.0000       0.8182         0.2922\n",
      " XGBoost (Optimized)        0.9962         0.9000          1.0000       0.8182         0.0291\n",
      "LightGBM (Optimized)        0.9924         0.9302          0.9524       0.9091         0.0048\n",
      "\n",
      "Best performing model: Logistic Regression (AUC-ROC: 0.9981)\n",
      "\n",
      "Best performing model: Logistic Regression\n"
     ]
    }
   ],
   "source": [
    "# Compare all models\n",
    "print(\"COMPREHENSIVE MODEL COMPARISON\")\n",
    "print(\"=\" * 50)\n",
    "\n",
    "model_comparison = ModelComparison()\n",
    "model_comparison.add_model_results(\"Logistic Regression\", baseline_results)\n",
    "model_comparison.add_model_results(\"XGBoost (Default)\", xgb_results)\n",
    "model_comparison.add_model_results(\"LightGBM (Default)\", lgb_results)\n",
    "model_comparison.add_model_results(\"XGBoost (Optimized)\", xgb_opt_results_full)\n",
    "model_comparison.add_model_results(\"LightGBM (Optimized)\", lgb_opt_results_full)\n",
    "\n",
    "# Print comparison\n",
    "model_comparison.print_comparison()\n",
    "\n",
    "# Get best model\n",
    "best_model_name = model_comparison.get_best_model(\"test_auc_roc\")\n",
    "print(f\"\\nBest performing model: {best_model_name}\")"
   ]
  },
  {
   "cell_type": "code",
   "execution_count": 15,
   "metadata": {},
   "outputs": [
    {
     "data": {
      "image/png": "[encoded data removed]",
      "text/plain": [
       "<Figure size 1500x1000 with 4 Axes>"
      ]
     },
     "metadata": {},
     "output_type": "display_data"
    }
   ],
   "source": [
    "# Visualize model comparison\n",
    "comparison_df = model_comparison.get_comparison_dataframe()\n",
    "\n",
    "fig, axes = plt.subplots(2, 2, figsize=(15, 10))\n",
    "fig.suptitle(\"Model Performance Comparison\", fontsize=16, fontweight=\"bold\")\n",
    "\n",
    "# AUC-ROC comparison\n",
    "axes[0, 0].bar(comparison_df[\"model\"], comparison_df[\"test_auc_roc\"], color=\"skyblue\")\n",
    "axes[0, 0].set_title(\"Test AUC-ROC\")\n",
    "axes[0, 0].set_ylabel(\"AUC-ROC Score\")\n",
    "axes[0, 0].tick_params(axis=\"x\", rotation=45)\n",
    "axes[0, 0].set_ylim(0.8, 1.0)\n",
    "\n",
    "# F1 Score comparison\n",
    "axes[0, 1].bar(comparison_df[\"model\"], comparison_df[\"test_f1_score\"], color=\"lightcoral\")\n",
    "axes[0, 1].set_title(\"Test F1 Score\")\n",
    "axes[0, 1].set_ylabel(\"F1 Score\")\n",
    "axes[0, 1].tick_params(axis=\"x\", rotation=45)\n",
    "\n",
    "# Precision vs Recall\n",
    "axes[1, 0].scatter(comparison_df[\"test_recall\"], comparison_df[\"test_precision\"],\n",
    "                  s=100, alpha=0.7, c=range(len(comparison_df)), cmap=\"viridis\")\n",
    "for i, model in enumerate(comparison_df[\"model\"]):\n",
    "    axes[1, 0].annotate(model, (comparison_df.iloc[i][\"test_recall\"],\n",
    "                               comparison_df.iloc[i][\"test_precision\"]),\n",
    "                       xytext=(5, 5), textcoords=\"offset points\", fontsize=8)\n",
    "axes[1, 0].set_xlabel(\"Recall\")\n",
    "axes[1, 0].set_ylabel(\"Precision\")\n",
    "axes[1, 0].set_title(\"Precision vs Recall\")\n",
    "axes[1, 0].grid(True, alpha=0.3)\n",
    "\n",
    "# Training time comparison\n",
    "axes[1, 1].bar(comparison_df[\"model\"], comparison_df[\"training_time\"], color=\"lightgreen\")\n",
    "axes[1, 1].set_title(\"Training Time\")\n",
    "axes[1, 1].set_ylabel(\"Seconds\")\n",
    "axes[1, 1].tick_params(axis=\"x\", rotation=45)\n",
    "\n",
    "plt.tight_layout()\n",
    "plt.show()"
   ]
  },
  {
   "cell_type": "markdown",
   "metadata": {},
   "source": [
    "## 7. SHAP Analysis for Model Interpretability"
   ]
  },
  {
   "cell_type": "code",
   "execution_count": 16,
   "metadata": {},
   "outputs": [
    {
     "name": "stdout",
     "output_type": "stream",
     "text": [
      "Performing SHAP analysis for model interpretability...\n",
      "SHAP analysis not available for logistic regression baseline\n",
      "Skipping SHAP analysis for baseline model\n"
     ]
    }
   ],
   "source": [
    "# SHAP analysis for the best performing model\n",
    "print(\"Performing SHAP analysis for model interpretability...\")\n",
    "\n",
    "# Select best model for SHAP analysis\n",
    "if \"XGBoost\" in best_model_name:\n",
    "    if \"Optimized\" in best_model_name:\n",
    "        best_model = xgb_optimized\n",
    "    else:\n",
    "        best_model = xgb_model\n",
    "elif \"LightGBM\" in best_model_name:\n",
    "    if \"Optimized\" in best_model_name:\n",
    "        best_model = lgb_optimized\n",
    "    else:\n",
    "        best_model = lgb_model\n",
    "else:\n",
    "    print(\"SHAP analysis not available for logistic regression baseline\")\n",
    "    best_model = None\n",
    "\n",
    "if best_model is not None:\n",
    "    # Use a sample of data for SHAP analysis (for performance)\n",
    "    sample_size = min(100, len(X_test))\n",
    "    X_sample = X_test.sample(n=sample_size, random_state=42)\n",
    "\n",
    "    shap_results = analyze_model_with_shap(best_model, X_sample, list(X.columns))\n",
    "\n",
    "    if shap_results is not None:\n",
    "        print(\"✓ SHAP analysis completed\")\n",
    "\n",
    "        # Display SHAP feature importance\n",
    "        print(\"\\nTop 15 Features by SHAP Importance:\")\n",
    "        print(\"-\" * 50)\n",
    "        shap_importance = shap_results[\"feature_importance\"].head(15)\n",
    "        for i, row in shap_importance.iterrows():\n",
    "            print(f\"{i+1:2d}. {row['feature']:<35} {row['shap_importance']:.4f}\")\n",
    "\n",
    "        # Plot SHAP importance\n",
    "        plt.figure(figsize=(12, 8))\n",
    "        top_shap = shap_importance.head(20)\n",
    "        plt.barh(range(len(top_shap)), top_shap[\"shap_importance\"])\n",
    "        plt.yticks(range(len(top_shap)), top_shap[\"feature\"])\n",
    "        plt.xlabel(\"SHAP Importance\")\n",
    "        plt.title(f\"SHAP Feature Importance - {best_model_name}\")\n",
    "        plt.gca().invert_yaxis()\n",
    "        plt.tight_layout()\n",
    "        plt.show()\n",
    "    else:\n",
    "        print(\"SHAP analysis failed - continuing without interpretability analysis\")\n",
    "else:\n",
    "    print(\"Skipping SHAP analysis for baseline model\")"
   ]
  },
  {
   "cell_type": "markdown",
   "metadata": {},
   "source": [
    "## 8. Business Impact Analysis for Best Model"
   ]
  },
  {
   "cell_type": "code",
   "execution_count": 17,
   "metadata": {},
   "outputs": [
    {
     "name": "stdout",
     "output_type": "stream",
     "text": [
      "BUSINESS IMPACT ANALYSIS - BEST MODEL\n",
      "==================================================\n",
      "Business Parameters:\n",
      "  Intervention cost: $15.00 per user\n",
      "  Churn value loss: $120.00 per user\n",
      "  Intervention success rate: 25.0%\n",
      "\n",
      "BUSINESS SCENARIOS:\n",
      "Target%  Users  TP   Precision Costs   Savings  Net      ROI   \n",
      "------------------------------------------------------------\n",
      "5        3      3    1.000     $45     $90      $45      100.0%\n",
      "10       5      5    1.000     $75     $150     $75      100.0%\n",
      "15       7      7    1.000     $105    $210     $105     100.0%\n",
      "20       10     10   1.000     $150    $300     $150     100.0%\n",
      "25       12     12   1.000     $180    $360     $180     100.0%\n",
      "30       14     14   1.000     $210    $420     $210     100.0%\n",
      "\n",
      "OPTIMAL STRATEGY: Target top 30% of users\n",
      "   Expected ROI: 100.0%\n",
      "   Net impact: $210\n",
      "   Precision: 1.000\n",
      "\n",
      "IMPROVEMENT OVER BASELINE:\n",
      "   AUC-ROC improvement: 0.0000 (0.0%)\n",
      "   Model: Logistic Regression\n"
     ]
    }
   ],
   "source": [
    "# Business impact analysis for the best model\n",
    "print(\"BUSINESS IMPACT ANALYSIS - BEST MODEL\")\n",
    "print(\"=\" * 50)\n",
    "\n",
    "# Get predictions from best model\n",
    "if \"XGBoost\" in best_model_name:\n",
    "    if \"Optimized\" in best_model_name:\n",
    "        y_pred_proba = xgb_optimized.predict_proba(X_test)\n",
    "        best_results = xgb_opt_results_full\n",
    "    else:\n",
    "        y_pred_proba = xgb_model.predict_proba(X_test)\n",
    "        best_results = xgb_results\n",
    "elif \"LightGBM\" in best_model_name:\n",
    "    if \"Optimized\" in best_model_name:\n",
    "        y_pred_proba = lgb_optimized.predict_proba(X_test)\n",
    "        best_results = lgb_opt_results_full\n",
    "    else:\n",
    "        y_pred_proba = lgb_model.predict_proba(X_test)\n",
    "        best_results = lgb_results\n",
    "else:\n",
    "    # Use baseline logistic regression\n",
    "    y_pred_proba = baseline_lr.predict_proba(X_test_scaled)[:, 1]\n",
    "    best_results = baseline_results\n",
    "\n",
    "# Business parameters\n",
    "intervention_cost = 15.0\n",
    "churn_value_loss = 120.0\n",
    "intervention_success_rate = 0.25\n",
    "\n",
    "print(\"Business Parameters:\")\n",
    "print(f\"  Intervention cost: ${intervention_cost:.2f} per user\")\n",
    "print(f\"  Churn value loss: ${churn_value_loss:.2f} per user\")\n",
    "print(f\"  Intervention success rate: {intervention_success_rate:.1%}\")\n",
    "\n",
    "# Calculate business metrics for different targeting strategies\n",
    "targeting_percentiles = [5, 10, 15, 20, 25, 30]\n",
    "business_scenarios = []\n",
    "\n",
    "for pct in targeting_percentiles:\n",
    "    threshold = np.percentile(y_pred_proba, 100 - pct)\n",
    "    targeted_users = (y_pred_proba >= threshold)\n",
    "    n_targeted = targeted_users.sum()\n",
    "\n",
    "    if n_targeted == 0:\n",
    "        continue\n",
    "\n",
    "    # True positives (correctly identified churners)\n",
    "    tp = (targeted_users & (y_test == 1)).sum()\n",
    "    precision = tp / n_targeted if n_targeted > 0 else 0\n",
    "    recall = tp / y_test.sum() if y_test.sum() > 0 else 0\n",
    "\n",
    "    # Business calculations\n",
    "    intervention_costs = n_targeted * intervention_cost\n",
    "    prevented_churns = tp * intervention_success_rate\n",
    "    prevented_loss = prevented_churns * churn_value_loss\n",
    "    net_impact = prevented_loss - intervention_costs\n",
    "    roi = net_impact / intervention_costs if intervention_costs > 0 else 0\n",
    "\n",
    "    business_scenarios.append({\n",
    "        \"targeting_pct\": pct,\n",
    "        \"targeted_users\": n_targeted,\n",
    "        \"correctly_identified\": tp,\n",
    "        \"precision\": precision,\n",
    "        \"recall\": recall,\n",
    "        \"intervention_costs\": intervention_costs,\n",
    "        \"prevented_loss\": prevented_loss,\n",
    "        \"net_impact\": net_impact,\n",
    "        \"roi\": roi\n",
    "    })\n",
    "\n",
    "# Find optimal scenario\n",
    "optimal_scenario = max(business_scenarios, key=lambda x: x[\"net_impact\"])\n",
    "\n",
    "print(\"\\nBUSINESS SCENARIOS:\")\n",
    "print(f\"{'Target%':<8} {'Users':<6} {'TP':<4} {'Precision':<9} {'Costs':<7} {'Savings':<8} {'Net':<8} {'ROI':<6}\")\n",
    "print(\"-\" * 60)\n",
    "\n",
    "for scenario in business_scenarios:\n",
    "    print(f\"{scenario['targeting_pct']:<8} {scenario['targeted_users']:<6} {scenario['correctly_identified']:<4} \"\n",
    "          f\"{scenario['precision']:<9.3f} ${scenario['intervention_costs']:<6.0f} ${scenario['prevented_loss']:<7.0f} \"\n",
    "          f\"${scenario['net_impact']:<7.0f} {scenario['roi']:<6.1%}\")\n",
    "\n",
    "print(f\"\\nOPTIMAL STRATEGY: Target top {optimal_scenario['targeting_pct']}% of users\")\n",
    "print(f\"   Expected ROI: {optimal_scenario['roi']:.1%}\")\n",
    "print(f\"   Net impact: ${optimal_scenario['net_impact']:.0f}\")\n",
    "print(f\"   Precision: {optimal_scenario['precision']:.3f}\")\n",
    "\n",
    "# Compare with baseline business impact\n",
    "print(\"\\nIMPROVEMENT OVER BASELINE:\")\n",
    "baseline_auc = baseline_results[\"test_metrics\"][\"auc_roc\"]\n",
    "best_auc = best_results[\"test_metrics\"][\"auc_roc\"]\n",
    "auc_improvement = best_auc - baseline_auc\n",
    "print(f\"   AUC-ROC improvement: {auc_improvement:.4f} ({auc_improvement/baseline_auc:.1%})\")\n",
    "print(f\"   Model: {best_model_name}\")"
   ]
  },
  {
   "cell_type": "markdown",
   "metadata": {},
   "source": [
    "## 9. Model Selection and Next Steps"
   ]
  },
  {
   "cell_type": "code",
   "execution_count": 19,
   "metadata": {},
   "outputs": [
    {
     "name": "stdout",
     "output_type": "stream",
     "text": [
      "FINAL MODEL SELECTION AND RECOMMENDATIONS\n",
      "============================================================\n",
      "SELECTED MODEL: Logistic Regression\n",
      "   Test AUC-ROC: 0.9981\n",
      "   Test F1 Score: 0.9343\n",
      "   Test Precision: 0.9420\n",
      "   Test Recall: 0.9348\n",
      "\n",
      "SUCCESS CRITERIA ASSESSMENT:\n",
      "   Pass AUC-ROC > 0.80: 0.9981\n",
      "   Pass Business viability (positive ROI): 100.0%\n",
      "\n",
      "   Overall Success Rate: 100.0% (2/2 criteria passed)\n",
      "\n",
      "  ADVANCED MODELS EXCEED SUCCESS CRITERIA!\n",
      "\n",
      "MODEL ARTIFACTS:\n",
      "   Selected model: Logistic Regression\n",
      "   Features used: 53\n",
      "   Training samples: 135\n",
      "   Model ready for production deployment\n"
     ]
    }
   ],
   "source": [
    "# Final model selection and recommendations\n",
    "print(\"FINAL MODEL SELECTION AND RECOMMENDATIONS\")\n",
    "print(\"=\" * 60)\n",
    "\n",
    "print(f\"SELECTED MODEL: {best_model_name}\")\n",
    "print(f\"   Test AUC-ROC: {best_results['test_metrics']['auc_roc']:.4f}\")\n",
    "print(f\"   Test F1 Score: {best_results['test_metrics']['f1_score']:.4f}\")\n",
    "print(f\"   Test Precision: {best_results['test_metrics']['precision']:.4f}\")\n",
    "print(f\"   Test Recall: {best_results['test_metrics']['recall']:.4f}\")\n",
    "\n",
    "print(\"\\nSUCCESS CRITERIA ASSESSMENT:\")\n",
    "test_auc = best_results[\"test_metrics\"][\"auc_roc\"]\n",
    "criteria = [\n",
    "    (\"AUC-ROC > 0.80\", test_auc, 0.80, \"≥\"),\n",
    "    (\"Business viability (positive ROI)\", optimal_scenario[\"roi\"], 0, \">\")\n",
    "]\n",
    "\n",
    "passed_criteria = 0\n",
    "for criterion, value, threshold, operator in criteria:\n",
    "    if operator == \"≥\":\n",
    "        passed = value >= threshold\n",
    "    elif operator == \">\":\n",
    "        passed = value > threshold\n",
    "\n",
    "    status = \"Pass\" if passed else \"Fail\"\n",
    "    passed_criteria += int(passed)\n",
    "\n",
    "    if criterion.startswith(\"AUC-ROC\"):\n",
    "        print(f\"   {status} {criterion}: {value:.4f}\")\n",
    "    else:\n",
    "        print(f\"   {status} {criterion}: {value:.1%}\")\n",
    "\n",
    "success_rate = passed_criteria / len(criteria)\n",
    "print(f\"\\n   Overall Success Rate: {success_rate:.1%} ({passed_criteria}/{len(criteria)} criteria passed)\")\n",
    "\n",
    "if success_rate >= 0.5:\n",
    "    print(\"\\n  ADVANCED MODELS EXCEED SUCCESS CRITERIA!\")\n",
    "else:\n",
    "    print(\"\\n  Models need further improvement\")\n",
    "\n",
    "\n",
    "print(\"\\nMODEL ARTIFACTS:\")\n",
    "print(f\"   Selected model: {best_model_name}\")\n",
    "print(f\"   Features used: {len(X.columns)}\")\n",
    "print(f\"   Training samples: {len(X_train)}\")\n",
    "print(\"   Model ready for production deployment\")"
   ]
  },
  {
   "cell_type": "code",
   "execution_count": 20,
   "metadata": {},
   "outputs": [
    {
     "name": "stdout",
     "output_type": "stream",
     "text": [
      "Baseline model saved to ../models/baseline_churn_model.joblib\n",
      "\n",
      "Phase 4.2: Advanced Model Development COMPLETED!\n",
      "   Ready to proceed to Phase 5: MLOps & Deployment\n"
     ]
    }
   ],
   "source": [
    "# Save the best model for production use\n",
    "import os\n",
    "\n",
    "os.makedirs(\"../models\", exist_ok=True)\n",
    "\n",
    "if \"XGBoost\" in best_model_name:\n",
    "    if \"Optimized\" in best_model_name:\n",
    "        model_to_save = xgb_optimized\n",
    "        model_filename = \"../models/xgboost_optimized_churn_model.joblib\"\n",
    "    else:\n",
    "        model_to_save = xgb_model\n",
    "        model_filename = \"../models/xgboost_churn_model.joblib\"\n",
    "elif \"LightGBM\" in best_model_name:\n",
    "    if \"Optimized\" in best_model_name:\n",
    "        model_to_save = lgb_optimized\n",
    "        model_filename = \"../models/lightgbm_optimized_churn_model.joblib\"\n",
    "    else:\n",
    "        model_to_save = lgb_model\n",
    "        model_filename = \"../models/lightgbm_churn_model.joblib\"\n",
    "else:\n",
    "    # Save baseline model\n",
    "    model_filename = \"../models/baseline_churn_model.joblib\"\n",
    "    import joblib\n",
    "    model_data = {\n",
    "        \"model\": baseline_lr,\n",
    "        \"scaler\": scaler,\n",
    "        \"feature_names\": list(X.columns),\n",
    "        \"model_name\": \"Logistic Regression Baseline\"\n",
    "    }\n",
    "    joblib.dump(model_data, model_filename)\n",
    "    print(f\"Baseline model saved to {model_filename}\")\n",
    "    model_to_save = None\n",
    "\n",
    "if model_to_save is not None:\n",
    "    model_to_save.save_model(model_filename)\n",
    "    print(f\"Best model saved to {model_filename}\")"
   ]
  },
  {
   "cell_type": "code",
   "execution_count": null,
   "metadata": {},
   "outputs": [],
   "source": []
  }
 ],
 "metadata": {
  "kernelspec": {
   "display_name": "Python 3 (ipykernel)",
   "language": "python",
   "name": "python3"
  },
  "language_info": {
   "codemirror_mode": {
    "name": "ipython",
    "version": 3
   },
   "file_extension": ".py",
   "mimetype": "text/x-python",
   "name": "python",
   "nbconvert_exporter": "python",
   "pygments_lexer": "ipython3",
   "version": "3.12.11"
  }
 },
 "nbformat": 4,
 "nbformat_minor": 4
}
